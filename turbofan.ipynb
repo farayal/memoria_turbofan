{
  "nbformat": 4,
  "nbformat_minor": 0,
  "metadata": {
    "kernelspec": {
      "name": "python3",
      "display_name": "Python 3"
    },
    "language_info": {
      "codemirror_mode": {
        "name": "ipython",
        "version": 3
      },
      "file_extension": ".py",
      "mimetype": "text/x-python",
      "name": "python",
      "nbconvert_exporter": "python",
      "pygments_lexer": "ipython3",
      "version": "3.7.1"
    },
    "colab": {
      "name": "turbofan.ipynb",
      "provenance": [],
      "collapsed_sections": [],
      "toc_visible": true,
      "include_colab_link": true
    },
    "accelerator": "GPU"
  },
  "cells": [
    {
      "cell_type": "markdown",
      "metadata": {
        "id": "view-in-github",
        "colab_type": "text"
      },
      "source": [
        "<a href=\"https://colab.research.google.com/github/farayal/memoria_turbofan/blob/master/turbofan.ipynb\" target=\"_parent\"><img src=\"https://colab.research.google.com/assets/colab-badge.svg\" alt=\"Open In Colab\"/></a>"
      ]
    },
    {
      "cell_type": "code",
      "metadata": {
        "id": "iWcMxjIzXsWZ",
        "colab_type": "code",
        "colab": {}
      },
      "source": [
        "import matplotlib.pyplot as plt\n",
        "import pandas as pd\n",
        "import numpy as np\n",
        "import seaborn as sns\n",
        "from sklearn.preprocessing import MinMaxScaler\n",
        "\n",
        "%matplotlib inline"
      ],
      "execution_count": 0,
      "outputs": []
    },
    {
      "cell_type": "markdown",
      "metadata": {
        "id": "B5YNYPgOP7_J",
        "colab_type": "text"
      },
      "source": [
        "### Train Set preprocesamiento\n"
      ]
    },
    {
      "cell_type": "code",
      "metadata": {
        "id": "bBQtEyIjXsWd",
        "colab_type": "code",
        "colab": {}
      },
      "source": [
        "#Creación dataframe train set para preprocesamiento \n",
        "\n",
        "df = pd.read_csv('train_FD001.txt', sep = ' ', header = None)\n",
        "df = df.drop(columns=[26, 27])\n",
        "df.columns = ([\"n_engine\",\"cycle\",\"opset_1\",\"opset_2\",\"opset_3\",\n",
        "              \"sens_1\",\"sens_2\",\"sens_3\",\"sens_4\",\"sens_5\",\"sens_6\",\"sens_7\",\"sens_8\",\"sens_9\",\"sens_10\",\n",
        "              \"sens_11\",\"sens_12\",\"sens_13\",\"sens_14\",\"sens_15\",\"sens_16\",\"sens_17\",\"sens_18\",\"sens_19\",\"sens_20\",\"sens_21\"])\n",
        "df = df.drop(['sens_1','sens_5','sens_6','sens_10','sens_16','sens_18','sens_19'],axis=1)"
      ],
      "execution_count": 0,
      "outputs": []
    },
    {
      "cell_type": "code",
      "metadata": {
        "id": "wu1lGYaaXsWo",
        "colab_type": "code",
        "colab": {}
      },
      "source": [
        "#Agregada variable RUL a df y normalización de columnas (salvo RUL)\n",
        "RUL_temp=np.zeros(0)\n",
        "for i in range(1,df['n_engine'].max() + 1):\n",
        "    minus = np.linspace(1,df[df['n_engine']==i]['cycle'].max(),df[df['n_engine']==i]['cycle'].max())\n",
        "    RUL_engine = np.ones((df[df['n_engine']==i]['cycle'].max()))*df[df['n_engine']==i]['cycle'].max()\n",
        "    RUL_temp = np.append(RUL_temp,RUL_engine-minus)\n",
        "df['RUL'] = RUL_temp\n",
        "df['RUL'] = df['RUL'].astype(int)\n",
        "scaler = MinMaxScaler(feature_range=(-1,1))\n",
        "df[df.columns[1:19]]= scaler.fit_transform(df[df.columns[1:19]])"
      ],
      "execution_count": 0,
      "outputs": []
    },
    {
      "cell_type": "code",
      "metadata": {
        "id": "GYN_qflVXsWs",
        "colab_type": "code",
        "outputId": "4ca2f288-30c3-4574-ee37-5eefdbe98d65",
        "colab": {
          "base_uri": "https://localhost:8080/",
          "height": 224
        }
      },
      "source": [
        "#contenido dataframe df\n",
        "df.iloc[0:30][:].head()"
      ],
      "execution_count": 4,
      "outputs": [
        {
          "output_type": "execute_result",
          "data": {
            "text/html": [
              "<div>\n",
              "<style scoped>\n",
              "    .dataframe tbody tr th:only-of-type {\n",
              "        vertical-align: middle;\n",
              "    }\n",
              "\n",
              "    .dataframe tbody tr th {\n",
              "        vertical-align: top;\n",
              "    }\n",
              "\n",
              "    .dataframe thead th {\n",
              "        text-align: right;\n",
              "    }\n",
              "</style>\n",
              "<table border=\"1\" class=\"dataframe\">\n",
              "  <thead>\n",
              "    <tr style=\"text-align: right;\">\n",
              "      <th></th>\n",
              "      <th>n_engine</th>\n",
              "      <th>cycle</th>\n",
              "      <th>opset_1</th>\n",
              "      <th>opset_2</th>\n",
              "      <th>opset_3</th>\n",
              "      <th>sens_2</th>\n",
              "      <th>sens_3</th>\n",
              "      <th>sens_4</th>\n",
              "      <th>sens_7</th>\n",
              "      <th>sens_8</th>\n",
              "      <th>sens_9</th>\n",
              "      <th>sens_11</th>\n",
              "      <th>sens_12</th>\n",
              "      <th>sens_13</th>\n",
              "      <th>sens_14</th>\n",
              "      <th>sens_15</th>\n",
              "      <th>sens_17</th>\n",
              "      <th>sens_20</th>\n",
              "      <th>sens_21</th>\n",
              "      <th>RUL</th>\n",
              "    </tr>\n",
              "  </thead>\n",
              "  <tbody>\n",
              "    <tr>\n",
              "      <th>0</th>\n",
              "      <td>1</td>\n",
              "      <td>-1.000000</td>\n",
              "      <td>-0.080460</td>\n",
              "      <td>-0.666667</td>\n",
              "      <td>-1.0</td>\n",
              "      <td>-0.632530</td>\n",
              "      <td>-0.186396</td>\n",
              "      <td>-0.380486</td>\n",
              "      <td>0.452496</td>\n",
              "      <td>-0.515152</td>\n",
              "      <td>-0.780490</td>\n",
              "      <td>-0.261905</td>\n",
              "      <td>0.266525</td>\n",
              "      <td>-0.588235</td>\n",
              "      <td>-0.600784</td>\n",
              "      <td>-0.272028</td>\n",
              "      <td>-0.333333</td>\n",
              "      <td>0.426357</td>\n",
              "      <td>0.449323</td>\n",
              "      <td>191</td>\n",
              "    </tr>\n",
              "    <tr>\n",
              "      <th>1</th>\n",
              "      <td>1</td>\n",
              "      <td>-0.994460</td>\n",
              "      <td>0.218391</td>\n",
              "      <td>-0.500000</td>\n",
              "      <td>-1.0</td>\n",
              "      <td>-0.433735</td>\n",
              "      <td>-0.093961</td>\n",
              "      <td>-0.294733</td>\n",
              "      <td>0.256039</td>\n",
              "      <td>-0.575758</td>\n",
              "      <td>-0.799515</td>\n",
              "      <td>-0.238095</td>\n",
              "      <td>0.530917</td>\n",
              "      <td>-0.441176</td>\n",
              "      <td>-0.674373</td>\n",
              "      <td>-0.177376</td>\n",
              "      <td>-0.333333</td>\n",
              "      <td>0.333333</td>\n",
              "      <td>0.462027</td>\n",
              "      <td>190</td>\n",
              "    </tr>\n",
              "    <tr>\n",
              "      <th>2</th>\n",
              "      <td>1</td>\n",
              "      <td>-0.988920</td>\n",
              "      <td>-0.494253</td>\n",
              "      <td>0.500000</td>\n",
              "      <td>-1.0</td>\n",
              "      <td>-0.313253</td>\n",
              "      <td>-0.260955</td>\n",
              "      <td>-0.258947</td>\n",
              "      <td>0.420290</td>\n",
              "      <td>-0.454545</td>\n",
              "      <td>-0.719914</td>\n",
              "      <td>-0.500000</td>\n",
              "      <td>0.590618</td>\n",
              "      <td>-0.558824</td>\n",
              "      <td>-0.656414</td>\n",
              "      <td>-0.285110</td>\n",
              "      <td>-0.666667</td>\n",
              "      <td>0.255814</td>\n",
              "      <td>0.242751</td>\n",
              "      <td>189</td>\n",
              "    </tr>\n",
              "    <tr>\n",
              "      <th>3</th>\n",
              "      <td>1</td>\n",
              "      <td>-0.983380</td>\n",
              "      <td>0.080460</td>\n",
              "      <td>0.000000</td>\n",
              "      <td>-1.0</td>\n",
              "      <td>-0.313253</td>\n",
              "      <td>-0.487683</td>\n",
              "      <td>-0.337610</td>\n",
              "      <td>0.481481</td>\n",
              "      <td>-0.363636</td>\n",
              "      <td>-0.750965</td>\n",
              "      <td>-0.666667</td>\n",
              "      <td>0.778252</td>\n",
              "      <td>-0.411765</td>\n",
              "      <td>-0.650222</td>\n",
              "      <td>-0.666795</td>\n",
              "      <td>-0.333333</td>\n",
              "      <td>0.147287</td>\n",
              "      <td>0.324772</td>\n",
              "      <td>188</td>\n",
              "    </tr>\n",
              "    <tr>\n",
              "      <th>4</th>\n",
              "      <td>1</td>\n",
              "      <td>-0.977839</td>\n",
              "      <td>-0.218391</td>\n",
              "      <td>-0.333333</td>\n",
              "      <td>-1.0</td>\n",
              "      <td>-0.301205</td>\n",
              "      <td>-0.485066</td>\n",
              "      <td>-0.190749</td>\n",
              "      <td>0.336554</td>\n",
              "      <td>-0.515152</td>\n",
              "      <td>-0.700081</td>\n",
              "      <td>-0.488095</td>\n",
              "      <td>0.492537</td>\n",
              "      <td>-0.529412</td>\n",
              "      <td>-0.650532</td>\n",
              "      <td>-0.195845</td>\n",
              "      <td>-0.166667</td>\n",
              "      <td>0.178295</td>\n",
              "      <td>0.409003</td>\n",
              "      <td>187</td>\n",
              "    </tr>\n",
              "  </tbody>\n",
              "</table>\n",
              "</div>"
            ],
            "text/plain": [
              "   n_engine     cycle   opset_1   opset_2  ...   sens_17   sens_20   sens_21  RUL\n",
              "0         1 -1.000000 -0.080460 -0.666667  ... -0.333333  0.426357  0.449323  191\n",
              "1         1 -0.994460  0.218391 -0.500000  ... -0.333333  0.333333  0.462027  190\n",
              "2         1 -0.988920 -0.494253  0.500000  ... -0.666667  0.255814  0.242751  189\n",
              "3         1 -0.983380  0.080460  0.000000  ... -0.333333  0.147287  0.324772  188\n",
              "4         1 -0.977839 -0.218391 -0.333333  ... -0.166667  0.178295  0.409003  187\n",
              "\n",
              "[5 rows x 20 columns]"
            ]
          },
          "metadata": {
            "tags": []
          },
          "execution_count": 4
        }
      ]
    },
    {
      "cell_type": "code",
      "metadata": {
        "id": "ZqmN__iOXsWx",
        "colab_type": "code",
        "colab": {}
      },
      "source": [
        "# Creación de features maps\n",
        "\n",
        "features_maps=np.empty((30,14,1))\n",
        "df_ys = np.zeros((1,1))\n",
        "for i in range(1,df['n_engine'].max()+1):\n",
        "  #se obtienen los dataset de engines independientes en df_temp\n",
        "  df_temp1 = df[df['n_engine'] == i]\n",
        "  df_temp2 = df_temp1.drop(['n_engine','cycle','opset_1','opset_2','opset_3'],axis=1)\n",
        "  df_features = df_temp2.drop(['RUL'],axis = 1)\n",
        "  df_y = df_temp2['RUL'].to_numpy()\n",
        "  df_ys = np.append(df_ys,df_y[29:])\n",
        "  for j in range(len(df_y)-29):\n",
        "    feature_map = df_features[j:j+30][:]\n",
        "    features_maps = np.dstack((features_maps, feature_map))\n",
        "features_maps=np.delete(features_maps, 0, 2)\n",
        "df_ys = np.delete(df_ys, 0, 0)"
      ],
      "execution_count": 0,
      "outputs": []
    },
    {
      "cell_type": "code",
      "metadata": {
        "id": "NwW_ULNgXsW2",
        "colab_type": "code",
        "outputId": "f0f50453-a281-42bb-8ecc-018583ff2db9",
        "colab": {
          "base_uri": "https://localhost:8080/",
          "height": 51
        }
      },
      "source": [
        "#Dimensiones feature maps y features maps apilados\n",
        "print(features_maps.shape)\n",
        "print(feature_map.shape)"
      ],
      "execution_count": 6,
      "outputs": [
        {
          "output_type": "stream",
          "text": [
            "(30, 14, 17731)\n",
            "(30, 14)\n"
          ],
          "name": "stdout"
        }
      ]
    },
    {
      "cell_type": "code",
      "metadata": {
        "id": "UnXLmy3taBHo",
        "colab_type": "code",
        "outputId": "ffa7c356-e579-47a1-bf3d-d78df0577754",
        "colab": {
          "base_uri": "https://localhost:8080/",
          "height": 51
        }
      },
      "source": [
        "# cambio de dimensión features maps de forma Ntimestaps,Nfeatures,M) a (M,Ntimestaps,Nfeatures)\n",
        "print(df_ys.shape)\n",
        "features_maps = np.moveaxis(features_maps, 2, 0)\n",
        "print(features_maps.shape)"
      ],
      "execution_count": 7,
      "outputs": [
        {
          "output_type": "stream",
          "text": [
            "(17731,)\n",
            "(17731, 30, 14)\n"
          ],
          "name": "stdout"
        }
      ]
    },
    {
      "cell_type": "code",
      "metadata": {
        "id": "eL4RKvXPl7cr",
        "colab_type": "code",
        "outputId": "52548ca9-ba04-4a4f-b7a1-3094a3cfeda7",
        "colab": {
          "base_uri": "https://localhost:8080/",
          "height": 51
        }
      },
      "source": [
        "# Expansion a 2 dimensiones para vector con Yverdaderos (RUL conjunto de entrenamiento) y 4 para features maps\n",
        "df_ys = np.expand_dims(df_ys,axis=1)\n",
        "features_maps= np.expand_dims(features_maps,3)\n",
        "print(df_ys.shape)\n",
        "print(features_maps.shape)"
      ],
      "execution_count": 8,
      "outputs": [
        {
          "output_type": "stream",
          "text": [
            "(17731, 1)\n",
            "(17731, 30, 14, 1)\n"
          ],
          "name": "stdout"
        }
      ]
    },
    {
      "cell_type": "code",
      "metadata": {
        "id": "7QWjmiljbKvZ",
        "colab_type": "code",
        "outputId": "1ab2744e-6405-4411-cd2f-44d73f8b02a2",
        "colab": {
          "base_uri": "https://localhost:8080/",
          "height": 136
        }
      },
      "source": [
        "# Se barajan pares  (feature map, Yverdadero(RUL)) en forma aleatoria para evitar sesgo al comenzar\n",
        "# el entreno de las ANN\n",
        "\n",
        "from sklearn.utils import shuffle\n",
        "\n",
        "features_maps, df_ys = shuffle(features_maps, df_ys, random_state=5)\n",
        "\n",
        "# Todos los rul > a 125 se setean en 125 segun papers\n",
        "\n",
        "for i in range(len(df_ys)):\n",
        "  if df_ys[i] >= 125:\n",
        "    df_ys[i] = 125\n",
        "  else:\n",
        "    df_ys[i] = df_ys[i]\n",
        "\n",
        "print(df_ys)\n",
        "\n",
        "# \n",
        "\n",
        "ys_train = df_ys[:int(len(df_ys)*0.9)]\n",
        "ys_valid = df_ys[int(len(df_ys)*0.9):]\n",
        "\n",
        "features_maps_train = features_maps[:int(len(df_ys)*0.9)]\n",
        "features_maps_valid = features_maps[int(len(df_ys)*0.9):]"
      ],
      "execution_count": 9,
      "outputs": [
        {
          "output_type": "stream",
          "text": [
            "[[125.]\n",
            " [ 96.]\n",
            " [106.]\n",
            " ...\n",
            " [125.]\n",
            " [ 41.]\n",
            " [125.]]\n"
          ],
          "name": "stdout"
        }
      ]
    },
    {
      "cell_type": "markdown",
      "metadata": {
        "id": "UUeuUh9j8ygy",
        "colab_type": "text"
      },
      "source": [
        "## Test set"
      ]
    },
    {
      "cell_type": "code",
      "metadata": {
        "id": "7c9KF4tvT3iz",
        "colab_type": "code",
        "colab": {}
      },
      "source": [
        "df_t = pd.read_csv('test_FD001.txt', sep = ' ', header = None)\n",
        "df_t = df_t.drop(columns=[26, 27])\n",
        "df_t.columns = ([\"n_engine\",\"cycle\",\"opset_1\",\"opset_2\",\"opset_3\",\n",
        "              \"sens_1\",\"sens_2\",\"sens_3\",\"sens_4\",\"sens_5\",\"sens_6\",\"sens_7\",\"sens_8\",\"sens_9\",\"sens_10\",\n",
        "              \"sens_11\",\"sens_12\",\"sens_13\",\"sens_14\",\"sens_15\",\"sens_16\",\"sens_17\",\"sens_18\",\"sens_19\",\"sens_20\",\"sens_21\"])\n",
        "df_t = df_t.drop(['sens_1','sens_5','sens_6','sens_10','sens_16','sens_18','sens_19'],axis=1)\n",
        "df_t[df_t.columns[1:19]]= scaler.transform(df_t[df_t.columns[1:19]])"
      ],
      "execution_count": 0,
      "outputs": []
    },
    {
      "cell_type": "code",
      "metadata": {
        "id": "fEMbnv78Pzxi",
        "colab_type": "code",
        "outputId": "44193b7c-af25-4f3b-d037-cf59f6d71072",
        "colab": {
          "base_uri": "https://localhost:8080/",
          "height": 54
        }
      },
      "source": [
        "ruls_test= []\n",
        "rul_file = open(\"RUL_FD001.txt\", \"r\")\n",
        "for rul_line in rul_file:\n",
        "  ruls_test.append(int(rul_line.rstrip(' \\n')))\n",
        "print(ruls_test)\n"
      ],
      "execution_count": 11,
      "outputs": [
        {
          "output_type": "stream",
          "text": [
            "[112, 98, 69, 82, 91, 93, 91, 95, 111, 96, 97, 124, 95, 107, 83, 84, 50, 28, 87, 16, 57, 111, 113, 20, 145, 119, 66, 97, 90, 115, 8, 48, 106, 7, 11, 19, 21, 50, 142, 28, 18, 10, 59, 109, 114, 47, 135, 92, 21, 79, 114, 29, 26, 97, 137, 15, 103, 37, 114, 100, 21, 54, 72, 28, 128, 14, 77, 8, 121, 94, 118, 50, 131, 126, 113, 10, 34, 107, 63, 90, 8, 9, 137, 58, 118, 89, 116, 115, 136, 28, 38, 20, 85, 55, 128, 137, 82, 59, 117, 20]\n"
          ],
          "name": "stdout"
        }
      ]
    },
    {
      "cell_type": "code",
      "metadata": {
        "id": "fpNkOxXpH6oS",
        "colab_type": "code",
        "colab": {}
      },
      "source": [
        "features_maps_test=np.empty((30,14,1))\n",
        "for i in range(1,df_t['n_engine'].max()+1):\n",
        "  #se obtienen los dataset de engines independientes en df_temp\n",
        "  df_temp = df_t[df_t['n_engine'] == i].drop(['n_engine','cycle','opset_1','opset_2','opset_3'],axis=1)\n",
        "  df_large = df_temp['sens_8'].count()\n",
        "  feature_map = df_temp[df_large-30:][:]\n",
        "  features_maps_test = np.dstack((features_maps_test, feature_map))\n",
        "features_maps_test=np.delete(features_maps_test, 0, 2)"
      ],
      "execution_count": 0,
      "outputs": []
    },
    {
      "cell_type": "code",
      "metadata": {
        "id": "XGTMJgX5XBo9",
        "colab_type": "code",
        "outputId": "9eca1bbd-8acc-466d-ed16-e4395607e889",
        "colab": {
          "base_uri": "https://localhost:8080/",
          "height": 51
        }
      },
      "source": [
        "print(features_maps_test.shape)\n",
        "print(feature_map.shape)"
      ],
      "execution_count": 13,
      "outputs": [
        {
          "output_type": "stream",
          "text": [
            "(30, 14, 100)\n",
            "(30, 14)\n"
          ],
          "name": "stdout"
        }
      ]
    },
    {
      "cell_type": "code",
      "metadata": {
        "id": "7I3J3SksZo7I",
        "colab_type": "code",
        "outputId": "440964a3-ea99-404b-c2a6-adc4663e8e57",
        "colab": {
          "base_uri": "https://localhost:8080/",
          "height": 34
        }
      },
      "source": [
        "features_maps_test = np.moveaxis(features_maps_test, 2, 0)\n",
        "print(features_maps_test.shape)"
      ],
      "execution_count": 14,
      "outputs": [
        {
          "output_type": "stream",
          "text": [
            "(100, 30, 14)\n"
          ],
          "name": "stdout"
        }
      ]
    },
    {
      "cell_type": "code",
      "metadata": {
        "id": "ezAIjNxodVmY",
        "colab_type": "code",
        "outputId": "ea192a84-e45e-4043-801a-25a68b512c6e",
        "colab": {
          "base_uri": "https://localhost:8080/",
          "height": 34
        }
      },
      "source": [
        "features_maps_test= np.expand_dims(features_maps_test,3)\n",
        "print(features_maps_test.shape)"
      ],
      "execution_count": 15,
      "outputs": [
        {
          "output_type": "stream",
          "text": [
            "(100, 30, 14, 1)\n"
          ],
          "name": "stdout"
        }
      ]
    },
    {
      "cell_type": "code",
      "metadata": {
        "id": "jEIWASmadiAx",
        "colab_type": "code",
        "colab": {
          "base_uri": "https://localhost:8080/",
          "height": 119
        },
        "outputId": "96218106-5e23-44fb-884e-da39f328beae"
      },
      "source": [
        "list1 = np.array(ruls_test)\n",
        "list2 = np.array(features_maps_test)\n",
        "idx   = np.argsort(list1)\n",
        "\n",
        "list1 = np.array(list1)[idx]\n",
        "list2 = np.array(list2)[idx]\n",
        "\n",
        "for i in range(len(list1)):\n",
        "  if list1[i] >= 125:\n",
        "    list1[i] = 125\n",
        "  else:\n",
        "    list1[i] = list1[i]\n",
        "\n",
        "print(list1)"
      ],
      "execution_count": 16,
      "outputs": [
        {
          "output_type": "stream",
          "text": [
            "[  7   8   8   8   9  10  10  11  14  15  16  18  19  20  20  20  21  21\n",
            "  21  26  28  28  28  28  29  34  37  38  47  48  50  50  50  54  55  57\n",
            "  58  59  59  63  66  69  72  77  79  82  82  83  84  85  87  89  90  90\n",
            "  91  91  92  93  94  95  95  96  97  97  97  98 100 103 106 107 107 109\n",
            " 111 111 112 113 113 114 114 114 115 115 116 117 118 118 119 121 124 125\n",
            " 125 125 125 125 125 125 125 125 125 125]\n"
          ],
          "name": "stdout"
        }
      ]
    },
    {
      "cell_type": "markdown",
      "metadata": {
        "id": "34B0T27buS5J",
        "colab_type": "text"
      },
      "source": [
        "# CNN \n",
        "\n",
        "Propuesta de Li, Ding, Sun\n",
        "\n",
        "![Imagen](https://github.com/farayal/memoria_turbofan/blob/master/cnn_regression.png?raw=true)"
      ]
    },
    {
      "cell_type": "code",
      "metadata": {
        "id": "hJxtZOMIu2y7",
        "colab_type": "code",
        "outputId": "8ae31a01-1212-4846-856b-b39cffb21dea",
        "colab": {
          "base_uri": "https://localhost:8080/",
          "height": 97
        }
      },
      "source": [
        "from keras import layers\n",
        "from keras.layers import Input, Dense, Activation, ZeroPadding2D, BatchNormalization, Flatten, Conv2D\n",
        "from keras.layers import AveragePooling2D, MaxPooling2D, Dropout, GlobalMaxPooling2D, GlobalAveragePooling2D\n",
        "from keras.models import Model\n",
        "from keras.preprocessing import image\n",
        "from keras.utils import layer_utils\n",
        "from keras.utils.data_utils import get_file\n",
        "from keras.applications.imagenet_utils import preprocess_input\n",
        "from keras import regularizers\n",
        "\n",
        "import keras.backend as K\n",
        "K.set_image_data_format('channels_last')\n"
      ],
      "execution_count": 17,
      "outputs": [
        {
          "output_type": "stream",
          "text": [
            "Using TensorFlow backend.\n"
          ],
          "name": "stderr"
        },
        {
          "output_type": "display_data",
          "data": {
            "text/html": [
              "<p style=\"color: red;\">\n",
              "The default version of TensorFlow in Colab will soon switch to TensorFlow 2.x.<br>\n",
              "We recommend you <a href=\"https://www.tensorflow.org/guide/migrate\" target=\"_blank\">upgrade</a> now \n",
              "or ensure your notebook will continue to use TensorFlow 1.x via the <code>%tensorflow_version 1.x</code> magic:\n",
              "<a href=\"https://colab.research.google.com/notebooks/tensorflow_version.ipynb\" target=\"_blank\">more info</a>.</p>\n"
            ],
            "text/plain": [
              "<IPython.core.display.HTML object>"
            ]
          },
          "metadata": {
            "tags": []
          }
        }
      ]
    },
    {
      "cell_type": "code",
      "metadata": {
        "id": "-Fc-VMlVNKso",
        "colab_type": "code",
        "colab": {}
      },
      "source": [
        "def cnnturbofan(input_shape):\n",
        "   \n",
        "    X_input = Input(input_shape)\n",
        "\n",
        "    #Layer 1\n",
        "    # Zero-Padding: Para originar un output (20,14) en la siguiente capa\n",
        "    #X = ZeroPadding2D((5, 0))(X_input)\n",
        "\n",
        "    # CONV -> TANH aplicado a X\n",
        "    X = Conv2D(10, (10, 1), strides = (1, 1),padding='same', name = 'conv0')(X_input)\n",
        "    #X = BatchNormalization(axis = 3, name = 'bn0')(X)\n",
        "    X = Activation('tanh')(X)\n",
        "\n",
        "    #Layer 2\n",
        "    #X = ZeroPadding2D((4, 0))(X)\n",
        "    X = Conv2D(10, (10, 1), strides = (1, 1), padding = 'same', name = 'conv1')(X)\n",
        "    #X = BatchNormalization(axis = 3, name = 'bn1')(X)\n",
        "    X = Activation('tanh')(X)\n",
        "\n",
        "    #Layer 3\n",
        "    #X = ZeroPadding2D((5, 0))(X)\n",
        "    X = Conv2D(10, (10, 1), strides = (1, 1), padding='same', name = 'conv2')(X)\n",
        "    #X = BatchNormalization(axis = 3, name = 'bn2')(X)\n",
        "    X = Activation('tanh')(X)\n",
        "\n",
        "    #Layer 4\n",
        "    #X = ZeroPadding2D((4, 0))(X)\n",
        "    X = Conv2D(10, (10, 1), strides = (1, 1),padding='same', name = 'conv3')(X)\n",
        "    #X = BatchNormalization(axis = 3, name = 'bn3')(X)\n",
        "    X = Activation('tanh')(X)\n",
        "\n",
        "    #Layer 5\n",
        "    #X = ZeroPadding2D((1, 0))(X)\n",
        "    X = Conv2D(1, (3, 1), strides = (1, 1),padding='same', name = 'conv4')(X)\n",
        "    #X = BatchNormalization(axis = 3, name = 'bn4')(X)\n",
        "    X = Activation('tanh')(X)\n",
        "\n",
        "    # FLATTEN X (\"desenrollamos el feature map anterior\") + FULLYCONNECTED\n",
        "    X = Flatten()(X)\n",
        "    X = Dropout(0.5)(X)\n",
        "    #X = BatchNormalization(name='bn5')(X)\n",
        "    X = Dense(100, activation='tanh', name='fully-connected')(X)\n",
        "    #X = Dropout(0.5)(X)\n",
        "    #X = BatchNormalization(name='bn6')(X)\n",
        "    X = Dense(1, name = 'rul-neuron')(X)\n",
        "\n",
        "    # instancia modelo final\n",
        "    model = Model(inputs = X_input, outputs = X, name='cnnturbofan')\n",
        "    \n",
        "  \n",
        "    return model"
      ],
      "execution_count": 0,
      "outputs": []
    },
    {
      "cell_type": "code",
      "metadata": {
        "id": "-yRAWMhx1KoC",
        "colab_type": "code",
        "outputId": "ab4badc3-d5b0-47c5-925c-8345ce31658a",
        "colab": {
          "base_uri": "https://localhost:8080/",
          "height": 224
        }
      },
      "source": [
        "cnnturbofan = cnnturbofan((features_maps.shape[1],features_maps.shape[2],features_maps.shape[3]))"
      ],
      "execution_count": 19,
      "outputs": [
        {
          "output_type": "stream",
          "text": [
            "WARNING:tensorflow:From /usr/local/lib/python3.6/dist-packages/keras/backend/tensorflow_backend.py:66: The name tf.get_default_graph is deprecated. Please use tf.compat.v1.get_default_graph instead.\n",
            "\n",
            "WARNING:tensorflow:From /usr/local/lib/python3.6/dist-packages/keras/backend/tensorflow_backend.py:541: The name tf.placeholder is deprecated. Please use tf.compat.v1.placeholder instead.\n",
            "\n",
            "WARNING:tensorflow:From /usr/local/lib/python3.6/dist-packages/keras/backend/tensorflow_backend.py:4432: The name tf.random_uniform is deprecated. Please use tf.random.uniform instead.\n",
            "\n",
            "WARNING:tensorflow:From /usr/local/lib/python3.6/dist-packages/keras/backend/tensorflow_backend.py:148: The name tf.placeholder_with_default is deprecated. Please use tf.compat.v1.placeholder_with_default instead.\n",
            "\n",
            "WARNING:tensorflow:From /usr/local/lib/python3.6/dist-packages/keras/backend/tensorflow_backend.py:3733: calling dropout (from tensorflow.python.ops.nn_ops) with keep_prob is deprecated and will be removed in a future version.\n",
            "Instructions for updating:\n",
            "Please use `rate` instead of `keep_prob`. Rate should be set to `rate = 1 - keep_prob`.\n"
          ],
          "name": "stdout"
        }
      ]
    },
    {
      "cell_type": "code",
      "metadata": {
        "id": "41z22sWe2W6d",
        "colab_type": "code",
        "outputId": "a69b6938-1f55-433b-d204-2cbb961ca2c9",
        "colab": {
          "base_uri": "https://localhost:8080/",
          "height": 71
        }
      },
      "source": [
        "def root_mean_squared_error(y_true, y_pred):\n",
        "        return K.sqrt(K.mean(K.square(y_pred - y_true))) \n",
        "\n",
        "cnnturbofan.compile(optimizer = \"Adam\", loss = \"mean_squared_error\" , metrics = [root_mean_squared_error])"
      ],
      "execution_count": 20,
      "outputs": [
        {
          "output_type": "stream",
          "text": [
            "WARNING:tensorflow:From /usr/local/lib/python3.6/dist-packages/keras/optimizers.py:793: The name tf.train.Optimizer is deprecated. Please use tf.compat.v1.train.Optimizer instead.\n",
            "\n"
          ],
          "name": "stdout"
        }
      ]
    },
    {
      "cell_type": "code",
      "metadata": {
        "id": "TmgEw6sw31M0",
        "colab_type": "code",
        "outputId": "d0998856-728a-4070-d996-a5ceeb83c76a",
        "colab": {
          "base_uri": "https://localhost:8080/",
          "height": 1000
        }
      },
      "source": [
        "history = cnnturbofan.fit(x = features_maps_train, y = ys_train ,batch_size=1024, epochs = 250 ,validation_data=(features_maps_valid,ys_valid))"
      ],
      "execution_count": 21,
      "outputs": [
        {
          "output_type": "stream",
          "text": [
            "WARNING:tensorflow:From /usr/local/lib/python3.6/dist-packages/keras/backend/tensorflow_backend.py:1033: The name tf.assign_add is deprecated. Please use tf.compat.v1.assign_add instead.\n",
            "\n",
            "WARNING:tensorflow:From /usr/local/lib/python3.6/dist-packages/keras/backend/tensorflow_backend.py:1020: The name tf.assign is deprecated. Please use tf.compat.v1.assign instead.\n",
            "\n",
            "WARNING:tensorflow:From /usr/local/lib/python3.6/dist-packages/keras/backend/tensorflow_backend.py:3005: The name tf.Session is deprecated. Please use tf.compat.v1.Session instead.\n",
            "\n",
            "Train on 15957 samples, validate on 1774 samples\n",
            "Epoch 1/250\n",
            "WARNING:tensorflow:From /usr/local/lib/python3.6/dist-packages/keras/backend/tensorflow_backend.py:190: The name tf.get_default_session is deprecated. Please use tf.compat.v1.get_default_session instead.\n",
            "\n",
            "WARNING:tensorflow:From /usr/local/lib/python3.6/dist-packages/keras/backend/tensorflow_backend.py:197: The name tf.ConfigProto is deprecated. Please use tf.compat.v1.ConfigProto instead.\n",
            "\n",
            "WARNING:tensorflow:From /usr/local/lib/python3.6/dist-packages/keras/backend/tensorflow_backend.py:207: The name tf.global_variables is deprecated. Please use tf.compat.v1.global_variables instead.\n",
            "\n",
            "WARNING:tensorflow:From /usr/local/lib/python3.6/dist-packages/keras/backend/tensorflow_backend.py:216: The name tf.is_variable_initialized is deprecated. Please use tf.compat.v1.is_variable_initialized instead.\n",
            "\n",
            "WARNING:tensorflow:From /usr/local/lib/python3.6/dist-packages/keras/backend/tensorflow_backend.py:223: The name tf.variables_initializer is deprecated. Please use tf.compat.v1.variables_initializer instead.\n",
            "\n",
            "15957/15957 [==============================] - 3s 205us/step - loss: 7197.8052 - root_mean_squared_error: 84.7338 - val_loss: 6412.5494 - val_root_mean_squared_error: 80.0728\n",
            "Epoch 2/250\n",
            "15957/15957 [==============================] - 1s 50us/step - loss: 6247.6843 - root_mean_squared_error: 79.0334 - val_loss: 6063.1587 - val_root_mean_squared_error: 77.8601\n",
            "Epoch 3/250\n",
            "15957/15957 [==============================] - 1s 50us/step - loss: 5932.1684 - root_mean_squared_error: 77.0109 - val_loss: 5807.4791 - val_root_mean_squared_error: 76.2007\n",
            "Epoch 4/250\n",
            "15957/15957 [==============================] - 1s 50us/step - loss: 5696.8736 - root_mean_squared_error: 75.4667 - val_loss: 5588.9966 - val_root_mean_squared_error: 74.7536\n",
            "Epoch 5/250\n",
            "15957/15957 [==============================] - 1s 50us/step - loss: 5481.7138 - root_mean_squared_error: 74.0293 - val_loss: 5382.2646 - val_root_mean_squared_error: 73.3581\n",
            "Epoch 6/250\n",
            "15957/15957 [==============================] - 1s 49us/step - loss: 5279.3217 - root_mean_squared_error: 72.6479 - val_loss: 5185.1596 - val_root_mean_squared_error: 72.0023\n",
            "Epoch 7/250\n",
            "15957/15957 [==============================] - 1s 49us/step - loss: 5085.8833 - root_mean_squared_error: 71.3111 - val_loss: 4997.8888 - val_root_mean_squared_error: 70.6902\n",
            "Epoch 8/250\n",
            "15957/15957 [==============================] - 1s 50us/step - loss: 4901.7334 - root_mean_squared_error: 70.0051 - val_loss: 4818.2871 - val_root_mean_squared_error: 69.4085\n",
            "Epoch 9/250\n",
            "15957/15957 [==============================] - 1s 49us/step - loss: 4724.8083 - root_mean_squared_error: 68.7261 - val_loss: 4645.6158 - val_root_mean_squared_error: 68.1535\n",
            "Epoch 10/250\n",
            "15957/15957 [==============================] - 1s 49us/step - loss: 4554.7563 - root_mean_squared_error: 67.4830 - val_loss: 4480.0958 - val_root_mean_squared_error: 66.9284\n",
            "Epoch 11/250\n",
            "15957/15957 [==============================] - 1s 49us/step - loss: 4391.3824 - root_mean_squared_error: 66.2574 - val_loss: 4320.2417 - val_root_mean_squared_error: 65.7236\n",
            "Epoch 12/250\n",
            "15957/15957 [==============================] - 1s 49us/step - loss: 4233.8442 - root_mean_squared_error: 65.0636 - val_loss: 4166.3234 - val_root_mean_squared_error: 64.5424\n",
            "Epoch 13/250\n",
            "15957/15957 [==============================] - 1s 49us/step - loss: 4082.3136 - root_mean_squared_error: 63.8857 - val_loss: 4018.1514 - val_root_mean_squared_error: 63.3844\n",
            "Epoch 14/250\n",
            "15957/15957 [==============================] - 1s 49us/step - loss: 3936.4012 - root_mean_squared_error: 62.7362 - val_loss: 3875.5271 - val_root_mean_squared_error: 62.2494\n",
            "Epoch 15/250\n",
            "15957/15957 [==============================] - 1s 49us/step - loss: 3796.1947 - root_mean_squared_error: 61.6023 - val_loss: 3737.6282 - val_root_mean_squared_error: 61.1320\n",
            "Epoch 16/250\n",
            "15957/15957 [==============================] - 1s 50us/step - loss: 3660.5672 - root_mean_squared_error: 60.4955 - val_loss: 3604.4259 - val_root_mean_squared_error: 60.0330\n",
            "Epoch 17/250\n",
            "15957/15957 [==============================] - 1s 49us/step - loss: 3530.1551 - root_mean_squared_error: 59.4084 - val_loss: 3476.8751 - val_root_mean_squared_error: 58.9613\n",
            "Epoch 18/250\n",
            "15957/15957 [==============================] - 1s 50us/step - loss: 3403.9965 - root_mean_squared_error: 58.3352 - val_loss: 3352.9930 - val_root_mean_squared_error: 57.9015\n",
            "Epoch 19/250\n",
            "15957/15957 [==============================] - 1s 49us/step - loss: 3283.0308 - root_mean_squared_error: 57.2922 - val_loss: 3233.2906 - val_root_mean_squared_error: 56.8587\n",
            "Epoch 20/250\n",
            "15957/15957 [==============================] - 1s 49us/step - loss: 3165.9134 - root_mean_squared_error: 56.2619 - val_loss: 3118.0030 - val_root_mean_squared_error: 55.8359\n",
            "Epoch 21/250\n",
            "15957/15957 [==============================] - 1s 49us/step - loss: 3052.7604 - root_mean_squared_error: 55.2472 - val_loss: 3005.4917 - val_root_mean_squared_error: 54.8193\n",
            "Epoch 22/250\n",
            "15957/15957 [==============================] - 1s 50us/step - loss: 2942.2885 - root_mean_squared_error: 54.2372 - val_loss: 2894.7297 - val_root_mean_squared_error: 53.7997\n",
            "Epoch 23/250\n",
            "15957/15957 [==============================] - 1s 49us/step - loss: 2834.8695 - root_mean_squared_error: 53.2396 - val_loss: 2786.8409 - val_root_mean_squared_error: 52.7877\n",
            "Epoch 24/250\n",
            "15957/15957 [==============================] - 1s 50us/step - loss: 2730.1750 - root_mean_squared_error: 52.2465 - val_loss: 2684.1289 - val_root_mean_squared_error: 51.8059\n",
            "Epoch 25/250\n",
            "15957/15957 [==============================] - 1s 49us/step - loss: 2630.7431 - root_mean_squared_error: 51.2851 - val_loss: 2588.3874 - val_root_mean_squared_error: 50.8737\n",
            "Epoch 26/250\n",
            "15957/15957 [==============================] - 1s 49us/step - loss: 2535.2205 - root_mean_squared_error: 50.3465 - val_loss: 2492.2483 - val_root_mean_squared_error: 49.9200\n",
            "Epoch 27/250\n",
            "15957/15957 [==============================] - 1s 49us/step - loss: 2442.4671 - root_mean_squared_error: 49.4146 - val_loss: 2403.5129 - val_root_mean_squared_error: 49.0234\n",
            "Epoch 28/250\n",
            "15957/15957 [==============================] - 1s 49us/step - loss: 2352.2846 - root_mean_squared_error: 48.4923 - val_loss: 2315.3140 - val_root_mean_squared_error: 48.1156\n",
            "Epoch 29/250\n",
            "15957/15957 [==============================] - 1s 50us/step - loss: 2266.7570 - root_mean_squared_error: 47.6035 - val_loss: 2229.3101 - val_root_mean_squared_error: 47.2135\n",
            "Epoch 30/250\n",
            "15957/15957 [==============================] - 1s 49us/step - loss: 2183.8429 - root_mean_squared_error: 46.7247 - val_loss: 2147.1767 - val_root_mean_squared_error: 46.3357\n",
            "Epoch 31/250\n",
            "15957/15957 [==============================] - 1s 49us/step - loss: 2103.7620 - root_mean_squared_error: 45.8547 - val_loss: 2069.9884 - val_root_mean_squared_error: 45.4954\n",
            "Epoch 32/250\n",
            "15957/15957 [==============================] - 1s 49us/step - loss: 2027.2733 - root_mean_squared_error: 45.0199 - val_loss: 1992.8677 - val_root_mean_squared_error: 44.6398\n",
            "Epoch 33/250\n",
            "15957/15957 [==============================] - 1s 49us/step - loss: 1952.5115 - root_mean_squared_error: 44.1847 - val_loss: 1922.9541 - val_root_mean_squared_error: 43.8500\n",
            "Epoch 34/250\n",
            "15957/15957 [==============================] - 1s 49us/step - loss: 1883.0968 - root_mean_squared_error: 43.3874 - val_loss: 1854.5685 - val_root_mean_squared_error: 43.0633\n",
            "Epoch 35/250\n",
            "15957/15957 [==============================] - 1s 51us/step - loss: 1813.0794 - root_mean_squared_error: 42.5723 - val_loss: 1782.2358 - val_root_mean_squared_error: 42.2151\n",
            "Epoch 36/250\n",
            "15957/15957 [==============================] - 1s 49us/step - loss: 1746.7713 - root_mean_squared_error: 41.7880 - val_loss: 1717.1456 - val_root_mean_squared_error: 41.4371\n",
            "Epoch 37/250\n",
            "15957/15957 [==============================] - 1s 49us/step - loss: 1682.0251 - root_mean_squared_error: 41.0068 - val_loss: 1654.4639 - val_root_mean_squared_error: 40.6738\n",
            "Epoch 38/250\n",
            "15957/15957 [==============================] - 1s 49us/step - loss: 1623.7245 - root_mean_squared_error: 40.2919 - val_loss: 1594.1281 - val_root_mean_squared_error: 39.9253\n",
            "Epoch 39/250\n",
            "15957/15957 [==============================] - 1s 49us/step - loss: 1562.9271 - root_mean_squared_error: 39.5301 - val_loss: 1536.2825 - val_root_mean_squared_error: 39.1943\n",
            "Epoch 40/250\n",
            "15957/15957 [==============================] - 1s 49us/step - loss: 1506.9948 - root_mean_squared_error: 38.8135 - val_loss: 1489.2635 - val_root_mean_squared_error: 38.5903\n",
            "Epoch 41/250\n",
            "15957/15957 [==============================] - 1s 50us/step - loss: 1452.1026 - root_mean_squared_error: 38.1013 - val_loss: 1426.9473 - val_root_mean_squared_error: 37.7740\n",
            "Epoch 42/250\n",
            "15957/15957 [==============================] - 1s 50us/step - loss: 1399.7013 - root_mean_squared_error: 37.4086 - val_loss: 1382.3570 - val_root_mean_squared_error: 37.1794\n",
            "Epoch 43/250\n",
            "15957/15957 [==============================] - 1s 49us/step - loss: 1362.5792 - root_mean_squared_error: 36.9089 - val_loss: 1346.4438 - val_root_mean_squared_error: 36.6935\n",
            "Epoch 44/250\n",
            "15957/15957 [==============================] - 1s 50us/step - loss: 1309.6726 - root_mean_squared_error: 36.1860 - val_loss: 1282.5391 - val_root_mean_squared_error: 35.8120\n",
            "Epoch 45/250\n",
            "15957/15957 [==============================] - 1s 49us/step - loss: 1257.2587 - root_mean_squared_error: 35.4544 - val_loss: 1236.4133 - val_root_mean_squared_error: 35.1621\n",
            "Epoch 46/250\n",
            "15957/15957 [==============================] - 1s 50us/step - loss: 1209.3727 - root_mean_squared_error: 34.7665 - val_loss: 1188.2448 - val_root_mean_squared_error: 34.4704\n",
            "Epoch 47/250\n",
            "15957/15957 [==============================] - 1s 50us/step - loss: 1166.3349 - root_mean_squared_error: 34.1456 - val_loss: 1145.8698 - val_root_mean_squared_error: 33.8502\n",
            "Epoch 48/250\n",
            "15957/15957 [==============================] - 1s 50us/step - loss: 1125.8117 - root_mean_squared_error: 33.5486 - val_loss: 1104.7344 - val_root_mean_squared_error: 33.2370\n",
            "Epoch 49/250\n",
            "15957/15957 [==============================] - 1s 50us/step - loss: 1112.6135 - root_mean_squared_error: 33.3537 - val_loss: 1103.5129 - val_root_mean_squared_error: 33.2188\n",
            "Epoch 50/250\n",
            "15957/15957 [==============================] - 1s 50us/step - loss: 1060.8894 - root_mean_squared_error: 32.5644 - val_loss: 1040.9229 - val_root_mean_squared_error: 32.2630\n",
            "Epoch 51/250\n",
            "15957/15957 [==============================] - 1s 50us/step - loss: 1013.2668 - root_mean_squared_error: 31.8294 - val_loss: 994.2219 - val_root_mean_squared_error: 31.5310\n",
            "Epoch 52/250\n",
            "15957/15957 [==============================] - 1s 49us/step - loss: 975.1848 - root_mean_squared_error: 31.2235 - val_loss: 956.2625 - val_root_mean_squared_error: 30.9232\n",
            "Epoch 53/250\n",
            "15957/15957 [==============================] - 1s 49us/step - loss: 941.6599 - root_mean_squared_error: 30.6827 - val_loss: 923.0740 - val_root_mean_squared_error: 30.3819\n",
            "Epoch 54/250\n",
            "15957/15957 [==============================] - 1s 50us/step - loss: 908.5138 - root_mean_squared_error: 30.1345 - val_loss: 890.2121 - val_root_mean_squared_error: 29.8362\n",
            "Epoch 55/250\n",
            "15957/15957 [==============================] - 1s 49us/step - loss: 877.3146 - root_mean_squared_error: 29.6142 - val_loss: 861.8857 - val_root_mean_squared_error: 29.3577\n",
            "Epoch 56/250\n",
            "15957/15957 [==============================] - 1s 50us/step - loss: 852.9580 - root_mean_squared_error: 29.2027 - val_loss: 867.5421 - val_root_mean_squared_error: 29.4541\n",
            "Epoch 57/250\n",
            "15957/15957 [==============================] - 1s 50us/step - loss: 853.5879 - root_mean_squared_error: 29.2118 - val_loss: 870.0936 - val_root_mean_squared_error: 29.4973\n",
            "Epoch 58/250\n",
            "15957/15957 [==============================] - 1s 50us/step - loss: 824.7140 - root_mean_squared_error: 28.7113 - val_loss: 797.6704 - val_root_mean_squared_error: 28.2426\n",
            "Epoch 59/250\n",
            "15957/15957 [==============================] - 1s 50us/step - loss: 778.8737 - root_mean_squared_error: 27.9068 - val_loss: 759.1202 - val_root_mean_squared_error: 27.5520\n",
            "Epoch 60/250\n",
            "15957/15957 [==============================] - 1s 51us/step - loss: 748.0686 - root_mean_squared_error: 27.3439 - val_loss: 730.1008 - val_root_mean_squared_error: 27.0203\n",
            "Epoch 61/250\n",
            "15957/15957 [==============================] - 1s 50us/step - loss: 717.5931 - root_mean_squared_error: 26.7853 - val_loss: 702.2048 - val_root_mean_squared_error: 26.4991\n",
            "Epoch 62/250\n",
            "15957/15957 [==============================] - 1s 51us/step - loss: 696.2739 - root_mean_squared_error: 26.3850 - val_loss: 679.0788 - val_root_mean_squared_error: 26.0591\n",
            "Epoch 63/250\n",
            "15957/15957 [==============================] - 1s 50us/step - loss: 672.5001 - root_mean_squared_error: 25.9303 - val_loss: 659.8992 - val_root_mean_squared_error: 25.6884\n",
            "Epoch 64/250\n",
            "15957/15957 [==============================] - 1s 50us/step - loss: 652.1962 - root_mean_squared_error: 25.5330 - val_loss: 640.3471 - val_root_mean_squared_error: 25.3051\n",
            "Epoch 65/250\n",
            "15957/15957 [==============================] - 1s 50us/step - loss: 631.5960 - root_mean_squared_error: 25.1278 - val_loss: 629.9055 - val_root_mean_squared_error: 25.0979\n",
            "Epoch 66/250\n",
            "15957/15957 [==============================] - 1s 51us/step - loss: 611.6850 - root_mean_squared_error: 24.7308 - val_loss: 594.1749 - val_root_mean_squared_error: 24.3757\n",
            "Epoch 67/250\n",
            "15957/15957 [==============================] - 1s 50us/step - loss: 590.8597 - root_mean_squared_error: 24.3051 - val_loss: 575.8663 - val_root_mean_squared_error: 23.9972\n",
            "Epoch 68/250\n",
            "15957/15957 [==============================] - 1s 50us/step - loss: 571.7331 - root_mean_squared_error: 23.9063 - val_loss: 567.2926 - val_root_mean_squared_error: 23.8178\n",
            "Epoch 69/250\n",
            "15957/15957 [==============================] - 1s 50us/step - loss: 554.5832 - root_mean_squared_error: 23.5464 - val_loss: 541.9442 - val_root_mean_squared_error: 23.2797\n",
            "Epoch 70/250\n",
            "15957/15957 [==============================] - 1s 50us/step - loss: 537.6338 - root_mean_squared_error: 23.1845 - val_loss: 527.9849 - val_root_mean_squared_error: 22.9778\n",
            "Epoch 71/250\n",
            "15957/15957 [==============================] - 1s 51us/step - loss: 523.0317 - root_mean_squared_error: 22.8670 - val_loss: 511.3451 - val_root_mean_squared_error: 22.6128\n",
            "Epoch 72/250\n",
            "15957/15957 [==============================] - 1s 49us/step - loss: 505.3854 - root_mean_squared_error: 22.4760 - val_loss: 492.0051 - val_root_mean_squared_error: 22.1811\n",
            "Epoch 73/250\n",
            "15957/15957 [==============================] - 1s 51us/step - loss: 499.1591 - root_mean_squared_error: 22.3388 - val_loss: 543.2294 - val_root_mean_squared_error: 23.3072\n",
            "Epoch 74/250\n",
            "15957/15957 [==============================] - 1s 50us/step - loss: 534.1858 - root_mean_squared_error: 23.1033 - val_loss: 491.0302 - val_root_mean_squared_error: 22.1591\n",
            "Epoch 75/250\n",
            "15957/15957 [==============================] - 1s 51us/step - loss: 481.2331 - root_mean_squared_error: 21.9333 - val_loss: 469.5339 - val_root_mean_squared_error: 21.6684\n",
            "Epoch 76/250\n",
            "15957/15957 [==============================] - 1s 50us/step - loss: 459.8011 - root_mean_squared_error: 21.4389 - val_loss: 446.1103 - val_root_mean_squared_error: 21.1211\n",
            "Epoch 77/250\n",
            "15957/15957 [==============================] - 1s 50us/step - loss: 445.2910 - root_mean_squared_error: 21.1005 - val_loss: 429.7545 - val_root_mean_squared_error: 20.7304\n",
            "Epoch 78/250\n",
            "15957/15957 [==============================] - 1s 50us/step - loss: 429.5659 - root_mean_squared_error: 20.7247 - val_loss: 417.7978 - val_root_mean_squared_error: 20.4399\n",
            "Epoch 79/250\n",
            "15957/15957 [==============================] - 1s 51us/step - loss: 419.5323 - root_mean_squared_error: 20.4797 - val_loss: 406.6243 - val_root_mean_squared_error: 20.1647\n",
            "Epoch 80/250\n",
            "15957/15957 [==============================] - 1s 50us/step - loss: 408.6419 - root_mean_squared_error: 20.2114 - val_loss: 405.0541 - val_root_mean_squared_error: 20.1254\n",
            "Epoch 81/250\n",
            "15957/15957 [==============================] - 1s 50us/step - loss: 402.9114 - root_mean_squared_error: 20.0707 - val_loss: 385.5762 - val_root_mean_squared_error: 19.6360\n",
            "Epoch 82/250\n",
            "15957/15957 [==============================] - 1s 50us/step - loss: 390.0553 - root_mean_squared_error: 19.7467 - val_loss: 374.9232 - val_root_mean_squared_error: 19.3628\n",
            "Epoch 83/250\n",
            "15957/15957 [==============================] - 1s 50us/step - loss: 384.9465 - root_mean_squared_error: 19.6155 - val_loss: 380.8180 - val_root_mean_squared_error: 19.5139\n",
            "Epoch 84/250\n",
            "15957/15957 [==============================] - 1s 50us/step - loss: 377.6381 - root_mean_squared_error: 19.4315 - val_loss: 361.1472 - val_root_mean_squared_error: 19.0034\n",
            "Epoch 85/250\n",
            "15957/15957 [==============================] - 1s 50us/step - loss: 368.5233 - root_mean_squared_error: 19.1940 - val_loss: 373.4671 - val_root_mean_squared_error: 19.3251\n",
            "Epoch 86/250\n",
            "15957/15957 [==============================] - 1s 51us/step - loss: 371.7617 - root_mean_squared_error: 19.2732 - val_loss: 345.0730 - val_root_mean_squared_error: 18.5757\n",
            "Epoch 87/250\n",
            "15957/15957 [==============================] - 1s 50us/step - loss: 346.4576 - root_mean_squared_error: 18.6113 - val_loss: 337.0133 - val_root_mean_squared_error: 18.3574\n",
            "Epoch 88/250\n",
            "15957/15957 [==============================] - 1s 50us/step - loss: 338.9710 - root_mean_squared_error: 18.4076 - val_loss: 327.1255 - val_root_mean_squared_error: 18.0866\n",
            "Epoch 89/250\n",
            "15957/15957 [==============================] - 1s 50us/step - loss: 334.2281 - root_mean_squared_error: 18.2798 - val_loss: 325.9804 - val_root_mean_squared_error: 18.0543\n",
            "Epoch 90/250\n",
            "15957/15957 [==============================] - 1s 50us/step - loss: 334.3255 - root_mean_squared_error: 18.2797 - val_loss: 325.4578 - val_root_mean_squared_error: 18.0397\n",
            "Epoch 91/250\n",
            "15957/15957 [==============================] - 1s 50us/step - loss: 320.4926 - root_mean_squared_error: 17.8985 - val_loss: 316.1293 - val_root_mean_squared_error: 17.7793\n",
            "Epoch 92/250\n",
            "15957/15957 [==============================] - 1s 51us/step - loss: 319.4307 - root_mean_squared_error: 17.8687 - val_loss: 309.6448 - val_root_mean_squared_error: 17.5960\n",
            "Epoch 93/250\n",
            "15957/15957 [==============================] - 1s 50us/step - loss: 304.6024 - root_mean_squared_error: 17.4503 - val_loss: 306.3779 - val_root_mean_squared_error: 17.5028\n",
            "Epoch 94/250\n",
            "15957/15957 [==============================] - 1s 50us/step - loss: 299.1198 - root_mean_squared_error: 17.2917 - val_loss: 290.4361 - val_root_mean_squared_error: 17.0416\n",
            "Epoch 95/250\n",
            "15957/15957 [==============================] - 1s 51us/step - loss: 291.7562 - root_mean_squared_error: 17.0776 - val_loss: 284.1360 - val_root_mean_squared_error: 16.8558\n",
            "Epoch 96/250\n",
            "15957/15957 [==============================] - 1s 50us/step - loss: 286.1599 - root_mean_squared_error: 16.9119 - val_loss: 281.3657 - val_root_mean_squared_error: 16.7733\n",
            "Epoch 97/250\n",
            "15957/15957 [==============================] - 1s 51us/step - loss: 283.4388 - root_mean_squared_error: 16.8319 - val_loss: 283.9962 - val_root_mean_squared_error: 16.8515\n",
            "Epoch 98/250\n",
            "15957/15957 [==============================] - 1s 50us/step - loss: 276.4618 - root_mean_squared_error: 16.6262 - val_loss: 266.7484 - val_root_mean_squared_error: 16.3321\n",
            "Epoch 99/250\n",
            "15957/15957 [==============================] - 1s 51us/step - loss: 271.3456 - root_mean_squared_error: 16.4708 - val_loss: 261.1483 - val_root_mean_squared_error: 16.1599\n",
            "Epoch 100/250\n",
            "15957/15957 [==============================] - 1s 50us/step - loss: 272.2235 - root_mean_squared_error: 16.4918 - val_loss: 268.8445 - val_root_mean_squared_error: 16.3958\n",
            "Epoch 101/250\n",
            "15957/15957 [==============================] - 1s 50us/step - loss: 270.1559 - root_mean_squared_error: 16.4337 - val_loss: 273.8106 - val_root_mean_squared_error: 16.5465\n",
            "Epoch 102/250\n",
            "15957/15957 [==============================] - 1s 50us/step - loss: 297.2962 - root_mean_squared_error: 17.2171 - val_loss: 351.4258 - val_root_mean_squared_error: 18.7457\n",
            "Epoch 103/250\n",
            "15957/15957 [==============================] - 1s 50us/step - loss: 307.1202 - root_mean_squared_error: 17.4939 - val_loss: 305.1311 - val_root_mean_squared_error: 17.4670\n",
            "Epoch 104/250\n",
            "15957/15957 [==============================] - 1s 50us/step - loss: 268.3608 - root_mean_squared_error: 16.3737 - val_loss: 246.9631 - val_root_mean_squared_error: 15.7145\n",
            "Epoch 105/250\n",
            "15957/15957 [==============================] - 1s 50us/step - loss: 253.9141 - root_mean_squared_error: 15.9308 - val_loss: 251.7514 - val_root_mean_squared_error: 15.8660\n",
            "Epoch 106/250\n",
            "15957/15957 [==============================] - 1s 51us/step - loss: 248.2909 - root_mean_squared_error: 15.7545 - val_loss: 241.3028 - val_root_mean_squared_error: 15.5333\n",
            "Epoch 107/250\n",
            "15957/15957 [==============================] - 1s 50us/step - loss: 243.1305 - root_mean_squared_error: 15.5900 - val_loss: 237.1796 - val_root_mean_squared_error: 15.4001\n",
            "Epoch 108/250\n",
            "15957/15957 [==============================] - 1s 51us/step - loss: 240.4143 - root_mean_squared_error: 15.5040 - val_loss: 247.5219 - val_root_mean_squared_error: 15.7322\n",
            "Epoch 109/250\n",
            "15957/15957 [==============================] - 1s 49us/step - loss: 234.9030 - root_mean_squared_error: 15.3246 - val_loss: 229.9248 - val_root_mean_squared_error: 15.1628\n",
            "Epoch 110/250\n",
            "15957/15957 [==============================] - 1s 50us/step - loss: 234.1277 - root_mean_squared_error: 15.2984 - val_loss: 231.9267 - val_root_mean_squared_error: 15.2286\n",
            "Epoch 111/250\n",
            "15957/15957 [==============================] - 1s 50us/step - loss: 244.3409 - root_mean_squared_error: 15.6204 - val_loss: 222.9132 - val_root_mean_squared_error: 14.9299\n",
            "Epoch 112/250\n",
            "15957/15957 [==============================] - 1s 50us/step - loss: 230.7784 - root_mean_squared_error: 15.1901 - val_loss: 218.3386 - val_root_mean_squared_error: 14.7763\n",
            "Epoch 113/250\n",
            "15957/15957 [==============================] - 1s 50us/step - loss: 227.8010 - root_mean_squared_error: 15.0881 - val_loss: 222.9604 - val_root_mean_squared_error: 14.9318\n",
            "Epoch 114/250\n",
            "15957/15957 [==============================] - 1s 50us/step - loss: 223.3593 - root_mean_squared_error: 14.9421 - val_loss: 216.1830 - val_root_mean_squared_error: 14.7028\n",
            "Epoch 115/250\n",
            "15957/15957 [==============================] - 1s 50us/step - loss: 219.1997 - root_mean_squared_error: 14.8033 - val_loss: 209.3766 - val_root_mean_squared_error: 14.4697\n",
            "Epoch 116/250\n",
            "15957/15957 [==============================] - 1s 50us/step - loss: 216.8999 - root_mean_squared_error: 14.7255 - val_loss: 210.7982 - val_root_mean_squared_error: 14.5186\n",
            "Epoch 117/250\n",
            "15957/15957 [==============================] - 1s 51us/step - loss: 215.1995 - root_mean_squared_error: 14.6666 - val_loss: 206.3418 - val_root_mean_squared_error: 14.3644\n",
            "Epoch 118/250\n",
            "15957/15957 [==============================] - 1s 50us/step - loss: 217.7985 - root_mean_squared_error: 14.7520 - val_loss: 205.7058 - val_root_mean_squared_error: 14.3423\n",
            "Epoch 119/250\n",
            "15957/15957 [==============================] - 1s 50us/step - loss: 207.4378 - root_mean_squared_error: 14.3989 - val_loss: 204.0414 - val_root_mean_squared_error: 14.2842\n",
            "Epoch 120/250\n",
            "15957/15957 [==============================] - 1s 50us/step - loss: 205.0459 - root_mean_squared_error: 14.3165 - val_loss: 196.8676 - val_root_mean_squared_error: 14.0309\n",
            "Epoch 121/250\n",
            "15957/15957 [==============================] - 1s 50us/step - loss: 205.3301 - root_mean_squared_error: 14.3241 - val_loss: 196.3930 - val_root_mean_squared_error: 14.0139\n",
            "Epoch 122/250\n",
            "15957/15957 [==============================] - 1s 50us/step - loss: 201.3810 - root_mean_squared_error: 14.1894 - val_loss: 196.0086 - val_root_mean_squared_error: 14.0001\n",
            "Epoch 123/250\n",
            "15957/15957 [==============================] - 1s 51us/step - loss: 198.8012 - root_mean_squared_error: 14.0971 - val_loss: 190.4448 - val_root_mean_squared_error: 13.8002\n",
            "Epoch 124/250\n",
            "15957/15957 [==============================] - 1s 51us/step - loss: 199.9594 - root_mean_squared_error: 14.1366 - val_loss: 188.5403 - val_root_mean_squared_error: 13.7310\n",
            "Epoch 125/250\n",
            "15957/15957 [==============================] - 1s 50us/step - loss: 198.6694 - root_mean_squared_error: 14.0886 - val_loss: 190.4847 - val_root_mean_squared_error: 13.8016\n",
            "Epoch 126/250\n",
            "15957/15957 [==============================] - 1s 50us/step - loss: 193.3663 - root_mean_squared_error: 13.9031 - val_loss: 185.1995 - val_root_mean_squared_error: 13.6088\n",
            "Epoch 127/250\n",
            "15957/15957 [==============================] - 1s 50us/step - loss: 190.9783 - root_mean_squared_error: 13.8174 - val_loss: 183.9220 - val_root_mean_squared_error: 13.5618\n",
            "Epoch 128/250\n",
            "15957/15957 [==============================] - 1s 50us/step - loss: 190.4860 - root_mean_squared_error: 13.7958 - val_loss: 182.6918 - val_root_mean_squared_error: 13.5164\n",
            "Epoch 129/250\n",
            "15957/15957 [==============================] - 1s 50us/step - loss: 189.3776 - root_mean_squared_error: 13.7586 - val_loss: 185.7767 - val_root_mean_squared_error: 13.6300\n",
            "Epoch 130/250\n",
            "15957/15957 [==============================] - 1s 50us/step - loss: 211.0144 - root_mean_squared_error: 14.5002 - val_loss: 272.9139 - val_root_mean_squared_error: 16.5199\n",
            "Epoch 131/250\n",
            "15957/15957 [==============================] - 1s 51us/step - loss: 226.8463 - root_mean_squared_error: 15.0340 - val_loss: 224.4995 - val_root_mean_squared_error: 14.9826\n",
            "Epoch 132/250\n",
            "15957/15957 [==============================] - 1s 50us/step - loss: 203.5510 - root_mean_squared_error: 14.2548 - val_loss: 196.0889 - val_root_mean_squared_error: 14.0029\n",
            "Epoch 133/250\n",
            "15957/15957 [==============================] - 1s 51us/step - loss: 189.2219 - root_mean_squared_error: 13.7537 - val_loss: 182.6696 - val_root_mean_squared_error: 13.5155\n",
            "Epoch 134/250\n",
            "15957/15957 [==============================] - 1s 50us/step - loss: 183.6332 - root_mean_squared_error: 13.5489 - val_loss: 176.5923 - val_root_mean_squared_error: 13.2888\n",
            "Epoch 135/250\n",
            "15957/15957 [==============================] - 1s 51us/step - loss: 183.0634 - root_mean_squared_error: 13.5254 - val_loss: 173.9015 - val_root_mean_squared_error: 13.1872\n",
            "Epoch 136/250\n",
            "15957/15957 [==============================] - 1s 50us/step - loss: 181.1377 - root_mean_squared_error: 13.4542 - val_loss: 184.6361 - val_root_mean_squared_error: 13.5880\n",
            "Epoch 137/250\n",
            "15957/15957 [==============================] - 1s 50us/step - loss: 179.2145 - root_mean_squared_error: 13.3853 - val_loss: 171.4626 - val_root_mean_squared_error: 13.0943\n",
            "Epoch 138/250\n",
            "15957/15957 [==============================] - 1s 50us/step - loss: 179.1621 - root_mean_squared_error: 13.3810 - val_loss: 172.9211 - val_root_mean_squared_error: 13.1499\n",
            "Epoch 139/250\n",
            "15957/15957 [==============================] - 1s 50us/step - loss: 175.4961 - root_mean_squared_error: 13.2423 - val_loss: 168.8853 - val_root_mean_squared_error: 12.9954\n",
            "Epoch 140/250\n",
            "15957/15957 [==============================] - 1s 50us/step - loss: 178.1420 - root_mean_squared_error: 13.3431 - val_loss: 171.1777 - val_root_mean_squared_error: 13.0835\n",
            "Epoch 141/250\n",
            "15957/15957 [==============================] - 1s 51us/step - loss: 178.6957 - root_mean_squared_error: 13.3605 - val_loss: 168.0098 - val_root_mean_squared_error: 12.9615\n",
            "Epoch 142/250\n",
            "15957/15957 [==============================] - 1s 50us/step - loss: 184.8546 - root_mean_squared_error: 13.5859 - val_loss: 170.6691 - val_root_mean_squared_error: 13.0634\n",
            "Epoch 143/250\n",
            "15957/15957 [==============================] - 1s 50us/step - loss: 180.4563 - root_mean_squared_error: 13.4295 - val_loss: 187.0076 - val_root_mean_squared_error: 13.6750\n",
            "Epoch 144/250\n",
            "15957/15957 [==============================] - 1s 50us/step - loss: 175.2571 - root_mean_squared_error: 13.2295 - val_loss: 167.9693 - val_root_mean_squared_error: 12.9603\n",
            "Epoch 145/250\n",
            "15957/15957 [==============================] - 1s 50us/step - loss: 170.3374 - root_mean_squared_error: 13.0459 - val_loss: 178.0244 - val_root_mean_squared_error: 13.3417\n",
            "Epoch 146/250\n",
            "15957/15957 [==============================] - 1s 51us/step - loss: 175.9342 - root_mean_squared_error: 13.2551 - val_loss: 193.3061 - val_root_mean_squared_error: 13.9033\n",
            "Epoch 147/250\n",
            "15957/15957 [==============================] - 1s 50us/step - loss: 181.8672 - root_mean_squared_error: 13.4740 - val_loss: 164.3233 - val_root_mean_squared_error: 12.8185\n",
            "Epoch 148/250\n",
            "15957/15957 [==============================] - 1s 50us/step - loss: 169.0807 - root_mean_squared_error: 13.0004 - val_loss: 167.0148 - val_root_mean_squared_error: 12.9225\n",
            "Epoch 149/250\n",
            "15957/15957 [==============================] - 1s 50us/step - loss: 168.7845 - root_mean_squared_error: 12.9859 - val_loss: 167.1208 - val_root_mean_squared_error: 12.9275\n",
            "Epoch 150/250\n",
            "15957/15957 [==============================] - 1s 50us/step - loss: 164.0956 - root_mean_squared_error: 12.8060 - val_loss: 159.6230 - val_root_mean_squared_error: 12.6336\n",
            "Epoch 151/250\n",
            "15957/15957 [==============================] - 1s 51us/step - loss: 163.2531 - root_mean_squared_error: 12.7697 - val_loss: 163.9454 - val_root_mean_squared_error: 12.8040\n",
            "Epoch 152/250\n",
            "15957/15957 [==============================] - 1s 50us/step - loss: 169.5876 - root_mean_squared_error: 13.0154 - val_loss: 171.9784 - val_root_mean_squared_error: 13.1140\n",
            "Epoch 153/250\n",
            "15957/15957 [==============================] - 1s 50us/step - loss: 165.7396 - root_mean_squared_error: 12.8686 - val_loss: 160.1899 - val_root_mean_squared_error: 12.6557\n",
            "Epoch 154/250\n",
            "15957/15957 [==============================] - 1s 50us/step - loss: 162.5172 - root_mean_squared_error: 12.7432 - val_loss: 156.8238 - val_root_mean_squared_error: 12.5224\n",
            "Epoch 155/250\n",
            "15957/15957 [==============================] - 1s 50us/step - loss: 172.2376 - root_mean_squared_error: 13.1145 - val_loss: 164.4723 - val_root_mean_squared_error: 12.8245\n",
            "Epoch 156/250\n",
            "15957/15957 [==============================] - 1s 50us/step - loss: 163.9891 - root_mean_squared_error: 12.8003 - val_loss: 156.5885 - val_root_mean_squared_error: 12.5131\n",
            "Epoch 157/250\n",
            "15957/15957 [==============================] - 1s 51us/step - loss: 157.9697 - root_mean_squared_error: 12.5647 - val_loss: 155.1630 - val_root_mean_squared_error: 12.4559\n",
            "Epoch 158/250\n",
            "15957/15957 [==============================] - 1s 51us/step - loss: 160.5451 - root_mean_squared_error: 12.6669 - val_loss: 162.1246 - val_root_mean_squared_error: 12.7326\n",
            "Epoch 159/250\n",
            "15957/15957 [==============================] - 1s 50us/step - loss: 159.0433 - root_mean_squared_error: 12.6070 - val_loss: 158.1424 - val_root_mean_squared_error: 12.5750\n",
            "Epoch 160/250\n",
            "15957/15957 [==============================] - 1s 50us/step - loss: 161.3040 - root_mean_squared_error: 12.6934 - val_loss: 175.8217 - val_root_mean_squared_error: 13.2597\n",
            "Epoch 161/250\n",
            "15957/15957 [==============================] - 1s 50us/step - loss: 169.5386 - root_mean_squared_error: 13.0015 - val_loss: 154.5778 - val_root_mean_squared_error: 12.4324\n",
            "Epoch 162/250\n",
            "15957/15957 [==============================] - 1s 50us/step - loss: 156.7334 - root_mean_squared_error: 12.5142 - val_loss: 161.7919 - val_root_mean_squared_error: 12.7194\n",
            "Epoch 163/250\n",
            "15957/15957 [==============================] - 1s 51us/step - loss: 155.8253 - root_mean_squared_error: 12.4794 - val_loss: 154.0902 - val_root_mean_squared_error: 12.4122\n",
            "Epoch 164/250\n",
            "15957/15957 [==============================] - 1s 50us/step - loss: 160.7565 - root_mean_squared_error: 12.6756 - val_loss: 158.4600 - val_root_mean_squared_error: 12.5878\n",
            "Epoch 165/250\n",
            "15957/15957 [==============================] - 1s 50us/step - loss: 153.8199 - root_mean_squared_error: 12.3979 - val_loss: 150.2168 - val_root_mean_squared_error: 12.2556\n",
            "Epoch 166/250\n",
            "15957/15957 [==============================] - 1s 50us/step - loss: 157.3688 - root_mean_squared_error: 12.5413 - val_loss: 152.3265 - val_root_mean_squared_error: 12.3409\n",
            "Epoch 167/250\n",
            "15957/15957 [==============================] - 1s 50us/step - loss: 154.0146 - root_mean_squared_error: 12.4054 - val_loss: 149.6745 - val_root_mean_squared_error: 12.2331\n",
            "Epoch 168/250\n",
            "15957/15957 [==============================] - 1s 51us/step - loss: 151.6500 - root_mean_squared_error: 12.3081 - val_loss: 149.2807 - val_root_mean_squared_error: 12.2165\n",
            "Epoch 169/250\n",
            "15957/15957 [==============================] - 1s 50us/step - loss: 152.4343 - root_mean_squared_error: 12.3401 - val_loss: 150.7521 - val_root_mean_squared_error: 12.2769\n",
            "Epoch 170/250\n",
            "15957/15957 [==============================] - 1s 50us/step - loss: 152.3847 - root_mean_squared_error: 12.3385 - val_loss: 149.4658 - val_root_mean_squared_error: 12.2249\n",
            "Epoch 171/250\n",
            "15957/15957 [==============================] - 1s 50us/step - loss: 151.9936 - root_mean_squared_error: 12.3239 - val_loss: 148.3023 - val_root_mean_squared_error: 12.1774\n",
            "Epoch 172/250\n",
            "15957/15957 [==============================] - 1s 51us/step - loss: 156.5281 - root_mean_squared_error: 12.5035 - val_loss: 192.1094 - val_root_mean_squared_error: 13.8603\n",
            "Epoch 173/250\n",
            "15957/15957 [==============================] - 1s 50us/step - loss: 164.4509 - root_mean_squared_error: 12.8101 - val_loss: 160.6107 - val_root_mean_squared_error: 12.6720\n",
            "Epoch 174/250\n",
            "15957/15957 [==============================] - 1s 51us/step - loss: 154.0989 - root_mean_squared_error: 12.4119 - val_loss: 148.1132 - val_root_mean_squared_error: 12.1696\n",
            "Epoch 175/250\n",
            "15957/15957 [==============================] - 1s 50us/step - loss: 151.1266 - root_mean_squared_error: 12.2900 - val_loss: 148.0063 - val_root_mean_squared_error: 12.1651\n",
            "Epoch 176/250\n",
            "15957/15957 [==============================] - 1s 50us/step - loss: 149.8903 - root_mean_squared_error: 12.2384 - val_loss: 146.1055 - val_root_mean_squared_error: 12.0862\n",
            "Epoch 177/250\n",
            "15957/15957 [==============================] - 1s 50us/step - loss: 150.6471 - root_mean_squared_error: 12.2677 - val_loss: 161.7649 - val_root_mean_squared_error: 12.7183\n",
            "Epoch 178/250\n",
            "15957/15957 [==============================] - 1s 51us/step - loss: 152.7766 - root_mean_squared_error: 12.3508 - val_loss: 150.9287 - val_root_mean_squared_error: 12.2839\n",
            "Epoch 179/250\n",
            "15957/15957 [==============================] - 1s 50us/step - loss: 154.6861 - root_mean_squared_error: 12.4254 - val_loss: 146.3321 - val_root_mean_squared_error: 12.0962\n",
            "Epoch 180/250\n",
            "15957/15957 [==============================] - 1s 50us/step - loss: 147.7219 - root_mean_squared_error: 12.1525 - val_loss: 155.9852 - val_root_mean_squared_error: 12.4889\n",
            "Epoch 181/250\n",
            "15957/15957 [==============================] - 1s 51us/step - loss: 152.2079 - root_mean_squared_error: 12.3301 - val_loss: 150.8303 - val_root_mean_squared_error: 12.2808\n",
            "Epoch 182/250\n",
            "15957/15957 [==============================] - 1s 50us/step - loss: 149.7101 - root_mean_squared_error: 12.2275 - val_loss: 144.7416 - val_root_mean_squared_error: 12.0298\n",
            "Epoch 183/250\n",
            "15957/15957 [==============================] - 1s 50us/step - loss: 145.6572 - root_mean_squared_error: 12.0642 - val_loss: 154.6011 - val_root_mean_squared_error: 12.4332\n",
            "Epoch 184/250\n",
            "15957/15957 [==============================] - 1s 52us/step - loss: 145.5751 - root_mean_squared_error: 12.0614 - val_loss: 157.5543 - val_root_mean_squared_error: 12.5516\n",
            "Epoch 185/250\n",
            "15957/15957 [==============================] - 1s 50us/step - loss: 151.4653 - root_mean_squared_error: 12.2954 - val_loss: 142.6078 - val_root_mean_squared_error: 11.9412\n",
            "Epoch 186/250\n",
            "15957/15957 [==============================] - 1s 51us/step - loss: 151.1458 - root_mean_squared_error: 12.2893 - val_loss: 147.4134 - val_root_mean_squared_error: 12.1399\n",
            "Epoch 187/250\n",
            "15957/15957 [==============================] - 1s 50us/step - loss: 147.2723 - root_mean_squared_error: 12.1280 - val_loss: 154.8600 - val_root_mean_squared_error: 12.4439\n",
            "Epoch 188/250\n",
            "15957/15957 [==============================] - 1s 50us/step - loss: 146.8114 - root_mean_squared_error: 12.1127 - val_loss: 146.1382 - val_root_mean_squared_error: 12.0875\n",
            "Epoch 189/250\n",
            "15957/15957 [==============================] - 1s 50us/step - loss: 147.9619 - root_mean_squared_error: 12.1557 - val_loss: 142.1441 - val_root_mean_squared_error: 11.9217\n",
            "Epoch 190/250\n",
            "15957/15957 [==============================] - 1s 51us/step - loss: 140.7965 - root_mean_squared_error: 11.8609 - val_loss: 142.6436 - val_root_mean_squared_error: 11.9416\n",
            "Epoch 191/250\n",
            "15957/15957 [==============================] - 1s 50us/step - loss: 143.5441 - root_mean_squared_error: 11.9766 - val_loss: 141.4395 - val_root_mean_squared_error: 11.8913\n",
            "Epoch 192/250\n",
            "15957/15957 [==============================] - 1s 50us/step - loss: 142.9044 - root_mean_squared_error: 11.9488 - val_loss: 161.5055 - val_root_mean_squared_error: 12.7082\n",
            "Epoch 193/250\n",
            "15957/15957 [==============================] - 1s 50us/step - loss: 146.0031 - root_mean_squared_error: 12.0730 - val_loss: 140.6702 - val_root_mean_squared_error: 11.8597\n",
            "Epoch 194/250\n",
            "15957/15957 [==============================] - 1s 50us/step - loss: 142.4300 - root_mean_squared_error: 11.9315 - val_loss: 144.2514 - val_root_mean_squared_error: 12.0098\n",
            "Epoch 195/250\n",
            "15957/15957 [==============================] - 1s 50us/step - loss: 142.8566 - root_mean_squared_error: 11.9458 - val_loss: 142.2156 - val_root_mean_squared_error: 11.9245\n",
            "Epoch 196/250\n",
            "15957/15957 [==============================] - 1s 50us/step - loss: 143.3107 - root_mean_squared_error: 11.9665 - val_loss: 142.6371 - val_root_mean_squared_error: 11.9425\n",
            "Epoch 197/250\n",
            "15957/15957 [==============================] - 1s 50us/step - loss: 143.1858 - root_mean_squared_error: 11.9591 - val_loss: 140.5962 - val_root_mean_squared_error: 11.8554\n",
            "Epoch 198/250\n",
            "15957/15957 [==============================] - 1s 51us/step - loss: 143.3739 - root_mean_squared_error: 11.9654 - val_loss: 141.6591 - val_root_mean_squared_error: 11.9012\n",
            "Epoch 199/250\n",
            "15957/15957 [==============================] - 1s 50us/step - loss: 140.9308 - root_mean_squared_error: 11.8660 - val_loss: 137.9920 - val_root_mean_squared_error: 11.7459\n",
            "Epoch 200/250\n",
            "15957/15957 [==============================] - 1s 51us/step - loss: 142.7340 - root_mean_squared_error: 11.9374 - val_loss: 139.7644 - val_root_mean_squared_error: 11.8209\n",
            "Epoch 201/250\n",
            "15957/15957 [==============================] - 1s 51us/step - loss: 140.6697 - root_mean_squared_error: 11.8567 - val_loss: 138.2762 - val_root_mean_squared_error: 11.7581\n",
            "Epoch 202/250\n",
            "15957/15957 [==============================] - 1s 50us/step - loss: 139.1798 - root_mean_squared_error: 11.7920 - val_loss: 138.4770 - val_root_mean_squared_error: 11.7662\n",
            "Epoch 203/250\n",
            "15957/15957 [==============================] - 1s 50us/step - loss: 139.3536 - root_mean_squared_error: 11.7988 - val_loss: 148.4095 - val_root_mean_squared_error: 12.1798\n",
            "Epoch 204/250\n",
            "15957/15957 [==============================] - 1s 50us/step - loss: 143.7683 - root_mean_squared_error: 11.9863 - val_loss: 137.4071 - val_root_mean_squared_error: 11.7212\n",
            "Epoch 205/250\n",
            "15957/15957 [==============================] - 1s 50us/step - loss: 139.4066 - root_mean_squared_error: 11.8027 - val_loss: 143.6614 - val_root_mean_squared_error: 11.9849\n",
            "Epoch 206/250\n",
            "15957/15957 [==============================] - 1s 50us/step - loss: 138.4271 - root_mean_squared_error: 11.7616 - val_loss: 144.7571 - val_root_mean_squared_error: 12.0294\n",
            "Epoch 207/250\n",
            "15957/15957 [==============================] - 1s 50us/step - loss: 144.8780 - root_mean_squared_error: 12.0281 - val_loss: 138.1393 - val_root_mean_squared_error: 11.7517\n",
            "Epoch 208/250\n",
            "15957/15957 [==============================] - 1s 50us/step - loss: 139.9592 - root_mean_squared_error: 11.8277 - val_loss: 137.8177 - val_root_mean_squared_error: 11.7384\n",
            "Epoch 209/250\n",
            "15957/15957 [==============================] - 1s 51us/step - loss: 137.3906 - root_mean_squared_error: 11.7177 - val_loss: 136.2434 - val_root_mean_squared_error: 11.6710\n",
            "Epoch 210/250\n",
            "15957/15957 [==============================] - 1s 50us/step - loss: 136.3838 - root_mean_squared_error: 11.6743 - val_loss: 138.3646 - val_root_mean_squared_error: 11.7614\n",
            "Epoch 211/250\n",
            "15957/15957 [==============================] - 1s 50us/step - loss: 137.1048 - root_mean_squared_error: 11.7024 - val_loss: 136.0389 - val_root_mean_squared_error: 11.6623\n",
            "Epoch 212/250\n",
            "15957/15957 [==============================] - 1s 50us/step - loss: 137.1803 - root_mean_squared_error: 11.7047 - val_loss: 136.1129 - val_root_mean_squared_error: 11.6644\n",
            "Epoch 213/250\n",
            "15957/15957 [==============================] - 1s 50us/step - loss: 137.6657 - root_mean_squared_error: 11.7281 - val_loss: 135.6057 - val_root_mean_squared_error: 11.6431\n",
            "Epoch 214/250\n",
            "15957/15957 [==============================] - 1s 50us/step - loss: 141.8567 - root_mean_squared_error: 11.9029 - val_loss: 147.7543 - val_root_mean_squared_error: 12.1549\n",
            "Epoch 215/250\n",
            "15957/15957 [==============================] - 1s 50us/step - loss: 141.3980 - root_mean_squared_error: 11.8832 - val_loss: 135.2730 - val_root_mean_squared_error: 11.6296\n",
            "Epoch 216/250\n",
            "15957/15957 [==============================] - 1s 50us/step - loss: 149.1876 - root_mean_squared_error: 12.1972 - val_loss: 135.4140 - val_root_mean_squared_error: 11.6358\n",
            "Epoch 217/250\n",
            "15957/15957 [==============================] - 1s 51us/step - loss: 141.4275 - root_mean_squared_error: 11.8836 - val_loss: 135.1933 - val_root_mean_squared_error: 11.6257\n",
            "Epoch 218/250\n",
            "15957/15957 [==============================] - 1s 50us/step - loss: 141.2941 - root_mean_squared_error: 11.8799 - val_loss: 150.2869 - val_root_mean_squared_error: 12.2586\n",
            "Epoch 219/250\n",
            "15957/15957 [==============================] - 1s 50us/step - loss: 138.5739 - root_mean_squared_error: 11.7652 - val_loss: 135.6234 - val_root_mean_squared_error: 11.6447\n",
            "Epoch 220/250\n",
            "15957/15957 [==============================] - 1s 51us/step - loss: 140.1888 - root_mean_squared_error: 11.8342 - val_loss: 138.4289 - val_root_mean_squared_error: 11.7642\n",
            "Epoch 221/250\n",
            "15957/15957 [==============================] - 1s 50us/step - loss: 139.2366 - root_mean_squared_error: 11.7948 - val_loss: 158.4933 - val_root_mean_squared_error: 12.5884\n",
            "Epoch 222/250\n",
            "15957/15957 [==============================] - 1s 50us/step - loss: 139.6883 - root_mean_squared_error: 11.8117 - val_loss: 135.0390 - val_root_mean_squared_error: 11.6192\n",
            "Epoch 223/250\n",
            "15957/15957 [==============================] - 1s 50us/step - loss: 134.9964 - root_mean_squared_error: 11.6118 - val_loss: 134.0586 - val_root_mean_squared_error: 11.5770\n",
            "Epoch 224/250\n",
            "15957/15957 [==============================] - 1s 50us/step - loss: 133.3281 - root_mean_squared_error: 11.5423 - val_loss: 134.8306 - val_root_mean_squared_error: 11.6105\n",
            "Epoch 225/250\n",
            "15957/15957 [==============================] - 1s 51us/step - loss: 135.8849 - root_mean_squared_error: 11.6513 - val_loss: 133.8293 - val_root_mean_squared_error: 11.5674\n",
            "Epoch 226/250\n",
            "15957/15957 [==============================] - 1s 50us/step - loss: 140.2878 - root_mean_squared_error: 11.8344 - val_loss: 132.8510 - val_root_mean_squared_error: 11.5249\n",
            "Epoch 227/250\n",
            "15957/15957 [==============================] - 1s 50us/step - loss: 135.9733 - root_mean_squared_error: 11.6524 - val_loss: 132.1471 - val_root_mean_squared_error: 11.4941\n",
            "Epoch 228/250\n",
            "15957/15957 [==============================] - 1s 50us/step - loss: 133.2412 - root_mean_squared_error: 11.5341 - val_loss: 136.3752 - val_root_mean_squared_error: 11.6755\n",
            "Epoch 229/250\n",
            "15957/15957 [==============================] - 1s 50us/step - loss: 133.9101 - root_mean_squared_error: 11.5678 - val_loss: 133.1950 - val_root_mean_squared_error: 11.5395\n",
            "Epoch 230/250\n",
            "15957/15957 [==============================] - 1s 51us/step - loss: 135.7582 - root_mean_squared_error: 11.6442 - val_loss: 144.0438 - val_root_mean_squared_error: 12.0009\n",
            "Epoch 231/250\n",
            "15957/15957 [==============================] - 1s 50us/step - loss: 134.9784 - root_mean_squared_error: 11.6113 - val_loss: 131.4609 - val_root_mean_squared_error: 11.4633\n",
            "Epoch 232/250\n",
            "15957/15957 [==============================] - 1s 51us/step - loss: 130.7660 - root_mean_squared_error: 11.4307 - val_loss: 131.1183 - val_root_mean_squared_error: 11.4488\n",
            "Epoch 233/250\n",
            "15957/15957 [==============================] - 1s 51us/step - loss: 133.6755 - root_mean_squared_error: 11.5510 - val_loss: 138.0177 - val_root_mean_squared_error: 11.7462\n",
            "Epoch 234/250\n",
            "15957/15957 [==============================] - 1s 50us/step - loss: 134.5438 - root_mean_squared_error: 11.5950 - val_loss: 135.2710 - val_root_mean_squared_error: 11.6280\n",
            "Epoch 235/250\n",
            "15957/15957 [==============================] - 1s 50us/step - loss: 136.9337 - root_mean_squared_error: 11.6948 - val_loss: 138.3111 - val_root_mean_squared_error: 11.7591\n",
            "Epoch 236/250\n",
            "15957/15957 [==============================] - 1s 50us/step - loss: 134.0962 - root_mean_squared_error: 11.5744 - val_loss: 132.0431 - val_root_mean_squared_error: 11.4894\n",
            "Epoch 237/250\n",
            "15957/15957 [==============================] - 1s 50us/step - loss: 133.0355 - root_mean_squared_error: 11.5281 - val_loss: 133.8378 - val_root_mean_squared_error: 11.5669\n",
            "Epoch 238/250\n",
            "15957/15957 [==============================] - 1s 50us/step - loss: 132.2128 - root_mean_squared_error: 11.4963 - val_loss: 129.7682 - val_root_mean_squared_error: 11.3899\n",
            "Epoch 239/250\n",
            "15957/15957 [==============================] - 1s 51us/step - loss: 135.7004 - root_mean_squared_error: 11.6425 - val_loss: 129.4879 - val_root_mean_squared_error: 11.3775\n",
            "Epoch 240/250\n",
            "15957/15957 [==============================] - 1s 50us/step - loss: 131.9005 - root_mean_squared_error: 11.4780 - val_loss: 137.6978 - val_root_mean_squared_error: 11.7325\n",
            "Epoch 241/250\n",
            "15957/15957 [==============================] - 1s 50us/step - loss: 133.7213 - root_mean_squared_error: 11.5603 - val_loss: 128.6380 - val_root_mean_squared_error: 11.3399\n",
            "Epoch 242/250\n",
            "15957/15957 [==============================] - 1s 50us/step - loss: 134.7208 - root_mean_squared_error: 11.5998 - val_loss: 132.5567 - val_root_mean_squared_error: 11.5102\n",
            "Epoch 243/250\n",
            "15957/15957 [==============================] - 1s 50us/step - loss: 131.4669 - root_mean_squared_error: 11.4599 - val_loss: 127.8508 - val_root_mean_squared_error: 11.3045\n",
            "Epoch 244/250\n",
            "15957/15957 [==============================] - 1s 51us/step - loss: 129.3592 - root_mean_squared_error: 11.3700 - val_loss: 135.1328 - val_root_mean_squared_error: 11.6230\n",
            "Epoch 245/250\n",
            "15957/15957 [==============================] - 1s 51us/step - loss: 132.2384 - root_mean_squared_error: 11.4903 - val_loss: 135.5748 - val_root_mean_squared_error: 11.6417\n",
            "Epoch 246/250\n",
            "15957/15957 [==============================] - 1s 51us/step - loss: 130.3047 - root_mean_squared_error: 11.4106 - val_loss: 128.7004 - val_root_mean_squared_error: 11.3413\n",
            "Epoch 247/250\n",
            "15957/15957 [==============================] - 1s 51us/step - loss: 130.8776 - root_mean_squared_error: 11.4308 - val_loss: 135.2681 - val_root_mean_squared_error: 11.6286\n",
            "Epoch 248/250\n",
            "15957/15957 [==============================] - 1s 51us/step - loss: 129.7297 - root_mean_squared_error: 11.3832 - val_loss: 126.1110 - val_root_mean_squared_error: 11.2274\n",
            "Epoch 249/250\n",
            "15957/15957 [==============================] - 1s 50us/step - loss: 128.5002 - root_mean_squared_error: 11.3313 - val_loss: 126.9427 - val_root_mean_squared_error: 11.2645\n",
            "Epoch 250/250\n",
            "15957/15957 [==============================] - 1s 51us/step - loss: 127.4038 - root_mean_squared_error: 11.2850 - val_loss: 127.4768 - val_root_mean_squared_error: 11.2884\n"
          ],
          "name": "stdout"
        }
      ]
    },
    {
      "cell_type": "code",
      "metadata": {
        "id": "4H_S6LK541Gs",
        "colab_type": "code",
        "outputId": "7585516a-78ec-4899-8c79-d654ac02fa4d",
        "colab": {
          "base_uri": "https://localhost:8080/",
          "height": 663
        }
      },
      "source": [
        "  cnnturbofan.summary()"
      ],
      "execution_count": 22,
      "outputs": [
        {
          "output_type": "stream",
          "text": [
            "Model: \"cnnturbofan\"\n",
            "_________________________________________________________________\n",
            "Layer (type)                 Output Shape              Param #   \n",
            "=================================================================\n",
            "input_1 (InputLayer)         (None, 30, 14, 1)         0         \n",
            "_________________________________________________________________\n",
            "conv0 (Conv2D)               (None, 30, 14, 10)        110       \n",
            "_________________________________________________________________\n",
            "activation_1 (Activation)    (None, 30, 14, 10)        0         \n",
            "_________________________________________________________________\n",
            "conv1 (Conv2D)               (None, 30, 14, 10)        1010      \n",
            "_________________________________________________________________\n",
            "activation_2 (Activation)    (None, 30, 14, 10)        0         \n",
            "_________________________________________________________________\n",
            "conv2 (Conv2D)               (None, 30, 14, 10)        1010      \n",
            "_________________________________________________________________\n",
            "activation_3 (Activation)    (None, 30, 14, 10)        0         \n",
            "_________________________________________________________________\n",
            "conv3 (Conv2D)               (None, 30, 14, 10)        1010      \n",
            "_________________________________________________________________\n",
            "activation_4 (Activation)    (None, 30, 14, 10)        0         \n",
            "_________________________________________________________________\n",
            "conv4 (Conv2D)               (None, 30, 14, 1)         31        \n",
            "_________________________________________________________________\n",
            "activation_5 (Activation)    (None, 30, 14, 1)         0         \n",
            "_________________________________________________________________\n",
            "flatten_1 (Flatten)          (None, 420)               0         \n",
            "_________________________________________________________________\n",
            "dropout_1 (Dropout)          (None, 420)               0         \n",
            "_________________________________________________________________\n",
            "fully-connected (Dense)      (None, 100)               42100     \n",
            "_________________________________________________________________\n",
            "rul-neuron (Dense)           (None, 1)                 101       \n",
            "=================================================================\n",
            "Total params: 45,372\n",
            "Trainable params: 45,372\n",
            "Non-trainable params: 0\n",
            "_________________________________________________________________\n"
          ],
          "name": "stdout"
        }
      ]
    },
    {
      "cell_type": "code",
      "metadata": {
        "id": "fj2BQVWTHspb",
        "colab_type": "code",
        "colab": {}
      },
      "source": [
        "hola = cnnturbofan.predict(features_maps)"
      ],
      "execution_count": 0,
      "outputs": []
    },
    {
      "cell_type": "code",
      "metadata": {
        "id": "FOowaH-AMvuQ",
        "colab_type": "code",
        "outputId": "22b18988-ed0b-4d35-eb13-73dd18907d98",
        "colab": {
          "base_uri": "https://localhost:8080/",
          "height": 410
        }
      },
      "source": [
        "#acc = history.history['mean_absolute_error']\n",
        "#val_acc = history.history['val_mean_absolute_error']\n",
        "loss = history.history['loss']\n",
        "val_loss = history.history['val_loss']\n",
        "\n",
        "epochs = range(len(loss))\n",
        "\n",
        "##plt.plot(epochs, acc, 'r', label='Training accuracy')\n",
        "#plt.plot(epochs, val_acc, 'b', label='Validation accuracy')\n",
        "#plt.title('Training and validation accuracy')\n",
        "#plt.legend()\n",
        "#plt.figure()\n",
        "\n",
        "plt.figure(figsize=(20,6))\n",
        "plt.grid(True) \n",
        "plt.plot(epochs, loss, 'black',lw=0.9, label='Training Loss')\n",
        "plt.plot(epochs, val_loss, 'orange',lw=0.9, label='Validation Loss')\n",
        "plt.plot(epochs, np.ones(len(epochs))*12.2, 'blue',lw=1.3,label='Threshold')\n",
        "plt.title('Training and validation loss')\n",
        "plt.legend()\n",
        "  \n",
        "\n",
        "plt.show()"
      ],
      "execution_count": 24,
      "outputs": [
        {
          "output_type": "display_data",
          "data": {
            "image/png": "[encoded data removed]",
            "text/plain": [
              "<Figure size 1440x432 with 1 Axes>"
            ]
          },
          "metadata": {
            "tags": []
          }
        }
      ]
    },
    {
      "cell_type": "code",
      "metadata": {
        "id": "A5CSaPRxgIdb",
        "colab_type": "code",
        "colab": {}
      },
      "source": [
        "holi = cnnturbofan.predict(list2)"
      ],
      "execution_count": 0,
      "outputs": []
    },
    {
      "cell_type": "code",
      "metadata": {
        "id": "w6cxUshdgvAi",
        "colab_type": "code",
        "outputId": "fba5d97c-2281-487a-bc94-6665f1b82479",
        "colab": {
          "base_uri": "https://localhost:8080/",
          "height": 336
        }
      },
      "source": [
        "leng = range(100)\n",
        "\n",
        "#plt.plot(leng, acc, 'r', label='Training accuracy')\n",
        "#plt.plot(leng, val_acc, 'b', label='Validation accuracy')\n",
        "#plt.title('Training and validation accuracy')\n",
        "#plt.legend()\n",
        "#plt.figure()\n",
        "\n",
        "plt.figure(figsize=(5,5))\n",
        "plt.grid(True) \n",
        "plt.plot(leng, holi, 'bo',lw=0.9, label='predict')\n",
        "plt.plot(leng, list1, 'ro',lw=0.9, label='true')\n",
        "plt.title('True and predict')\n",
        "plt.legend()\n",
        "  \n",
        "\n",
        "plt.show()"
      ],
      "execution_count": 26,
      "outputs": [
        {
          "output_type": "display_data",
          "data": {
            "image/png": "[encoded data removed]",
            "text/plain": [
              "<Figure size 360x360 with 1 Axes>"
            ]
          },
          "metadata": {
            "tags": []
          }
        }
      ]
    },
    {
      "cell_type": "code",
      "metadata": {
        "id": "J6087uYvh0jm",
        "colab_type": "code",
        "outputId": "9e632bad-a551-41ce-ed7b-5817fdbf1cfb",
        "colab": {
          "base_uri": "https://localhost:8080/",
          "height": 34
        }
      },
      "source": [
        "from sklearn.metrics import mean_squared_error\n",
        "from math import sqrt\n",
        "\n",
        "rmse = sqrt(mean_squared_error(holi, list1))\n",
        "print(rmse)"
      ],
      "execution_count": 27,
      "outputs": [
        {
          "output_type": "stream",
          "text": [
            "12.140436588979243\n"
          ],
          "name": "stdout"
        }
      ]
    }
  ]
}