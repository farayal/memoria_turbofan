{
  "nbformat": 4,
  "nbformat_minor": 0,
  "metadata": {
    "kernelspec": {
      "name": "python3",
      "display_name": "Python 3"
    },
    "language_info": {
      "codemirror_mode": {
        "name": "ipython",
        "version": 3
      },
      "file_extension": ".py",
      "mimetype": "text/x-python",
      "name": "python",
      "nbconvert_exporter": "python",
      "pygments_lexer": "ipython3",
      "version": "3.7.1"
    },
    "colab": {
      "name": "turbofan.ipynb",
      "provenance": [],
      "collapsed_sections": [
        "Z_43AThGgBFM",
        "CrHnC2wogJCh",
        "UUeuUh9j8ygy"
      ],
      "toc_visible": true
    },
    "accelerator": "GPU"
  },
  "cells": [
    {
      "cell_type": "code",
      "metadata": {
        "id": "iWcMxjIzXsWZ",
        "colab_type": "code",
        "colab": {}
      },
      "source": [
        "import matplotlib.pyplot as plt\n",
        "import pandas as pd\n",
        "import numpy as np\n",
        "import seaborn as sns\n",
        "from sklearn.preprocessing import MinMaxScaler\n",
        "\n",
        "%matplotlib inline"
      ],
      "execution_count": 0,
      "outputs": []
    },
    {
      "cell_type": "markdown",
      "metadata": {
        "id": "B5YNYPgOP7_J",
        "colab_type": "text"
      },
      "source": [
        "## Train Set preprocesamiento\n"
      ]
    },
    {
      "cell_type": "markdown",
      "metadata": {
        "id": "Z_43AThGgBFM",
        "colab_type": "text"
      },
      "source": [
        "### FD001"
      ]
    },
    {
      "cell_type": "code",
      "metadata": {
        "id": "bBQtEyIjXsWd",
        "colab_type": "code",
        "colab": {}
      },
      "source": [
        "#Creación dataframe train set para preprocesamiento \n",
        "\n",
        "df = pd.read_csv('train_FD001.txt', sep = ' ', header = None)\n",
        "df = df.drop(columns=[26, 27])\n",
        "df.columns = ([\"n_engine\",\"cycle\",\"opset_1\",\"opset_2\",\"opset_3\",\n",
        "              \"sens_1\",\"sens_2\",\"sens_3\",\"sens_4\",\"sens_5\",\"sens_6\",\"sens_7\",\"sens_8\",\"sens_9\",\"sens_10\",\n",
        "              \"sens_11\",\"sens_12\",\"sens_13\",\"sens_14\",\"sens_15\",\"sens_16\",\"sens_17\",\"sens_18\",\"sens_19\",\"sens_20\",\"sens_21\"])\n",
        "df = df.drop(['sens_1','sens_5','sens_6','sens_10','sens_16','sens_18','sens_19'],axis=1)"
      ],
      "execution_count": 0,
      "outputs": []
    },
    {
      "cell_type": "code",
      "metadata": {
        "id": "wu1lGYaaXsWo",
        "colab_type": "code",
        "colab": {}
      },
      "source": [
        "#Agregada variable RUL a df y normalización de columnas (salvo RUL)\n",
        "RUL_temp=np.zeros(0)\n",
        "for i in range(1,df['n_engine'].max() + 1):\n",
        "    minus = np.linspace(1,df[df['n_engine']==i]['cycle'].max(),df[df['n_engine']==i]['cycle'].max())\n",
        "    RUL_engine = np.ones((df[df['n_engine']==i]['cycle'].max()))*df[df['n_engine']==i]['cycle'].max()\n",
        "    RUL_temp = np.append(RUL_temp,RUL_engine-minus)\n",
        "df['RUL'] = RUL_temp\n",
        "df['RUL'] = df['RUL'].astype(int)\n",
        "scaler = MinMaxScaler(feature_range=(-1,1))\n",
        "df[df.columns[1:19]]= scaler.fit_transform(df[df.columns[1:19]])"
      ],
      "execution_count": 0,
      "outputs": []
    },
    {
      "cell_type": "code",
      "metadata": {
        "id": "GYN_qflVXsWs",
        "colab_type": "code",
        "outputId": "1659f9ae-a34c-4973-f7ca-bd54930c76b9",
        "colab": {
          "base_uri": "https://localhost:8080/",
          "height": 224
        }
      },
      "source": [
        "#contenido dataframe df\n",
        "df.iloc[0:30][:].head()"
      ],
      "execution_count": 4,
      "outputs": [
        {
          "output_type": "execute_result",
          "data": {
            "text/html": [
              "<div>\n",
              "<style scoped>\n",
              "    .dataframe tbody tr th:only-of-type {\n",
              "        vertical-align: middle;\n",
              "    }\n",
              "\n",
              "    .dataframe tbody tr th {\n",
              "        vertical-align: top;\n",
              "    }\n",
              "\n",
              "    .dataframe thead th {\n",
              "        text-align: right;\n",
              "    }\n",
              "</style>\n",
              "<table border=\"1\" class=\"dataframe\">\n",
              "  <thead>\n",
              "    <tr style=\"text-align: right;\">\n",
              "      <th></th>\n",
              "      <th>n_engine</th>\n",
              "      <th>cycle</th>\n",
              "      <th>opset_1</th>\n",
              "      <th>opset_2</th>\n",
              "      <th>opset_3</th>\n",
              "      <th>sens_2</th>\n",
              "      <th>sens_3</th>\n",
              "      <th>sens_4</th>\n",
              "      <th>sens_7</th>\n",
              "      <th>sens_8</th>\n",
              "      <th>sens_9</th>\n",
              "      <th>sens_11</th>\n",
              "      <th>sens_12</th>\n",
              "      <th>sens_13</th>\n",
              "      <th>sens_14</th>\n",
              "      <th>sens_15</th>\n",
              "      <th>sens_17</th>\n",
              "      <th>sens_20</th>\n",
              "      <th>sens_21</th>\n",
              "      <th>RUL</th>\n",
              "    </tr>\n",
              "  </thead>\n",
              "  <tbody>\n",
              "    <tr>\n",
              "      <th>0</th>\n",
              "      <td>1</td>\n",
              "      <td>-1.000000</td>\n",
              "      <td>-0.080460</td>\n",
              "      <td>-0.666667</td>\n",
              "      <td>-1.0</td>\n",
              "      <td>-0.632530</td>\n",
              "      <td>-0.186396</td>\n",
              "      <td>-0.380486</td>\n",
              "      <td>0.452496</td>\n",
              "      <td>-0.515152</td>\n",
              "      <td>-0.780490</td>\n",
              "      <td>-0.261905</td>\n",
              "      <td>0.266525</td>\n",
              "      <td>-0.588235</td>\n",
              "      <td>-0.600784</td>\n",
              "      <td>-0.272028</td>\n",
              "      <td>-0.333333</td>\n",
              "      <td>0.426357</td>\n",
              "      <td>0.449323</td>\n",
              "      <td>191</td>\n",
              "    </tr>\n",
              "    <tr>\n",
              "      <th>1</th>\n",
              "      <td>1</td>\n",
              "      <td>-0.994460</td>\n",
              "      <td>0.218391</td>\n",
              "      <td>-0.500000</td>\n",
              "      <td>-1.0</td>\n",
              "      <td>-0.433735</td>\n",
              "      <td>-0.093961</td>\n",
              "      <td>-0.294733</td>\n",
              "      <td>0.256039</td>\n",
              "      <td>-0.575758</td>\n",
              "      <td>-0.799515</td>\n",
              "      <td>-0.238095</td>\n",
              "      <td>0.530917</td>\n",
              "      <td>-0.441176</td>\n",
              "      <td>-0.674373</td>\n",
              "      <td>-0.177376</td>\n",
              "      <td>-0.333333</td>\n",
              "      <td>0.333333</td>\n",
              "      <td>0.462027</td>\n",
              "      <td>190</td>\n",
              "    </tr>\n",
              "    <tr>\n",
              "      <th>2</th>\n",
              "      <td>1</td>\n",
              "      <td>-0.988920</td>\n",
              "      <td>-0.494253</td>\n",
              "      <td>0.500000</td>\n",
              "      <td>-1.0</td>\n",
              "      <td>-0.313253</td>\n",
              "      <td>-0.260955</td>\n",
              "      <td>-0.258947</td>\n",
              "      <td>0.420290</td>\n",
              "      <td>-0.454545</td>\n",
              "      <td>-0.719914</td>\n",
              "      <td>-0.500000</td>\n",
              "      <td>0.590618</td>\n",
              "      <td>-0.558824</td>\n",
              "      <td>-0.656414</td>\n",
              "      <td>-0.285110</td>\n",
              "      <td>-0.666667</td>\n",
              "      <td>0.255814</td>\n",
              "      <td>0.242751</td>\n",
              "      <td>189</td>\n",
              "    </tr>\n",
              "    <tr>\n",
              "      <th>3</th>\n",
              "      <td>1</td>\n",
              "      <td>-0.983380</td>\n",
              "      <td>0.080460</td>\n",
              "      <td>0.000000</td>\n",
              "      <td>-1.0</td>\n",
              "      <td>-0.313253</td>\n",
              "      <td>-0.487683</td>\n",
              "      <td>-0.337610</td>\n",
              "      <td>0.481481</td>\n",
              "      <td>-0.363636</td>\n",
              "      <td>-0.750965</td>\n",
              "      <td>-0.666667</td>\n",
              "      <td>0.778252</td>\n",
              "      <td>-0.411765</td>\n",
              "      <td>-0.650222</td>\n",
              "      <td>-0.666795</td>\n",
              "      <td>-0.333333</td>\n",
              "      <td>0.147287</td>\n",
              "      <td>0.324772</td>\n",
              "      <td>188</td>\n",
              "    </tr>\n",
              "    <tr>\n",
              "      <th>4</th>\n",
              "      <td>1</td>\n",
              "      <td>-0.977839</td>\n",
              "      <td>-0.218391</td>\n",
              "      <td>-0.333333</td>\n",
              "      <td>-1.0</td>\n",
              "      <td>-0.301205</td>\n",
              "      <td>-0.485066</td>\n",
              "      <td>-0.190749</td>\n",
              "      <td>0.336554</td>\n",
              "      <td>-0.515152</td>\n",
              "      <td>-0.700081</td>\n",
              "      <td>-0.488095</td>\n",
              "      <td>0.492537</td>\n",
              "      <td>-0.529412</td>\n",
              "      <td>-0.650532</td>\n",
              "      <td>-0.195845</td>\n",
              "      <td>-0.166667</td>\n",
              "      <td>0.178295</td>\n",
              "      <td>0.409003</td>\n",
              "      <td>187</td>\n",
              "    </tr>\n",
              "  </tbody>\n",
              "</table>\n",
              "</div>"
            ],
            "text/plain": [
              "   n_engine     cycle   opset_1   opset_2  ...   sens_17   sens_20   sens_21  RUL\n",
              "0         1 -1.000000 -0.080460 -0.666667  ... -0.333333  0.426357  0.449323  191\n",
              "1         1 -0.994460  0.218391 -0.500000  ... -0.333333  0.333333  0.462027  190\n",
              "2         1 -0.988920 -0.494253  0.500000  ... -0.666667  0.255814  0.242751  189\n",
              "3         1 -0.983380  0.080460  0.000000  ... -0.333333  0.147287  0.324772  188\n",
              "4         1 -0.977839 -0.218391 -0.333333  ... -0.166667  0.178295  0.409003  187\n",
              "\n",
              "[5 rows x 20 columns]"
            ]
          },
          "metadata": {
            "tags": []
          },
          "execution_count": 4
        }
      ]
    },
    {
      "cell_type": "code",
      "metadata": {
        "id": "ZqmN__iOXsWx",
        "colab_type": "code",
        "colab": {}
      },
      "source": [
        "# Creación de features maps\n",
        "\n",
        "features_maps=np.empty((30,14,1))\n",
        "df_ys = np.zeros((1,1))\n",
        "for i in range(1,df['n_engine'].max()+1):\n",
        "  #se obtienen los dataset de engines independientes en df_temp\n",
        "  df_temp1 = df[df['n_engine'] == i]\n",
        "  df_temp2 = df_temp1.drop(['n_engine','cycle','opset_1','opset_2','opset_3'],axis=1)\n",
        "  df_features = df_temp2.drop(['RUL'],axis = 1)\n",
        "  df_y = df_temp2['RUL'].to_numpy()\n",
        "  df_ys = np.append(df_ys,df_y[29:])\n",
        "  for j in range(len(df_y)-29):\n",
        "    feature_map = df_features[j:j+30][:]\n",
        "    features_maps = np.dstack((features_maps, feature_map))\n",
        "features_maps=np.delete(features_maps, 0, 2)\n",
        "df_ys = np.delete(df_ys, 0, 0)"
      ],
      "execution_count": 0,
      "outputs": []
    },
    {
      "cell_type": "code",
      "metadata": {
        "id": "NwW_ULNgXsW2",
        "colab_type": "code",
        "outputId": "546078c1-c166-4a0a-a300-2b12369837e7",
        "colab": {
          "base_uri": "https://localhost:8080/",
          "height": 51
        }
      },
      "source": [
        "#Dimensiones feature maps y features maps apilados\n",
        "print(features_maps.shape)\n",
        "print(feature_map.shape)"
      ],
      "execution_count": 6,
      "outputs": [
        {
          "output_type": "stream",
          "text": [
            "(30, 14, 17731)\n",
            "(30, 14)\n"
          ],
          "name": "stdout"
        }
      ]
    },
    {
      "cell_type": "code",
      "metadata": {
        "id": "UnXLmy3taBHo",
        "colab_type": "code",
        "outputId": "e9974bdf-d107-4e3d-d913-98c2410eccf4",
        "colab": {
          "base_uri": "https://localhost:8080/",
          "height": 51
        }
      },
      "source": [
        "# cambio de dimensión features maps de forma Ntimestaps,Nfeatures,M) a (M,Ntimestaps,Nfeatures)\n",
        "print(df_ys.shape)\n",
        "features_maps = np.moveaxis(features_maps, 2, 0)\n",
        "print(features_maps.shape)"
      ],
      "execution_count": 7,
      "outputs": [
        {
          "output_type": "stream",
          "text": [
            "(17731,)\n",
            "(17731, 30, 14)\n"
          ],
          "name": "stdout"
        }
      ]
    },
    {
      "cell_type": "code",
      "metadata": {
        "id": "eL4RKvXPl7cr",
        "colab_type": "code",
        "outputId": "3aa62992-cad0-41fc-aaf4-6017191150e1",
        "colab": {
          "base_uri": "https://localhost:8080/",
          "height": 51
        }
      },
      "source": [
        "# Expansion a 2 dimensiones para vector con Yverdaderos (RUL conjunto de entrenamiento) y 4 para features maps\n",
        "df_ys = np.expand_dims(df_ys,axis=1)\n",
        "features_maps= np.expand_dims(features_maps,3)\n",
        "print(df_ys.shape)\n",
        "print(features_maps.shape)"
      ],
      "execution_count": 8,
      "outputs": [
        {
          "output_type": "stream",
          "text": [
            "(17731, 1)\n",
            "(17731, 30, 14, 1)\n"
          ],
          "name": "stdout"
        }
      ]
    },
    {
      "cell_type": "code",
      "metadata": {
        "id": "7QWjmiljbKvZ",
        "colab_type": "code",
        "outputId": "0038ebf8-617c-4835-9524-de364db9dc59",
        "colab": {
          "base_uri": "https://localhost:8080/",
          "height": 136
        }
      },
      "source": [
        "# Se barajan pares  (feature map, Yverdadero(RUL)) en forma aleatoria para evitar sesgo al comenzar\n",
        "# el entreno de las ANN\n",
        "\n",
        "from sklearn.utils import shuffle\n",
        "\n",
        "features_maps, df_ys = shuffle(features_maps, df_ys, random_state=10)\n",
        "\n",
        "# Todos los rul > a 125 se setean en 125 segun papers\n",
        "\n",
        "for i in range(len(df_ys)):\n",
        "  if df_ys[i] >= 125:\n",
        "    df_ys[i] = 125\n",
        "  else:\n",
        "    df_ys[i] = df_ys[i]\n",
        "\n",
        "print(df_ys)\n",
        "\n",
        "# \n",
        "\n",
        "ys_train = df_ys[:int(len(df_ys)*0.9)]\n",
        "ys_valid = df_ys[int(len(df_ys)*0.9):]\n",
        "\n",
        "features_maps_train = features_maps[:int(len(df_ys)*0.9)]\n",
        "features_maps_valid = features_maps[int(len(df_ys)*0.9):]"
      ],
      "execution_count": 9,
      "outputs": [
        {
          "output_type": "stream",
          "text": [
            "[[20.]\n",
            " [51.]\n",
            " [ 3.]\n",
            " ...\n",
            " [ 2.]\n",
            " [67.]\n",
            " [57.]]\n"
          ],
          "name": "stdout"
        }
      ]
    },
    {
      "cell_type": "markdown",
      "metadata": {
        "id": "CrHnC2wogJCh",
        "colab_type": "text"
      },
      "source": [
        "### FD002"
      ]
    },
    {
      "cell_type": "code",
      "metadata": {
        "id": "tnFDVbONgLdF",
        "colab_type": "code",
        "colab": {}
      },
      "source": [
        "#Creación dataframe train set para preprocesamiento \n",
        "\n",
        "df = pd.read_csv('train_FD002.txt', sep = ' ', header = None)\n",
        "df = df.drop(columns=[26, 27])\n",
        "df.columns = ([\"n_engine\",\"cycle\",\"opset_1\",\"opset_2\",\"opset_3\",\n",
        "              \"sens_1\",\"sens_2\",\"sens_3\",\"sens_4\",\"sens_5\",\"sens_6\",\"sens_7\",\"sens_8\",\"sens_9\",\"sens_10\",\n",
        "              \"sens_11\",\"sens_12\",\"sens_13\",\"sens_14\",\"sens_15\",\"sens_16\",\"sens_17\",\"sens_18\",\"sens_19\",\"sens_20\",\"sens_21\"])\n",
        "df = df.drop(['sens_1','sens_5','sens_6','sens_10','sens_16','sens_18','sens_19'],axis=1)"
      ],
      "execution_count": 0,
      "outputs": []
    },
    {
      "cell_type": "code",
      "metadata": {
        "id": "m0wSDabZmgDN",
        "colab_type": "code",
        "colab": {}
      },
      "source": [
        "#Agregada variable RUL a df y normalización de columnas (salvo RUL)\n",
        "RUL_temp=np.zeros(0)\n",
        "for i in range(1,df['n_engine'].max() + 1):\n",
        "    minus = np.linspace(1,df[df['n_engine']==i]['cycle'].max(),df[df['n_engine']==i]['cycle'].max())\n",
        "    RUL_engine = np.ones((df[df['n_engine']==i]['cycle'].max()))*df[df['n_engine']==i]['cycle'].max()\n",
        "    RUL_temp = np.append(RUL_temp,RUL_engine-minus)\n",
        "df['RUL'] = RUL_temp\n",
        "df['RUL'] = df['RUL'].astype(int)\n",
        "scaler = MinMaxScaler(feature_range=(-1,1))\n",
        "df[df.columns[1:19]]= scaler.fit_transform(df[df.columns[1:19]])"
      ],
      "execution_count": 0,
      "outputs": []
    },
    {
      "cell_type": "code",
      "metadata": {
        "id": "DNk70lvLmf6E",
        "colab_type": "code",
        "colab": {}
      },
      "source": [
        "features_maps_2=np.empty((20,14,1))\n",
        "df_ys_2 = np.zeros((1,1))\n",
        "for i in range(1,df['n_engine'].max()+1):\n",
        "  #se obtienen los dataset de engines independientes en df_temp\n",
        "  df_temp1 = df[df['n_engine'] == i]\n",
        "  df_temp2 = df_temp1.drop(['n_engine','cycle','opset_1','opset_2','opset_3'],axis=1)\n",
        "  df_features = df_temp2.drop(['RUL'],axis = 1)\n",
        "  df_y = df_temp2['RUL'].to_numpy()\n",
        "  df_ys_2 = np.append(df_ys_2,df_y[19:])\n",
        "  for j in range(len(df_y)-19):\n",
        "    feature_map = df_features[j:j+20][:]\n",
        "    features_maps_2 = np.dstack((features_maps_2, feature_map))\n",
        "features_maps_2=np.delete(features_maps_2, 0, 2)\n",
        "df_ys_2 = np.delete(df_ys_2, 0, 0)"
      ],
      "execution_count": 0,
      "outputs": []
    },
    {
      "cell_type": "code",
      "metadata": {
        "id": "-SGg584dmfvI",
        "colab_type": "code",
        "colab": {
          "base_uri": "https://localhost:8080/",
          "height": 51
        },
        "outputId": "af5dbbb6-7d39-4bc5-d42a-bc811ced7840"
      },
      "source": [
        "#Dimensiones feature maps y features maps_2 apilados\n",
        "print(features_maps_2.shape)\n",
        "print(feature_map.shape)"
      ],
      "execution_count": 44,
      "outputs": [
        {
          "output_type": "stream",
          "text": [
            "(20, 14, 48819)\n",
            "(20, 14)\n"
          ],
          "name": "stdout"
        }
      ]
    },
    {
      "cell_type": "code",
      "metadata": {
        "id": "7WC9yL0Cmfbv",
        "colab_type": "code",
        "colab": {
          "base_uri": "https://localhost:8080/",
          "height": 51
        },
        "outputId": "9f971daa-b9a4-4f25-e6a9-369725e578a5"
      },
      "source": [
        "# cambio de dimensión features maps de forma Ntimestaps,Nfeatures,M) a (M,Ntimestaps,Nfeatures)\n",
        "print(df_ys_2.shape)\n",
        "features_maps_2 = np.moveaxis(features_maps_2, 2, 0)\n",
        "print(features_maps_2.shape)"
      ],
      "execution_count": 45,
      "outputs": [
        {
          "output_type": "stream",
          "text": [
            "(48819,)\n",
            "(48819, 20, 14)\n"
          ],
          "name": "stdout"
        }
      ]
    },
    {
      "cell_type": "code",
      "metadata": {
        "id": "0oCJV8Rw0Pgp",
        "colab_type": "code",
        "colab": {
          "base_uri": "https://localhost:8080/",
          "height": 51
        },
        "outputId": "e2b8df01-9d69-473d-a6fe-d37f48b40cb3"
      },
      "source": [
        "# Expansion a 2 dimensiones para vector con Yverdaderos (RUL conjunto de entrenamiento) y 4 para features maps\n",
        "df_ys_2 = np.expand_dims(df_ys_2,axis=1)\n",
        "features_maps_2= np.expand_dims(features_maps_2,3)\n",
        "print(df_ys_2.shape)\n",
        "print(features_maps_2.shape)"
      ],
      "execution_count": 46,
      "outputs": [
        {
          "output_type": "stream",
          "text": [
            "(48819, 1)\n",
            "(48819, 20, 14, 1)\n"
          ],
          "name": "stdout"
        }
      ]
    },
    {
      "cell_type": "code",
      "metadata": {
        "id": "IKSBUJbS0PZh",
        "colab_type": "code",
        "colab": {
          "base_uri": "https://localhost:8080/",
          "height": 136
        },
        "outputId": "25fb6c1d-6139-49c2-e626-f16b572b310b"
      },
      "source": [
        "features_maps_2, df_ys_2 = shuffle(features_maps_2, df_ys_2, random_state=10)\n",
        "\n",
        "# Todos los rul > a 125 se setean en 125 segun papers\n",
        "\n",
        "for i in range(len(df_ys_2)):\n",
        "  if df_ys_2[i] >= 125:\n",
        "    df_ys_2[i] = 125\n",
        "  else:\n",
        "    df_ys_2[i] = df_ys_2[i]\n",
        "\n",
        "print(df_ys_2)\n",
        "\n",
        "# \n",
        "\n",
        "ys_train_2 = df_ys_2[:int(len(df_ys_2)*0.9)]\n",
        "ys_valid_2 = df_ys_2[int(len(df_ys_2)*0.9):]\n",
        "\n",
        "features_maps_train_2 = features_maps_2[:int(len(df_ys_2)*0.9)]\n",
        "features_maps_valid_2 = features_maps_2[int(len(df_ys_2)*0.9):]"
      ],
      "execution_count": 47,
      "outputs": [
        {
          "output_type": "stream",
          "text": [
            "[[ 37.]\n",
            " [125.]\n",
            " [125.]\n",
            " ...\n",
            " [125.]\n",
            " [ 65.]\n",
            " [112.]]\n"
          ],
          "name": "stdout"
        }
      ]
    },
    {
      "cell_type": "markdown",
      "metadata": {
        "id": "5B6_opRMKYJx",
        "colab_type": "text"
      },
      "source": [
        "### FD003"
      ]
    },
    {
      "cell_type": "code",
      "metadata": {
        "id": "kJN1gV6nKdkw",
        "colab_type": "code",
        "colab": {}
      },
      "source": [
        "#Creación dataframe train set para preprocesamiento \n",
        "\n",
        "df = pd.read_csv('train_FD003.txt', sep = ' ', header = None)\n",
        "df = df.drop(columns=[26, 27])\n",
        "df.columns = ([\"n_engine\",\"cycle\",\"opset_1\",\"opset_2\",\"opset_3\",\n",
        "              \"sens_1\",\"sens_2\",\"sens_3\",\"sens_4\",\"sens_5\",\"sens_6\",\"sens_7\",\"sens_8\",\"sens_9\",\"sens_10\",\n",
        "              \"sens_11\",\"sens_12\",\"sens_13\",\"sens_14\",\"sens_15\",\"sens_16\",\"sens_17\",\"sens_18\",\"sens_19\",\"sens_20\",\"sens_21\"])\n",
        "df = df.drop(['sens_1','sens_5','sens_6','sens_10','sens_16','sens_18','sens_19'],axis=1)"
      ],
      "execution_count": 0,
      "outputs": []
    },
    {
      "cell_type": "code",
      "metadata": {
        "id": "wfoYf5uYLNgQ",
        "colab_type": "code",
        "colab": {}
      },
      "source": [
        "#Agregada variable RUL a df y normalización de columnas (salvo RUL)\n",
        "RUL_temp=np.zeros(0)\n",
        "for i in range(1,df['n_engine'].max() + 1):\n",
        "    minus = np.linspace(1,df[df['n_engine']==i]['cycle'].max(),df[df['n_engine']==i]['cycle'].max())\n",
        "    RUL_engine = np.ones((df[df['n_engine']==i]['cycle'].max()))*df[df['n_engine']==i]['cycle'].max()\n",
        "    RUL_temp = np.append(RUL_temp,RUL_engine-minus)\n",
        "df['RUL'] = RUL_temp\n",
        "df['RUL'] = df['RUL'].astype(int)\n",
        "scaler = MinMaxScaler(feature_range=(-1,1))\n",
        "df[df.columns[1:19]]= scaler.fit_transform(df[df.columns[1:19]])"
      ],
      "execution_count": 0,
      "outputs": []
    },
    {
      "cell_type": "code",
      "metadata": {
        "id": "eGLKmoatLTOe",
        "colab_type": "code",
        "colab": {}
      },
      "source": [
        "features_maps_3=np.empty((30,14,1))\n",
        "df_ys_3 = np.zeros((1,1))\n",
        "for i in range(1,df['n_engine'].max()+1):\n",
        "  #se obtienen los dataset de engines independientes en df_temp\n",
        "  df_temp1 = df[df['n_engine'] == i]\n",
        "  df_temp2 = df_temp1.drop(['n_engine','cycle','opset_1','opset_2','opset_3'],axis=1)\n",
        "  df_features = df_temp2.drop(['RUL'],axis = 1)\n",
        "  df_y = df_temp2['RUL'].to_numpy()\n",
        "  df_ys_3 = np.append(df_ys_3,df_y[29:])\n",
        "  for j in range(len(df_y)-29):\n",
        "    feature_map = df_features[j:j+30][:]\n",
        "    features_maps_3 = np.dstack((features_maps_3, feature_map))\n",
        "features_maps_3=np.delete(features_maps_3, 0, 2)\n",
        "df_ys_3 = np.delete(df_ys_3, 0, 0)"
      ],
      "execution_count": 0,
      "outputs": []
    },
    {
      "cell_type": "code",
      "metadata": {
        "id": "I203JljzL0fw",
        "colab_type": "code",
        "colab": {}
      },
      "source": [
        "print(features_maps_3.shape)\n",
        "print(feature_map.shape)"
      ],
      "execution_count": 0,
      "outputs": []
    },
    {
      "cell_type": "code",
      "metadata": {
        "id": "V-TJ0utnL5GL",
        "colab_type": "code",
        "colab": {}
      },
      "source": [
        ""
      ],
      "execution_count": 0,
      "outputs": []
    },
    {
      "cell_type": "code",
      "metadata": {
        "id": "-qDVmqMOL4-G",
        "colab_type": "code",
        "colab": {}
      },
      "source": [
        ""
      ],
      "execution_count": 0,
      "outputs": []
    },
    {
      "cell_type": "code",
      "metadata": {
        "id": "-hbHh6jxL42U",
        "colab_type": "code",
        "colab": {}
      },
      "source": [
        ""
      ],
      "execution_count": 0,
      "outputs": []
    },
    {
      "cell_type": "code",
      "metadata": {
        "id": "RgcyXB0XL4sg",
        "colab_type": "code",
        "colab": {}
      },
      "source": [
        ""
      ],
      "execution_count": 0,
      "outputs": []
    },
    {
      "cell_type": "markdown",
      "metadata": {
        "id": "UUeuUh9j8ygy",
        "colab_type": "text"
      },
      "source": [
        "## Test set"
      ]
    },
    {
      "cell_type": "markdown",
      "metadata": {
        "id": "N109MEZB4CX-",
        "colab_type": "text"
      },
      "source": [
        "### FD001"
      ]
    },
    {
      "cell_type": "code",
      "metadata": {
        "id": "7c9KF4tvT3iz",
        "colab_type": "code",
        "colab": {}
      },
      "source": [
        "df_t = pd.read_csv('test_FD001.txt', sep = ' ', header = None)\n",
        "df_t = df_t.drop(columns=[26, 27])\n",
        "df_t.columns = ([\"n_engine\",\"cycle\",\"opset_1\",\"opset_2\",\"opset_3\",\n",
        "              \"sens_1\",\"sens_2\",\"sens_3\",\"sens_4\",\"sens_5\",\"sens_6\",\"sens_7\",\"sens_8\",\"sens_9\",\"sens_10\",\n",
        "              \"sens_11\",\"sens_12\",\"sens_13\",\"sens_14\",\"sens_15\",\"sens_16\",\"sens_17\",\"sens_18\",\"sens_19\",\"sens_20\",\"sens_21\"])\n",
        "df_t = df_t.drop(['sens_1','sens_5','sens_6','sens_10','sens_16','sens_18','sens_19'],axis=1)\n",
        "df_t[df_t.columns[1:19]]= scaler.transform(df_t[df_t.columns[1:19]])"
      ],
      "execution_count": 0,
      "outputs": []
    },
    {
      "cell_type": "code",
      "metadata": {
        "id": "fEMbnv78Pzxi",
        "colab_type": "code",
        "outputId": "b12c1126-63e6-4677-a3a3-d83bbd7a54a6",
        "colab": {
          "base_uri": "https://localhost:8080/",
          "height": 54
        }
      },
      "source": [
        "ruls_test= []\n",
        "rul_file = open(\"RUL_FD001.txt\", \"r\")\n",
        "for rul_line in rul_file:\n",
        "  ruls_test.append(int(rul_line.rstrip(' \\n')))\n",
        "print(ruls_test)\n"
      ],
      "execution_count": 11,
      "outputs": [
        {
          "output_type": "stream",
          "text": [
            "[112, 98, 69, 82, 91, 93, 91, 95, 111, 96, 97, 124, 95, 107, 83, 84, 50, 28, 87, 16, 57, 111, 113, 20, 145, 119, 66, 97, 90, 115, 8, 48, 106, 7, 11, 19, 21, 50, 142, 28, 18, 10, 59, 109, 114, 47, 135, 92, 21, 79, 114, 29, 26, 97, 137, 15, 103, 37, 114, 100, 21, 54, 72, 28, 128, 14, 77, 8, 121, 94, 118, 50, 131, 126, 113, 10, 34, 107, 63, 90, 8, 9, 137, 58, 118, 89, 116, 115, 136, 28, 38, 20, 85, 55, 128, 137, 82, 59, 117, 20]\n"
          ],
          "name": "stdout"
        }
      ]
    },
    {
      "cell_type": "code",
      "metadata": {
        "id": "fpNkOxXpH6oS",
        "colab_type": "code",
        "colab": {}
      },
      "source": [
        "features_maps_test=np.empty((30,14,1))\n",
        "for i in range(1,df_t['n_engine'].max()+1):\n",
        "  #se obtienen los dataset de engines independientes en df_temp\n",
        "  df_temp = df_t[df_t['n_engine'] == i].drop(['n_engine','cycle','opset_1','opset_2','opset_3'],axis=1)\n",
        "  df_large = df_temp['sens_8'].count()\n",
        "  feature_map = df_temp[df_large-30:][:]\n",
        "  features_maps_test = np.dstack((features_maps_test, feature_map))\n",
        "features_maps_test=np.delete(features_maps_test, 0, 2)"
      ],
      "execution_count": 0,
      "outputs": []
    },
    {
      "cell_type": "code",
      "metadata": {
        "id": "XGTMJgX5XBo9",
        "colab_type": "code",
        "outputId": "feec71b4-65fa-41a3-8392-bb7e42b81ee1",
        "colab": {
          "base_uri": "https://localhost:8080/",
          "height": 51
        }
      },
      "source": [
        "print(features_maps_test.shape)\n",
        "print(feature_map.shape)"
      ],
      "execution_count": 13,
      "outputs": [
        {
          "output_type": "stream",
          "text": [
            "(30, 14, 100)\n",
            "(30, 14)\n"
          ],
          "name": "stdout"
        }
      ]
    },
    {
      "cell_type": "code",
      "metadata": {
        "id": "7I3J3SksZo7I",
        "colab_type": "code",
        "outputId": "9e5e328c-02ad-42ba-acfb-d6a83d05f613",
        "colab": {
          "base_uri": "https://localhost:8080/",
          "height": 34
        }
      },
      "source": [
        "features_maps_test = np.moveaxis(features_maps_test, 2, 0)\n",
        "print(features_maps_test.shape)"
      ],
      "execution_count": 14,
      "outputs": [
        {
          "output_type": "stream",
          "text": [
            "(100, 30, 14)\n"
          ],
          "name": "stdout"
        }
      ]
    },
    {
      "cell_type": "code",
      "metadata": {
        "id": "ezAIjNxodVmY",
        "colab_type": "code",
        "outputId": "72104c48-1b0e-4489-c5f1-bf53197548ab",
        "colab": {
          "base_uri": "https://localhost:8080/",
          "height": 34
        }
      },
      "source": [
        "features_maps_test= np.expand_dims(features_maps_test,3)\n",
        "print(features_maps_test.shape)"
      ],
      "execution_count": 15,
      "outputs": [
        {
          "output_type": "stream",
          "text": [
            "(100, 30, 14, 1)\n"
          ],
          "name": "stdout"
        }
      ]
    },
    {
      "cell_type": "code",
      "metadata": {
        "id": "jEIWASmadiAx",
        "colab_type": "code",
        "outputId": "2e96a8a0-9c1f-4b4e-cde2-df049509df4a",
        "colab": {
          "base_uri": "https://localhost:8080/",
          "height": 119
        }
      },
      "source": [
        "list1 = np.array(ruls_test)\n",
        "list2 = np.array(features_maps_test)\n",
        "idx   = np.argsort(list1)\n",
        "\n",
        "list1 = np.array(list1)[idx]\n",
        "list2 = np.array(list2)[idx]\n",
        "\n",
        "for i in range(len(list1)):\n",
        "  if list1[i] >= 125:\n",
        "    list1[i] = 125\n",
        "  else:\n",
        "    list1[i] = list1[i]\n",
        "\n",
        "print(list1)"
      ],
      "execution_count": 16,
      "outputs": [
        {
          "output_type": "stream",
          "text": [
            "[  7   8   8   8   9  10  10  11  14  15  16  18  19  20  20  20  21  21\n",
            "  21  26  28  28  28  28  29  34  37  38  47  48  50  50  50  54  55  57\n",
            "  58  59  59  63  66  69  72  77  79  82  82  83  84  85  87  89  90  90\n",
            "  91  91  92  93  94  95  95  96  97  97  97  98 100 103 106 107 107 109\n",
            " 111 111 112 113 113 114 114 114 115 115 116 117 118 118 119 121 124 125\n",
            " 125 125 125 125 125 125 125 125 125 125]\n"
          ],
          "name": "stdout"
        }
      ]
    },
    {
      "cell_type": "markdown",
      "metadata": {
        "id": "Q4Khv-0d5tci",
        "colab_type": "text"
      },
      "source": [
        "### FD002"
      ]
    },
    {
      "cell_type": "code",
      "metadata": {
        "id": "PprJoQaS5yJl",
        "colab_type": "code",
        "colab": {}
      },
      "source": [
        "df_t = pd.read_csv('test_FD002.txt', sep = ' ', header = None)\n",
        "df_t = df_t.drop(columns=[26, 27])\n",
        "df_t.columns = ([\"n_engine\",\"cycle\",\"opset_1\",\"opset_2\",\"opset_3\",\n",
        "              \"sens_1\",\"sens_2\",\"sens_3\",\"sens_4\",\"sens_5\",\"sens_6\",\"sens_7\",\"sens_8\",\"sens_9\",\"sens_10\",\n",
        "              \"sens_11\",\"sens_12\",\"sens_13\",\"sens_14\",\"sens_15\",\"sens_16\",\"sens_17\",\"sens_18\",\"sens_19\",\"sens_20\",\"sens_21\"])\n",
        "df_t = df_t.drop(['sens_1','sens_5','sens_6','sens_10','sens_16','sens_18','sens_19'],axis=1)\n",
        "df_t[df_t.columns[1:19]]= scaler.transform(df_t[df_t.columns[1:19]])"
      ],
      "execution_count": 0,
      "outputs": []
    },
    {
      "cell_type": "code",
      "metadata": {
        "id": "VK8yDURr5yHT",
        "colab_type": "code",
        "colab": {}
      },
      "source": [
        "ruls_test= []\n",
        "rul_file = open(\"RUL_FD002.txt\", \"r\")\n",
        "for rul_line in rul_file:\n",
        "  ruls_test.append(int(rul_line.rstrip(' \\n')))"
      ],
      "execution_count": 0,
      "outputs": []
    },
    {
      "cell_type": "code",
      "metadata": {
        "id": "QjfshtT05yC6",
        "colab_type": "code",
        "colab": {}
      },
      "source": [
        "features_maps_test=np.empty((20,14,1))\n",
        "for i in range(1,df_t['n_engine'].max()+1):\n",
        "  #se obtienen los dataset de engines independientes en df_temp\n",
        "  df_temp = df_t[df_t['n_engine'] == i].drop(['n_engine','cycle','opset_1','opset_2','opset_3'],axis=1)\n",
        "  df_large = df_temp['sens_8'].count()\n",
        "  feature_map = df_temp[df_large-20:][:]\n",
        "  features_maps_test = np.dstack((features_maps_test, feature_map))\n",
        "features_maps_test=np.delete(features_maps_test, 0, 2)"
      ],
      "execution_count": 0,
      "outputs": []
    },
    {
      "cell_type": "code",
      "metadata": {
        "id": "d59L89sH5x_W",
        "colab_type": "code",
        "colab": {
          "base_uri": "https://localhost:8080/",
          "height": 51
        },
        "outputId": "99b1d1a2-d17c-46b8-e9b0-0b742b05b322"
      },
      "source": [
        "print(features_maps_test.shape)\n",
        "print(feature_map.shape)"
      ],
      "execution_count": 94,
      "outputs": [
        {
          "output_type": "stream",
          "text": [
            "(20, 14, 259)\n",
            "(20, 14)\n"
          ],
          "name": "stdout"
        }
      ]
    },
    {
      "cell_type": "code",
      "metadata": {
        "id": "guMjyFVv5x6Y",
        "colab_type": "code",
        "colab": {
          "base_uri": "https://localhost:8080/",
          "height": 34
        },
        "outputId": "289afda1-8c10-4c28-9f00-72923812bb66"
      },
      "source": [
        "features_maps_test = np.moveaxis(features_maps_test, 2, 0)\n",
        "print(features_maps_test.shape)"
      ],
      "execution_count": 95,
      "outputs": [
        {
          "output_type": "stream",
          "text": [
            "(259, 20, 14)\n"
          ],
          "name": "stdout"
        }
      ]
    },
    {
      "cell_type": "code",
      "metadata": {
        "id": "RnjlFb7h8JcQ",
        "colab_type": "code",
        "colab": {
          "base_uri": "https://localhost:8080/",
          "height": 34
        },
        "outputId": "8102c1ab-f94a-41de-bbac-bfe2d67cddd5"
      },
      "source": [
        "features_maps_test= np.expand_dims(features_maps_test,3)\n",
        "print(features_maps_test.shape)"
      ],
      "execution_count": 96,
      "outputs": [
        {
          "output_type": "stream",
          "text": [
            "(259, 20, 14, 1)\n"
          ],
          "name": "stdout"
        }
      ]
    },
    {
      "cell_type": "code",
      "metadata": {
        "id": "Ii02s6m88JSy",
        "colab_type": "code",
        "colab": {
          "base_uri": "https://localhost:8080/",
          "height": 272
        },
        "outputId": "58a697c4-ca54-4160-b4c0-b23c10c6190e"
      },
      "source": [
        "list1_2 = np.array(ruls_test)\n",
        "list2_2 = np.array(features_maps_test)\n",
        "idx   = np.argsort(list1_2)\n",
        "\n",
        "list1_2 = np.array(list1_2)[idx]\n",
        "list2_2 = np.array(list2_2)[idx]\n",
        "\n",
        "for i in range(len(list1_2)):\n",
        "  if list1_2[i] >= 125:\n",
        "    list1_2[i] = 125\n",
        "  else:\n",
        "    list1_2[i] = list1_2[i]\n",
        "\n",
        "print(list1_2)"
      ],
      "execution_count": 97,
      "outputs": [
        {
          "output_type": "stream",
          "text": [
            "[  6   6   6   6   6   7   7   7   8   8   8   8   8   8   9   9   9   9\n",
            "   9  10  10  10  11  11  11  11  11  11  12  12  12  13  13  13  13  14\n",
            "  14  14  14  14  14  15  15  15  15  15  16  17  17  17  18  18  19  21\n",
            "  22  23  23  23  26  27  30  31  32  34  35  35  36  36  37  37  37  38\n",
            "  39  39  39  41  42  43  43  43  44  47  47  48  48  48  49  50  51  51\n",
            "  52  52  53  53  54  55  55  56  56  56  57  59  61  61  62  63  67  67\n",
            "  67  68  68  68  73  73  73  73  73  74  75  75  77  78  78  78  79  79\n",
            "  79  79  80  80  81  81  82  82  83  83  83  84  85  85  86  86  86  87\n",
            "  88  88  88  89  90  91  91  92  93  94  95  96  97  97  97  97  97  98\n",
            "  98  98  99  99 100 101 101 101 103 103 103 104 106 106 106 106 106 107\n",
            " 108 108 108 110 111 111 112 115 115 116 120 120 121 121 121 121 121 122\n",
            " 122 122 123 124 125 125 125 125 125 125 125 125 125 125 125 125 125 125\n",
            " 125 125 125 125 125 125 125 125 125 125 125 125 125 125 125 125 125 125\n",
            " 125 125 125 125 125 125 125 125 125 125 125 125 125 125 125 125 125 125\n",
            " 125 125 125 125 125 125 125]\n"
          ],
          "name": "stdout"
        }
      ]
    },
    {
      "cell_type": "markdown",
      "metadata": {
        "id": "34B0T27buS5J",
        "colab_type": "text"
      },
      "source": [
        "# CNN \n",
        "\n",
        "Propuesta de Li, Ding, Sun\n",
        "\n",
        "![Imagen](https://github.com/farayal/memoria_turbofan/blob/master/cnn_regression.png?raw=true)"
      ]
    },
    {
      "cell_type": "code",
      "metadata": {
        "id": "hJxtZOMIu2y7",
        "colab_type": "code",
        "outputId": "9c998c92-06c9-4ed2-edcc-6e56d74632cf",
        "colab": {
          "base_uri": "https://localhost:8080/",
          "height": 97
        }
      },
      "source": [
        "from keras import layers\n",
        "from keras.layers import Input, Dense, Activation, ZeroPadding2D, BatchNormalization, Flatten, Conv2D\n",
        "from keras.layers import AveragePooling2D, MaxPooling2D, Dropout, GlobalMaxPooling2D, GlobalAveragePooling2D\n",
        "from keras.models import Model\n",
        "from keras.preprocessing import image\n",
        "from keras.utils import layer_utils\n",
        "from keras.utils.data_utils import get_file\n",
        "from keras.applications.imagenet_utils import preprocess_input\n",
        "from keras import regularizers\n",
        "\n",
        "import keras.backend as K\n",
        "K.set_image_data_format('channels_last')\n"
      ],
      "execution_count": 17,
      "outputs": [
        {
          "output_type": "stream",
          "text": [
            "Using TensorFlow backend.\n"
          ],
          "name": "stderr"
        },
        {
          "output_type": "display_data",
          "data": {
            "text/html": [
              "<p style=\"color: red;\">\n",
              "The default version of TensorFlow in Colab will soon switch to TensorFlow 2.x.<br>\n",
              "We recommend you <a href=\"https://www.tensorflow.org/guide/migrate\" target=\"_blank\">upgrade</a> now \n",
              "or ensure your notebook will continue to use TensorFlow 1.x via the <code>%tensorflow_version 1.x</code> magic:\n",
              "<a href=\"https://colab.research.google.com/notebooks/tensorflow_version.ipynb\" target=\"_blank\">more info</a>.</p>\n"
            ],
            "text/plain": [
              "<IPython.core.display.HTML object>"
            ]
          },
          "metadata": {
            "tags": []
          }
        }
      ]
    },
    {
      "cell_type": "code",
      "metadata": {
        "id": "-Fc-VMlVNKso",
        "colab_type": "code",
        "colab": {}
      },
      "source": [
        "def cnnturbofan(input_shape):\n",
        "   \n",
        "    X_input = Input(input_shape)\n",
        "\n",
        "    #Layer 1\n",
        "    # Zero-Padding: Para originar un output (20,14) en la siguiente capa\n",
        "    #X = ZeroPadding2D((5, 0))(X_input)\n",
        "\n",
        "    # CONV -> TANH aplicado a X\n",
        "    X = Conv2D(10, (10, 1), strides = (1, 1),padding='same', name = 'conv0')(X_input)\n",
        "    #X = BatchNormalization(axis = 3, name = 'bn0')(X)\n",
        "    X = Activation('tanh')(X)\n",
        "\n",
        "    #Layer 2\n",
        "    #X = ZeroPadding2D((4, 0))(X)\n",
        "    X = Conv2D(10, (10, 1), strides = (1, 1), padding = 'same', name = 'conv1')(X)\n",
        "    #X = BatchNormalization(axis = 3, name = 'bn1')(X)\n",
        "    X = Activation('tanh')(X)\n",
        "\n",
        "    #Layer 3\n",
        "    #X = ZeroPadding2D((5, 0))(X)\n",
        "    X = Conv2D(10, (10, 1), strides = (1, 1), padding='same', name = 'conv2')(X)\n",
        "    #X = BatchNormalization(axis = 3, name = 'bn2')(X)\n",
        "    X = Activation('tanh')(X)\n",
        "\n",
        "    #Layer 4\n",
        "    #X = ZeroPadding2D((4, 0))(X)\n",
        "    X = Conv2D(10, (10, 1), strides = (1, 1),padding='same', name = 'conv3')(X)\n",
        "    #X = BatchNormalization(axis = 3, name = 'bn3')(X)\n",
        "    X = Activation('tanh')(X)\n",
        "\n",
        "    #Layer 5\n",
        "    #X = ZeroPadding2D((1, 0))(X)\n",
        "    X = Conv2D(1, (3, 1), strides = (1, 1),padding='same', name = 'conv4')(X)\n",
        "    #X = BatchNormalization(axis = 3, name = 'bn4')(X)\n",
        "    X = Activation('tanh')(X)\n",
        "\n",
        "    # FLATTEN X (\"desenrollamos el feature map anterior\") + FULLYCONNECTED\n",
        "    X = Flatten()(X)\n",
        "    X = Dropout(0.5)(X)\n",
        "    #X = BatchNormalization(name='bn5')(X)\n",
        "    X = Dense(100, activation='tanh', name='fully-connected')(X)\n",
        "    #X = Dropout(0.5)(X)\n",
        "    #X = BatchNormalization(name='bn6')(X)\n",
        "    X = Dense(1, name = 'rul-neuron')(X)\n",
        "\n",
        "    # instancia modelo final\n",
        "    model = Model(inputs = X_input, outputs = X, name='cnnturbofan')\n",
        "    \n",
        "  \n",
        "    return model"
      ],
      "execution_count": 0,
      "outputs": []
    },
    {
      "cell_type": "code",
      "metadata": {
        "id": "-yRAWMhx1KoC",
        "colab_type": "code",
        "colab": {
          "base_uri": "https://localhost:8080/",
          "height": 224
        },
        "outputId": "2c244f8e-d626-4912-d78c-0be6d6ac0481"
      },
      "source": [
        "cnnturbofan = cnnturbofan((features_maps.shape[1],features_maps.shape[2],features_maps.shape[3]))"
      ],
      "execution_count": 19,
      "outputs": [
        {
          "output_type": "stream",
          "text": [
            "WARNING:tensorflow:From /usr/local/lib/python3.6/dist-packages/keras/backend/tensorflow_backend.py:66: The name tf.get_default_graph is deprecated. Please use tf.compat.v1.get_default_graph instead.\n",
            "\n",
            "WARNING:tensorflow:From /usr/local/lib/python3.6/dist-packages/keras/backend/tensorflow_backend.py:541: The name tf.placeholder is deprecated. Please use tf.compat.v1.placeholder instead.\n",
            "\n",
            "WARNING:tensorflow:From /usr/local/lib/python3.6/dist-packages/keras/backend/tensorflow_backend.py:4432: The name tf.random_uniform is deprecated. Please use tf.random.uniform instead.\n",
            "\n",
            "WARNING:tensorflow:From /usr/local/lib/python3.6/dist-packages/keras/backend/tensorflow_backend.py:148: The name tf.placeholder_with_default is deprecated. Please use tf.compat.v1.placeholder_with_default instead.\n",
            "\n",
            "WARNING:tensorflow:From /usr/local/lib/python3.6/dist-packages/keras/backend/tensorflow_backend.py:3733: calling dropout (from tensorflow.python.ops.nn_ops) with keep_prob is deprecated and will be removed in a future version.\n",
            "Instructions for updating:\n",
            "Please use `rate` instead of `keep_prob`. Rate should be set to `rate = 1 - keep_prob`.\n"
          ],
          "name": "stdout"
        }
      ]
    },
    {
      "cell_type": "code",
      "metadata": {
        "id": "41z22sWe2W6d",
        "colab_type": "code",
        "colab": {
          "base_uri": "https://localhost:8080/",
          "height": 71
        },
        "outputId": "9bd6582a-d68e-45e0-81e7-08a5b228c5fa"
      },
      "source": [
        "def root_mean_squared_error(y_true, y_pred):\n",
        "        return K.sqrt(K.mean(K.square(y_pred - y_true))) \n",
        "\n",
        "cnnturbofan.compile(optimizer = \"Adam\", loss = \"mean_squared_error\" , metrics = [root_mean_squared_error])"
      ],
      "execution_count": 20,
      "outputs": [
        {
          "output_type": "stream",
          "text": [
            "WARNING:tensorflow:From /usr/local/lib/python3.6/dist-packages/keras/optimizers.py:793: The name tf.train.Optimizer is deprecated. Please use tf.compat.v1.train.Optimizer instead.\n",
            "\n"
          ],
          "name": "stdout"
        }
      ]
    },
    {
      "cell_type": "code",
      "metadata": {
        "id": "TmgEw6sw31M0",
        "colab_type": "code",
        "outputId": "0f6499e3-cf7b-40f2-9910-4a5f3cbe99c0",
        "colab": {
          "base_uri": "https://localhost:8080/",
          "height": 1000
        }
      },
      "source": [
        "history = cnnturbofan.fit(x = features_maps_train, y = ys_train ,batch_size=512, epochs = 250 ,validation_data=(features_maps_valid,ys_valid))"
      ],
      "execution_count": 21,
      "outputs": [
        {
          "output_type": "stream",
          "text": [
            "WARNING:tensorflow:From /usr/local/lib/python3.6/dist-packages/keras/backend/tensorflow_backend.py:1033: The name tf.assign_add is deprecated. Please use tf.compat.v1.assign_add instead.\n",
            "\n",
            "WARNING:tensorflow:From /usr/local/lib/python3.6/dist-packages/keras/backend/tensorflow_backend.py:1020: The name tf.assign is deprecated. Please use tf.compat.v1.assign instead.\n",
            "\n",
            "WARNING:tensorflow:From /usr/local/lib/python3.6/dist-packages/keras/backend/tensorflow_backend.py:3005: The name tf.Session is deprecated. Please use tf.compat.v1.Session instead.\n",
            "\n",
            "Train on 15957 samples, validate on 1774 samples\n",
            "Epoch 1/250\n",
            "WARNING:tensorflow:From /usr/local/lib/python3.6/dist-packages/keras/backend/tensorflow_backend.py:190: The name tf.get_default_session is deprecated. Please use tf.compat.v1.get_default_session instead.\n",
            "\n",
            "WARNING:tensorflow:From /usr/local/lib/python3.6/dist-packages/keras/backend/tensorflow_backend.py:197: The name tf.ConfigProto is deprecated. Please use tf.compat.v1.ConfigProto instead.\n",
            "\n",
            "WARNING:tensorflow:From /usr/local/lib/python3.6/dist-packages/keras/backend/tensorflow_backend.py:207: The name tf.global_variables is deprecated. Please use tf.compat.v1.global_variables instead.\n",
            "\n",
            "WARNING:tensorflow:From /usr/local/lib/python3.6/dist-packages/keras/backend/tensorflow_backend.py:216: The name tf.is_variable_initialized is deprecated. Please use tf.compat.v1.is_variable_initialized instead.\n",
            "\n",
            "WARNING:tensorflow:From /usr/local/lib/python3.6/dist-packages/keras/backend/tensorflow_backend.py:223: The name tf.variables_initializer is deprecated. Please use tf.compat.v1.variables_initializer instead.\n",
            "\n",
            "15957/15957 [==============================] - 4s 238us/step - loss: 6645.1189 - root_mean_squared_error: 81.4039 - val_loss: 6178.6687 - val_root_mean_squared_error: 78.5917\n",
            "Epoch 2/250\n",
            "15957/15957 [==============================] - 0s 28us/step - loss: 5707.1282 - root_mean_squared_error: 75.5306 - val_loss: 5698.6991 - val_root_mean_squared_error: 75.4759\n",
            "Epoch 3/250\n",
            "15957/15957 [==============================] - 0s 27us/step - loss: 5276.8826 - root_mean_squared_error: 72.6331 - val_loss: 5284.9988 - val_root_mean_squared_error: 72.6841\n",
            "Epoch 4/250\n",
            "15957/15957 [==============================] - 0s 28us/step - loss: 4895.3345 - root_mean_squared_error: 69.9540 - val_loss: 4910.8284 - val_root_mean_squared_error: 70.0633\n",
            "Epoch 5/250\n",
            "15957/15957 [==============================] - 0s 28us/step - loss: 4546.3436 - root_mean_squared_error: 67.4126 - val_loss: 4566.3503 - val_root_mean_squared_error: 67.5607\n",
            "Epoch 6/250\n",
            "15957/15957 [==============================] - 0s 28us/step - loss: 4224.9948 - root_mean_squared_error: 64.9873 - val_loss: 4245.9575 - val_root_mean_squared_error: 65.1469\n",
            "Epoch 7/250\n",
            "15957/15957 [==============================] - 0s 27us/step - loss: 3926.2728 - root_mean_squared_error: 62.6434 - val_loss: 3948.9579 - val_root_mean_squared_error: 62.8266\n",
            "Epoch 8/250\n",
            "15957/15957 [==============================] - 0s 27us/step - loss: 3649.6706 - root_mean_squared_error: 60.3943 - val_loss: 3671.3543 - val_root_mean_squared_error: 60.5776\n",
            "Epoch 9/250\n",
            "15957/15957 [==============================] - 0s 28us/step - loss: 3392.9389 - root_mean_squared_error: 58.2330 - val_loss: 3414.5009 - val_root_mean_squared_error: 58.4196\n",
            "Epoch 10/250\n",
            "15957/15957 [==============================] - 0s 28us/step - loss: 3154.6359 - root_mean_squared_error: 56.1482 - val_loss: 3174.9354 - val_root_mean_squared_error: 56.3326\n",
            "Epoch 11/250\n",
            "15957/15957 [==============================] - 0s 28us/step - loss: 2932.0295 - root_mean_squared_error: 54.1273 - val_loss: 2951.7154 - val_root_mean_squared_error: 54.3158\n",
            "Epoch 12/250\n",
            "15957/15957 [==============================] - 0s 26us/step - loss: 2722.2107 - root_mean_squared_error: 52.1584 - val_loss: 2739.8022 - val_root_mean_squared_error: 52.3294\n",
            "Epoch 13/250\n",
            "15957/15957 [==============================] - 0s 28us/step - loss: 2525.6726 - root_mean_squared_error: 50.2469 - val_loss: 2547.2645 - val_root_mean_squared_error: 50.4568\n",
            "Epoch 14/250\n",
            "15957/15957 [==============================] - 0s 28us/step - loss: 2342.3965 - root_mean_squared_error: 48.3869 - val_loss: 2367.1720 - val_root_mean_squared_error: 48.6401\n",
            "Epoch 15/250\n",
            "15957/15957 [==============================] - 0s 28us/step - loss: 2174.8522 - root_mean_squared_error: 46.6217 - val_loss: 2194.2778 - val_root_mean_squared_error: 46.8296\n",
            "Epoch 16/250\n",
            "15957/15957 [==============================] - 0s 27us/step - loss: 2016.2932 - root_mean_squared_error: 44.8920 - val_loss: 2033.3968 - val_root_mean_squared_error: 45.0797\n",
            "Epoch 17/250\n",
            "15957/15957 [==============================] - 0s 26us/step - loss: 1874.1808 - root_mean_squared_error: 43.2773 - val_loss: 1895.9351 - val_root_mean_squared_error: 43.5291\n",
            "Epoch 18/250\n",
            "15957/15957 [==============================] - 0s 28us/step - loss: 1738.3211 - root_mean_squared_error: 41.6790 - val_loss: 1753.1740 - val_root_mean_squared_error: 41.8574\n",
            "Epoch 19/250\n",
            "15957/15957 [==============================] - 0s 26us/step - loss: 1612.4568 - root_mean_squared_error: 40.1454 - val_loss: 1635.4034 - val_root_mean_squared_error: 40.4266\n",
            "Epoch 20/250\n",
            "15957/15957 [==============================] - 0s 28us/step - loss: 1505.3102 - root_mean_squared_error: 38.7820 - val_loss: 1513.0517 - val_root_mean_squared_error: 38.8845\n",
            "Epoch 21/250\n",
            "15957/15957 [==============================] - 0s 28us/step - loss: 1392.1486 - root_mean_squared_error: 37.2991 - val_loss: 1404.3921 - val_root_mean_squared_error: 37.4620\n",
            "Epoch 22/250\n",
            "15957/15957 [==============================] - 0s 28us/step - loss: 1293.0187 - root_mean_squared_error: 35.9453 - val_loss: 1305.5301 - val_root_mean_squared_error: 36.1189\n",
            "Epoch 23/250\n",
            "15957/15957 [==============================] - 0s 27us/step - loss: 1260.0086 - root_mean_squared_error: 35.4816 - val_loss: 1232.1526 - val_root_mean_squared_error: 35.0890\n",
            "Epoch 24/250\n",
            "15957/15957 [==============================] - 0s 26us/step - loss: 1129.6603 - root_mean_squared_error: 33.5990 - val_loss: 1136.9966 - val_root_mean_squared_error: 33.7068\n",
            "Epoch 25/250\n",
            "15957/15957 [==============================] - 0s 27us/step - loss: 1047.9605 - root_mean_squared_error: 32.3633 - val_loss: 1090.7392 - val_root_mean_squared_error: 33.0129\n",
            "Epoch 26/250\n",
            "15957/15957 [==============================] - 0s 27us/step - loss: 978.7997 - root_mean_squared_error: 31.2806 - val_loss: 987.3523 - val_root_mean_squared_error: 31.4102\n",
            "Epoch 27/250\n",
            "15957/15957 [==============================] - 0s 27us/step - loss: 907.6838 - root_mean_squared_error: 30.1128 - val_loss: 924.2484 - val_root_mean_squared_error: 30.3897\n",
            "Epoch 28/250\n",
            "15957/15957 [==============================] - 0s 27us/step - loss: 846.3062 - root_mean_squared_error: 29.0832 - val_loss: 852.9714 - val_root_mean_squared_error: 29.1941\n",
            "Epoch 29/250\n",
            "15957/15957 [==============================] - 0s 27us/step - loss: 795.8994 - root_mean_squared_error: 28.2023 - val_loss: 799.7664 - val_root_mean_squared_error: 28.2683\n",
            "Epoch 30/250\n",
            "15957/15957 [==============================] - 0s 27us/step - loss: 740.1392 - root_mean_squared_error: 27.1973 - val_loss: 742.5004 - val_root_mean_squared_error: 27.2383\n",
            "Epoch 31/250\n",
            "15957/15957 [==============================] - 0s 27us/step - loss: 691.9834 - root_mean_squared_error: 26.2996 - val_loss: 739.4185 - val_root_mean_squared_error: 27.1816\n",
            "Epoch 32/250\n",
            "15957/15957 [==============================] - 0s 27us/step - loss: 651.7374 - root_mean_squared_error: 25.5143 - val_loss: 666.2457 - val_root_mean_squared_error: 25.8022\n",
            "Epoch 33/250\n",
            "15957/15957 [==============================] - 0s 27us/step - loss: 618.0621 - root_mean_squared_error: 24.8520 - val_loss: 615.6100 - val_root_mean_squared_error: 24.8019\n",
            "Epoch 34/250\n",
            "15957/15957 [==============================] - 0s 27us/step - loss: 575.8209 - root_mean_squared_error: 23.9899 - val_loss: 574.4918 - val_root_mean_squared_error: 23.9578\n",
            "Epoch 35/250\n",
            "15957/15957 [==============================] - 0s 27us/step - loss: 540.7827 - root_mean_squared_error: 23.2471 - val_loss: 546.9033 - val_root_mean_squared_error: 23.3774\n",
            "Epoch 36/250\n",
            "15957/15957 [==============================] - 0s 26us/step - loss: 514.2440 - root_mean_squared_error: 22.6705 - val_loss: 525.3455 - val_root_mean_squared_error: 22.9121\n",
            "Epoch 37/250\n",
            "15957/15957 [==============================] - 0s 28us/step - loss: 500.0092 - root_mean_squared_error: 22.3472 - val_loss: 487.1917 - val_root_mean_squared_error: 22.0644\n",
            "Epoch 38/250\n",
            "15957/15957 [==============================] - 0s 29us/step - loss: 457.0080 - root_mean_squared_error: 21.3705 - val_loss: 466.7463 - val_root_mean_squared_error: 21.5939\n",
            "Epoch 39/250\n",
            "15957/15957 [==============================] - 0s 28us/step - loss: 436.2027 - root_mean_squared_error: 20.8747 - val_loss: 463.1313 - val_root_mean_squared_error: 21.5101\n",
            "Epoch 40/250\n",
            "15957/15957 [==============================] - 0s 28us/step - loss: 427.7948 - root_mean_squared_error: 20.6747 - val_loss: 415.6219 - val_root_mean_squared_error: 20.3799\n",
            "Epoch 41/250\n",
            "15957/15957 [==============================] - 0s 28us/step - loss: 390.0849 - root_mean_squared_error: 19.7448 - val_loss: 391.9632 - val_root_mean_squared_error: 19.7892\n",
            "Epoch 42/250\n",
            "15957/15957 [==============================] - 0s 28us/step - loss: 388.9140 - root_mean_squared_error: 19.7115 - val_loss: 369.0690 - val_root_mean_squared_error: 19.2042\n",
            "Epoch 43/250\n",
            "15957/15957 [==============================] - 0s 27us/step - loss: 361.3835 - root_mean_squared_error: 19.0051 - val_loss: 352.7589 - val_root_mean_squared_error: 18.7759\n",
            "Epoch 44/250\n",
            "15957/15957 [==============================] - 0s 27us/step - loss: 347.8396 - root_mean_squared_error: 18.6457 - val_loss: 334.1943 - val_root_mean_squared_error: 18.2738\n",
            "Epoch 45/250\n",
            "15957/15957 [==============================] - 0s 28us/step - loss: 325.3889 - root_mean_squared_error: 18.0332 - val_loss: 316.5208 - val_root_mean_squared_error: 17.7851\n",
            "Epoch 46/250\n",
            "15957/15957 [==============================] - 0s 28us/step - loss: 312.4882 - root_mean_squared_error: 17.6718 - val_loss: 301.7303 - val_root_mean_squared_error: 17.3652\n",
            "Epoch 47/250\n",
            "15957/15957 [==============================] - 0s 28us/step - loss: 313.6659 - root_mean_squared_error: 17.6999 - val_loss: 301.2580 - val_root_mean_squared_error: 17.3530\n",
            "Epoch 48/250\n",
            "15957/15957 [==============================] - 0s 27us/step - loss: 298.3465 - root_mean_squared_error: 17.2656 - val_loss: 279.3732 - val_root_mean_squared_error: 16.7096\n",
            "Epoch 49/250\n",
            "15957/15957 [==============================] - 0s 28us/step - loss: 277.6789 - root_mean_squared_error: 16.6590 - val_loss: 267.8760 - val_root_mean_squared_error: 16.3623\n",
            "Epoch 50/250\n",
            "15957/15957 [==============================] - 0s 28us/step - loss: 271.9370 - root_mean_squared_error: 16.4843 - val_loss: 269.1963 - val_root_mean_squared_error: 16.4040\n",
            "Epoch 51/250\n",
            "15957/15957 [==============================] - 0s 27us/step - loss: 298.0248 - root_mean_squared_error: 17.2340 - val_loss: 293.1677 - val_root_mean_squared_error: 17.1198\n",
            "Epoch 52/250\n",
            "15957/15957 [==============================] - 0s 28us/step - loss: 264.6405 - root_mean_squared_error: 16.2621 - val_loss: 254.9373 - val_root_mean_squared_error: 15.9577\n",
            "Epoch 53/250\n",
            "15957/15957 [==============================] - 0s 27us/step - loss: 253.6656 - root_mean_squared_error: 15.9214 - val_loss: 234.6289 - val_root_mean_squared_error: 15.3121\n",
            "Epoch 54/250\n",
            "15957/15957 [==============================] - 0s 29us/step - loss: 244.0165 - root_mean_squared_error: 15.6159 - val_loss: 247.4626 - val_root_mean_squared_error: 15.7209\n",
            "Epoch 55/250\n",
            "15957/15957 [==============================] - 0s 27us/step - loss: 242.9369 - root_mean_squared_error: 15.5807 - val_loss: 249.0859 - val_root_mean_squared_error: 15.7809\n",
            "Epoch 56/250\n",
            "15957/15957 [==============================] - 0s 28us/step - loss: 255.3643 - root_mean_squared_error: 15.9560 - val_loss: 231.1376 - val_root_mean_squared_error: 15.2014\n",
            "Epoch 57/250\n",
            "15957/15957 [==============================] - 0s 27us/step - loss: 229.0874 - root_mean_squared_error: 15.1285 - val_loss: 209.2625 - val_root_mean_squared_error: 14.4621\n",
            "Epoch 58/250\n",
            "15957/15957 [==============================] - 0s 28us/step - loss: 218.2103 - root_mean_squared_error: 14.7686 - val_loss: 211.0644 - val_root_mean_squared_error: 14.5263\n",
            "Epoch 59/250\n",
            "15957/15957 [==============================] - 0s 28us/step - loss: 224.0943 - root_mean_squared_error: 14.9511 - val_loss: 221.8975 - val_root_mean_squared_error: 14.8867\n",
            "Epoch 60/250\n",
            "15957/15957 [==============================] - 0s 28us/step - loss: 241.6409 - root_mean_squared_error: 15.5217 - val_loss: 202.7897 - val_root_mean_squared_error: 14.2344\n",
            "Epoch 61/250\n",
            "15957/15957 [==============================] - 0s 28us/step - loss: 214.3906 - root_mean_squared_error: 14.6321 - val_loss: 201.9999 - val_root_mean_squared_error: 14.2115\n",
            "Epoch 62/250\n",
            "15957/15957 [==============================] - 0s 27us/step - loss: 210.8517 - root_mean_squared_error: 14.5096 - val_loss: 189.1906 - val_root_mean_squared_error: 13.7524\n",
            "Epoch 63/250\n",
            "15957/15957 [==============================] - 0s 28us/step - loss: 210.3784 - root_mean_squared_error: 14.4855 - val_loss: 188.3110 - val_root_mean_squared_error: 13.7209\n",
            "Epoch 64/250\n",
            "15957/15957 [==============================] - 0s 28us/step - loss: 205.9306 - root_mean_squared_error: 14.3351 - val_loss: 217.4009 - val_root_mean_squared_error: 14.7312\n",
            "Epoch 65/250\n",
            "15957/15957 [==============================] - 0s 29us/step - loss: 201.3086 - root_mean_squared_error: 14.1760 - val_loss: 201.9582 - val_root_mean_squared_error: 14.1986\n",
            "Epoch 66/250\n",
            "15957/15957 [==============================] - 0s 27us/step - loss: 193.8890 - root_mean_squared_error: 13.9197 - val_loss: 189.7611 - val_root_mean_squared_error: 13.7745\n",
            "Epoch 67/250\n",
            "15957/15957 [==============================] - 0s 27us/step - loss: 189.4772 - root_mean_squared_error: 13.7579 - val_loss: 179.9631 - val_root_mean_squared_error: 13.4067\n",
            "Epoch 68/250\n",
            "15957/15957 [==============================] - 0s 28us/step - loss: 188.3428 - root_mean_squared_error: 13.7150 - val_loss: 166.9645 - val_root_mean_squared_error: 12.9192\n",
            "Epoch 69/250\n",
            "15957/15957 [==============================] - 0s 28us/step - loss: 187.7807 - root_mean_squared_error: 13.6941 - val_loss: 168.1099 - val_root_mean_squared_error: 12.9640\n",
            "Epoch 70/250\n",
            "15957/15957 [==============================] - 0s 28us/step - loss: 182.5772 - root_mean_squared_error: 13.5037 - val_loss: 163.9569 - val_root_mean_squared_error: 12.8002\n",
            "Epoch 71/250\n",
            "15957/15957 [==============================] - 0s 27us/step - loss: 182.7496 - root_mean_squared_error: 13.5077 - val_loss: 160.0723 - val_root_mean_squared_error: 12.6477\n",
            "Epoch 72/250\n",
            "15957/15957 [==============================] - 0s 28us/step - loss: 174.1567 - root_mean_squared_error: 13.1896 - val_loss: 160.0638 - val_root_mean_squared_error: 12.6472\n",
            "Epoch 73/250\n",
            "15957/15957 [==============================] - 0s 27us/step - loss: 181.8805 - root_mean_squared_error: 13.4733 - val_loss: 168.8137 - val_root_mean_squared_error: 12.9921\n",
            "Epoch 74/250\n",
            "15957/15957 [==============================] - 0s 27us/step - loss: 171.9888 - root_mean_squared_error: 13.1007 - val_loss: 166.3551 - val_root_mean_squared_error: 12.8883\n",
            "Epoch 75/250\n",
            "15957/15957 [==============================] - 0s 27us/step - loss: 171.1924 - root_mean_squared_error: 13.0769 - val_loss: 159.5978 - val_root_mean_squared_error: 12.6321\n",
            "Epoch 76/250\n",
            "15957/15957 [==============================] - 0s 28us/step - loss: 169.9247 - root_mean_squared_error: 13.0267 - val_loss: 158.2074 - val_root_mean_squared_error: 12.5767\n",
            "Epoch 77/250\n",
            "15957/15957 [==============================] - 0s 28us/step - loss: 165.6804 - root_mean_squared_error: 12.8638 - val_loss: 152.7819 - val_root_mean_squared_error: 12.3580\n",
            "Epoch 78/250\n",
            "15957/15957 [==============================] - 0s 28us/step - loss: 164.9458 - root_mean_squared_error: 12.8341 - val_loss: 166.5158 - val_root_mean_squared_error: 12.8925\n",
            "Epoch 79/250\n",
            "15957/15957 [==============================] - 0s 28us/step - loss: 167.4580 - root_mean_squared_error: 12.9263 - val_loss: 148.8725 - val_root_mean_squared_error: 12.1974\n",
            "Epoch 80/250\n",
            "15957/15957 [==============================] - 0s 28us/step - loss: 164.1879 - root_mean_squared_error: 12.8091 - val_loss: 148.3160 - val_root_mean_squared_error: 12.1758\n",
            "Epoch 81/250\n",
            "15957/15957 [==============================] - 0s 28us/step - loss: 161.9755 - root_mean_squared_error: 12.7177 - val_loss: 152.4841 - val_root_mean_squared_error: 12.3468\n",
            "Epoch 82/250\n",
            "15957/15957 [==============================] - 0s 28us/step - loss: 160.5312 - root_mean_squared_error: 12.6595 - val_loss: 144.4430 - val_root_mean_squared_error: 12.0153\n",
            "Epoch 83/250\n",
            "15957/15957 [==============================] - 0s 28us/step - loss: 158.9954 - root_mean_squared_error: 12.5958 - val_loss: 144.1919 - val_root_mean_squared_error: 12.0063\n",
            "Epoch 84/250\n",
            "15957/15957 [==============================] - 0s 28us/step - loss: 158.5160 - root_mean_squared_error: 12.5784 - val_loss: 156.0441 - val_root_mean_squared_error: 12.4913\n",
            "Epoch 85/250\n",
            "15957/15957 [==============================] - 0s 28us/step - loss: 155.3541 - root_mean_squared_error: 12.4496 - val_loss: 141.6321 - val_root_mean_squared_error: 11.8972\n",
            "Epoch 86/250\n",
            "15957/15957 [==============================] - 0s 28us/step - loss: 159.2521 - root_mean_squared_error: 12.5965 - val_loss: 190.2750 - val_root_mean_squared_error: 13.7761\n",
            "Epoch 87/250\n",
            "15957/15957 [==============================] - 0s 28us/step - loss: 165.0523 - root_mean_squared_error: 12.8253 - val_loss: 156.4994 - val_root_mean_squared_error: 12.5085\n",
            "Epoch 88/250\n",
            "15957/15957 [==============================] - 0s 28us/step - loss: 160.9880 - root_mean_squared_error: 12.6748 - val_loss: 144.7146 - val_root_mean_squared_error: 12.0259\n",
            "Epoch 89/250\n",
            "15957/15957 [==============================] - 0s 27us/step - loss: 154.2746 - root_mean_squared_error: 12.4147 - val_loss: 148.2470 - val_root_mean_squared_error: 12.1747\n",
            "Epoch 90/250\n",
            "15957/15957 [==============================] - 0s 28us/step - loss: 157.0788 - root_mean_squared_error: 12.5204 - val_loss: 139.2861 - val_root_mean_squared_error: 11.7976\n",
            "Epoch 91/250\n",
            "15957/15957 [==============================] - 0s 27us/step - loss: 155.6936 - root_mean_squared_error: 12.4700 - val_loss: 193.4715 - val_root_mean_squared_error: 13.9090\n",
            "Epoch 92/250\n",
            "15957/15957 [==============================] - 0s 28us/step - loss: 163.3287 - root_mean_squared_error: 12.7512 - val_loss: 138.0037 - val_root_mean_squared_error: 11.7424\n",
            "Epoch 93/250\n",
            "15957/15957 [==============================] - 0s 27us/step - loss: 154.4819 - root_mean_squared_error: 12.4187 - val_loss: 141.2732 - val_root_mean_squared_error: 11.8841\n",
            "Epoch 94/250\n",
            "15957/15957 [==============================] - 0s 28us/step - loss: 150.0335 - root_mean_squared_error: 12.2345 - val_loss: 139.2978 - val_root_mean_squared_error: 11.7967\n",
            "Epoch 95/250\n",
            "15957/15957 [==============================] - 0s 29us/step - loss: 152.2068 - root_mean_squared_error: 12.3264 - val_loss: 141.3975 - val_root_mean_squared_error: 11.8837\n",
            "Epoch 96/250\n",
            "15957/15957 [==============================] - 0s 27us/step - loss: 153.7233 - root_mean_squared_error: 12.3850 - val_loss: 137.4736 - val_root_mean_squared_error: 11.7209\n",
            "Epoch 97/250\n",
            "15957/15957 [==============================] - 0s 28us/step - loss: 147.3884 - root_mean_squared_error: 12.1262 - val_loss: 137.5506 - val_root_mean_squared_error: 11.7219\n",
            "Epoch 98/250\n",
            "15957/15957 [==============================] - 0s 27us/step - loss: 148.3071 - root_mean_squared_error: 12.1631 - val_loss: 141.1508 - val_root_mean_squared_error: 11.8787\n",
            "Epoch 99/250\n",
            "15957/15957 [==============================] - 0s 28us/step - loss: 148.8402 - root_mean_squared_error: 12.1851 - val_loss: 179.3219 - val_root_mean_squared_error: 13.3901\n",
            "Epoch 100/250\n",
            "15957/15957 [==============================] - 0s 27us/step - loss: 160.4881 - root_mean_squared_error: 12.6383 - val_loss: 135.0357 - val_root_mean_squared_error: 11.6161\n",
            "Epoch 101/250\n",
            "15957/15957 [==============================] - 0s 28us/step - loss: 145.8076 - root_mean_squared_error: 12.0642 - val_loss: 132.1485 - val_root_mean_squared_error: 11.4904\n",
            "Epoch 102/250\n",
            "15957/15957 [==============================] - 0s 28us/step - loss: 143.8406 - root_mean_squared_error: 11.9792 - val_loss: 149.9595 - val_root_mean_squared_error: 12.2435\n",
            "Epoch 103/250\n",
            "15957/15957 [==============================] - 0s 27us/step - loss: 150.8749 - root_mean_squared_error: 12.2696 - val_loss: 136.6485 - val_root_mean_squared_error: 11.6883\n",
            "Epoch 104/250\n",
            "15957/15957 [==============================] - 0s 27us/step - loss: 142.5953 - root_mean_squared_error: 11.9328 - val_loss: 136.6129 - val_root_mean_squared_error: 11.6869\n",
            "Epoch 105/250\n",
            "15957/15957 [==============================] - 0s 27us/step - loss: 144.4992 - root_mean_squared_error: 12.0074 - val_loss: 130.6884 - val_root_mean_squared_error: 11.4267\n",
            "Epoch 106/250\n",
            "15957/15957 [==============================] - 0s 29us/step - loss: 144.0610 - root_mean_squared_error: 11.9929 - val_loss: 138.7313 - val_root_mean_squared_error: 11.7698\n",
            "Epoch 107/250\n",
            "15957/15957 [==============================] - 0s 27us/step - loss: 146.8534 - root_mean_squared_error: 12.1047 - val_loss: 134.0639 - val_root_mean_squared_error: 11.5723\n",
            "Epoch 108/250\n",
            "15957/15957 [==============================] - 0s 28us/step - loss: 145.9568 - root_mean_squared_error: 12.0747 - val_loss: 138.8282 - val_root_mean_squared_error: 11.7809\n",
            "Epoch 109/250\n",
            "15957/15957 [==============================] - 0s 29us/step - loss: 141.6998 - root_mean_squared_error: 11.8921 - val_loss: 128.2124 - val_root_mean_squared_error: 11.3185\n",
            "Epoch 110/250\n",
            "15957/15957 [==============================] - 0s 29us/step - loss: 140.5599 - root_mean_squared_error: 11.8507 - val_loss: 135.6810 - val_root_mean_squared_error: 11.6472\n",
            "Epoch 111/250\n",
            "15957/15957 [==============================] - 0s 28us/step - loss: 149.6608 - root_mean_squared_error: 12.2232 - val_loss: 132.4831 - val_root_mean_squared_error: 11.5081\n",
            "Epoch 112/250\n",
            "15957/15957 [==============================] - 0s 28us/step - loss: 141.0765 - root_mean_squared_error: 11.8686 - val_loss: 188.2286 - val_root_mean_squared_error: 13.7045\n",
            "Epoch 113/250\n",
            "15957/15957 [==============================] - 0s 29us/step - loss: 156.1141 - root_mean_squared_error: 12.4555 - val_loss: 140.1631 - val_root_mean_squared_error: 11.8370\n",
            "Epoch 114/250\n",
            "15957/15957 [==============================] - 0s 29us/step - loss: 142.1270 - root_mean_squared_error: 11.9127 - val_loss: 126.7719 - val_root_mean_squared_error: 11.2554\n",
            "Epoch 115/250\n",
            "15957/15957 [==============================] - 0s 29us/step - loss: 146.2097 - root_mean_squared_error: 12.0794 - val_loss: 127.6201 - val_root_mean_squared_error: 11.2926\n",
            "Epoch 116/250\n",
            "15957/15957 [==============================] - 0s 27us/step - loss: 139.8292 - root_mean_squared_error: 11.8100 - val_loss: 126.5723 - val_root_mean_squared_error: 11.2465\n",
            "Epoch 117/250\n",
            "15957/15957 [==============================] - 0s 28us/step - loss: 142.0894 - root_mean_squared_error: 11.9082 - val_loss: 137.7626 - val_root_mean_squared_error: 11.7345\n",
            "Epoch 118/250\n",
            "15957/15957 [==============================] - 0s 28us/step - loss: 137.4242 - root_mean_squared_error: 11.7088 - val_loss: 125.3797 - val_root_mean_squared_error: 11.1944\n",
            "Epoch 119/250\n",
            "15957/15957 [==============================] - 0s 27us/step - loss: 138.7269 - root_mean_squared_error: 11.7667 - val_loss: 129.4517 - val_root_mean_squared_error: 11.3752\n",
            "Epoch 120/250\n",
            "15957/15957 [==============================] - 0s 28us/step - loss: 135.3330 - root_mean_squared_error: 11.6235 - val_loss: 130.3923 - val_root_mean_squared_error: 11.4161\n",
            "Epoch 121/250\n",
            "15957/15957 [==============================] - 0s 28us/step - loss: 137.9302 - root_mean_squared_error: 11.7372 - val_loss: 132.4522 - val_root_mean_squared_error: 11.5009\n",
            "Epoch 122/250\n",
            "15957/15957 [==============================] - 0s 29us/step - loss: 142.7605 - root_mean_squared_error: 11.9334 - val_loss: 124.5871 - val_root_mean_squared_error: 11.1587\n",
            "Epoch 123/250\n",
            "15957/15957 [==============================] - 0s 28us/step - loss: 138.9017 - root_mean_squared_error: 11.7703 - val_loss: 126.1535 - val_root_mean_squared_error: 11.2285\n",
            "Epoch 124/250\n",
            "15957/15957 [==============================] - 0s 28us/step - loss: 139.7774 - root_mean_squared_error: 11.8085 - val_loss: 126.6530 - val_root_mean_squared_error: 11.2511\n",
            "Epoch 125/250\n",
            "15957/15957 [==============================] - 0s 27us/step - loss: 139.2262 - root_mean_squared_error: 11.7877 - val_loss: 124.8531 - val_root_mean_squared_error: 11.1709\n",
            "Epoch 126/250\n",
            "15957/15957 [==============================] - 0s 28us/step - loss: 135.3434 - root_mean_squared_error: 11.6144 - val_loss: 127.6726 - val_root_mean_squared_error: 11.2954\n",
            "Epoch 127/250\n",
            "15957/15957 [==============================] - 0s 29us/step - loss: 133.4171 - root_mean_squared_error: 11.5366 - val_loss: 123.9093 - val_root_mean_squared_error: 11.1266\n",
            "Epoch 128/250\n",
            "15957/15957 [==============================] - 0s 28us/step - loss: 136.6113 - root_mean_squared_error: 11.6756 - val_loss: 125.9184 - val_root_mean_squared_error: 11.2187\n",
            "Epoch 129/250\n",
            "15957/15957 [==============================] - 0s 27us/step - loss: 134.0233 - root_mean_squared_error: 11.5613 - val_loss: 135.4520 - val_root_mean_squared_error: 11.6358\n",
            "Epoch 130/250\n",
            "15957/15957 [==============================] - 0s 27us/step - loss: 134.7109 - root_mean_squared_error: 11.5968 - val_loss: 121.1975 - val_root_mean_squared_error: 11.0050\n",
            "Epoch 131/250\n",
            "15957/15957 [==============================] - 0s 27us/step - loss: 134.3021 - root_mean_squared_error: 11.5763 - val_loss: 149.8926 - val_root_mean_squared_error: 12.2349\n",
            "Epoch 132/250\n",
            "15957/15957 [==============================] - 0s 28us/step - loss: 133.7365 - root_mean_squared_error: 11.5502 - val_loss: 123.5785 - val_root_mean_squared_error: 11.1141\n",
            "Epoch 133/250\n",
            "15957/15957 [==============================] - 0s 28us/step - loss: 133.9687 - root_mean_squared_error: 11.5653 - val_loss: 151.6964 - val_root_mean_squared_error: 12.3077\n",
            "Epoch 134/250\n",
            "15957/15957 [==============================] - 0s 28us/step - loss: 135.6526 - root_mean_squared_error: 11.6346 - val_loss: 136.4901 - val_root_mean_squared_error: 11.6799\n",
            "Epoch 135/250\n",
            "15957/15957 [==============================] - 0s 29us/step - loss: 142.9377 - root_mean_squared_error: 11.9313 - val_loss: 134.0513 - val_root_mean_squared_error: 11.5757\n",
            "Epoch 136/250\n",
            "15957/15957 [==============================] - 0s 28us/step - loss: 136.3882 - root_mean_squared_error: 11.6618 - val_loss: 132.3211 - val_root_mean_squared_error: 11.5003\n",
            "Epoch 137/250\n",
            "15957/15957 [==============================] - 0s 28us/step - loss: 135.3111 - root_mean_squared_error: 11.6197 - val_loss: 125.5085 - val_root_mean_squared_error: 11.2010\n",
            "Epoch 138/250\n",
            "15957/15957 [==============================] - 0s 28us/step - loss: 132.8635 - root_mean_squared_error: 11.5148 - val_loss: 124.8628 - val_root_mean_squared_error: 11.1699\n",
            "Epoch 139/250\n",
            "15957/15957 [==============================] - 0s 28us/step - loss: 139.3766 - root_mean_squared_error: 11.7852 - val_loss: 125.7168 - val_root_mean_squared_error: 11.2074\n",
            "Epoch 140/250\n",
            "15957/15957 [==============================] - 0s 29us/step - loss: 133.2748 - root_mean_squared_error: 11.5319 - val_loss: 121.9012 - val_root_mean_squared_error: 11.0355\n",
            "Epoch 141/250\n",
            "15957/15957 [==============================] - 0s 29us/step - loss: 138.7467 - root_mean_squared_error: 11.7608 - val_loss: 169.9234 - val_root_mean_squared_error: 13.0254\n",
            "Epoch 142/250\n",
            "15957/15957 [==============================] - 0s 28us/step - loss: 137.6857 - root_mean_squared_error: 11.7125 - val_loss: 149.4290 - val_root_mean_squared_error: 12.2193\n",
            "Epoch 143/250\n",
            "15957/15957 [==============================] - 0s 27us/step - loss: 135.7480 - root_mean_squared_error: 11.6380 - val_loss: 133.0851 - val_root_mean_squared_error: 11.5327\n",
            "Epoch 144/250\n",
            "15957/15957 [==============================] - 0s 28us/step - loss: 135.7586 - root_mean_squared_error: 11.6330 - val_loss: 176.2766 - val_root_mean_squared_error: 13.2674\n",
            "Epoch 145/250\n",
            "15957/15957 [==============================] - 0s 29us/step - loss: 145.7905 - root_mean_squared_error: 12.0496 - val_loss: 146.6513 - val_root_mean_squared_error: 12.1056\n",
            "Epoch 146/250\n",
            "15957/15957 [==============================] - 0s 29us/step - loss: 132.3279 - root_mean_squared_error: 11.4891 - val_loss: 118.0018 - val_root_mean_squared_error: 10.8585\n",
            "Epoch 147/250\n",
            "15957/15957 [==============================] - 0s 28us/step - loss: 129.3469 - root_mean_squared_error: 11.3610 - val_loss: 163.8301 - val_root_mean_squared_error: 12.7899\n",
            "Epoch 148/250\n",
            "15957/15957 [==============================] - 0s 27us/step - loss: 137.3134 - root_mean_squared_error: 11.7017 - val_loss: 130.2044 - val_root_mean_squared_error: 11.4075\n",
            "Epoch 149/250\n",
            "15957/15957 [==============================] - 0s 29us/step - loss: 129.7331 - root_mean_squared_error: 11.3826 - val_loss: 120.5579 - val_root_mean_squared_error: 10.9751\n",
            "Epoch 150/250\n",
            "15957/15957 [==============================] - 0s 28us/step - loss: 133.0384 - root_mean_squared_error: 11.5247 - val_loss: 123.4765 - val_root_mean_squared_error: 11.1095\n",
            "Epoch 151/250\n",
            "15957/15957 [==============================] - 0s 28us/step - loss: 129.4600 - root_mean_squared_error: 11.3637 - val_loss: 118.2122 - val_root_mean_squared_error: 10.8697\n",
            "Epoch 152/250\n",
            "15957/15957 [==============================] - 0s 28us/step - loss: 130.5772 - root_mean_squared_error: 11.4189 - val_loss: 123.1749 - val_root_mean_squared_error: 11.0919\n",
            "Epoch 153/250\n",
            "15957/15957 [==============================] - 0s 28us/step - loss: 130.5582 - root_mean_squared_error: 11.4175 - val_loss: 141.8130 - val_root_mean_squared_error: 11.9055\n",
            "Epoch 154/250\n",
            "15957/15957 [==============================] - 0s 28us/step - loss: 129.4014 - root_mean_squared_error: 11.3625 - val_loss: 118.6520 - val_root_mean_squared_error: 10.8902\n",
            "Epoch 155/250\n",
            "15957/15957 [==============================] - 0s 27us/step - loss: 126.9689 - root_mean_squared_error: 11.2569 - val_loss: 115.7806 - val_root_mean_squared_error: 10.7565\n",
            "Epoch 156/250\n",
            "15957/15957 [==============================] - 0s 28us/step - loss: 126.4709 - root_mean_squared_error: 11.2328 - val_loss: 121.5924 - val_root_mean_squared_error: 11.0236\n",
            "Epoch 157/250\n",
            "15957/15957 [==============================] - 0s 28us/step - loss: 129.8759 - root_mean_squared_error: 11.3810 - val_loss: 123.2520 - val_root_mean_squared_error: 11.1000\n",
            "Epoch 158/250\n",
            "15957/15957 [==============================] - 0s 28us/step - loss: 132.4697 - root_mean_squared_error: 11.4978 - val_loss: 118.8670 - val_root_mean_squared_error: 10.8997\n",
            "Epoch 159/250\n",
            "15957/15957 [==============================] - 0s 29us/step - loss: 127.6795 - root_mean_squared_error: 11.2864 - val_loss: 115.5716 - val_root_mean_squared_error: 10.7473\n",
            "Epoch 160/250\n",
            "15957/15957 [==============================] - 0s 28us/step - loss: 127.2421 - root_mean_squared_error: 11.2684 - val_loss: 121.1323 - val_root_mean_squared_error: 11.0034\n",
            "Epoch 161/250\n",
            "15957/15957 [==============================] - 0s 28us/step - loss: 126.7978 - root_mean_squared_error: 11.2449 - val_loss: 117.6363 - val_root_mean_squared_error: 10.8431\n",
            "Epoch 162/250\n",
            "15957/15957 [==============================] - 0s 27us/step - loss: 126.1650 - root_mean_squared_error: 11.2233 - val_loss: 117.9515 - val_root_mean_squared_error: 10.8561\n",
            "Epoch 163/250\n",
            "15957/15957 [==============================] - 0s 29us/step - loss: 128.4801 - root_mean_squared_error: 11.3265 - val_loss: 116.0508 - val_root_mean_squared_error: 10.7702\n",
            "Epoch 164/250\n",
            "15957/15957 [==============================] - 0s 29us/step - loss: 126.3384 - root_mean_squared_error: 11.2250 - val_loss: 115.4374 - val_root_mean_squared_error: 10.7414\n",
            "Epoch 165/250\n",
            "15957/15957 [==============================] - 0s 28us/step - loss: 127.8720 - root_mean_squared_error: 11.2986 - val_loss: 113.7514 - val_root_mean_squared_error: 10.6606\n",
            "Epoch 166/250\n",
            "15957/15957 [==============================] - 0s 29us/step - loss: 125.1354 - root_mean_squared_error: 11.1740 - val_loss: 114.4763 - val_root_mean_squared_error: 10.6957\n",
            "Epoch 167/250\n",
            "15957/15957 [==============================] - 0s 29us/step - loss: 127.4835 - root_mean_squared_error: 11.2801 - val_loss: 123.6884 - val_root_mean_squared_error: 11.1147\n",
            "Epoch 168/250\n",
            "15957/15957 [==============================] - 0s 29us/step - loss: 124.9994 - root_mean_squared_error: 11.1706 - val_loss: 119.5836 - val_root_mean_squared_error: 10.9299\n",
            "Epoch 169/250\n",
            "15957/15957 [==============================] - 0s 28us/step - loss: 126.7317 - root_mean_squared_error: 11.2430 - val_loss: 119.8462 - val_root_mean_squared_error: 10.9447\n",
            "Epoch 170/250\n",
            "15957/15957 [==============================] - 0s 29us/step - loss: 131.4570 - root_mean_squared_error: 11.4526 - val_loss: 119.9461 - val_root_mean_squared_error: 10.9496\n",
            "Epoch 171/250\n",
            "15957/15957 [==============================] - 0s 28us/step - loss: 127.8617 - root_mean_squared_error: 11.2946 - val_loss: 114.9939 - val_root_mean_squared_error: 10.7196\n",
            "Epoch 172/250\n",
            "15957/15957 [==============================] - 0s 29us/step - loss: 124.0926 - root_mean_squared_error: 11.1306 - val_loss: 118.5800 - val_root_mean_squared_error: 10.8854\n",
            "Epoch 173/250\n",
            "15957/15957 [==============================] - 0s 28us/step - loss: 122.9511 - root_mean_squared_error: 11.0785 - val_loss: 115.2971 - val_root_mean_squared_error: 10.7352\n",
            "Epoch 174/250\n",
            "15957/15957 [==============================] - 0s 28us/step - loss: 128.6880 - root_mean_squared_error: 11.3281 - val_loss: 114.5868 - val_root_mean_squared_error: 10.6998\n",
            "Epoch 175/250\n",
            "15957/15957 [==============================] - 0s 28us/step - loss: 123.5716 - root_mean_squared_error: 11.1098 - val_loss: 122.2879 - val_root_mean_squared_error: 11.0517\n",
            "Epoch 176/250\n",
            "15957/15957 [==============================] - 0s 28us/step - loss: 128.9759 - root_mean_squared_error: 11.3415 - val_loss: 113.2764 - val_root_mean_squared_error: 10.6391\n",
            "Epoch 177/250\n",
            "15957/15957 [==============================] - 0s 29us/step - loss: 123.0350 - root_mean_squared_error: 11.0827 - val_loss: 123.0662 - val_root_mean_squared_error: 11.0904\n",
            "Epoch 178/250\n",
            "15957/15957 [==============================] - 0s 27us/step - loss: 126.8405 - root_mean_squared_error: 11.2501 - val_loss: 116.5632 - val_root_mean_squared_error: 10.7939\n",
            "Epoch 179/250\n",
            "15957/15957 [==============================] - 0s 29us/step - loss: 123.3391 - root_mean_squared_error: 11.0942 - val_loss: 116.5601 - val_root_mean_squared_error: 10.7927\n",
            "Epoch 180/250\n",
            "15957/15957 [==============================] - 0s 29us/step - loss: 123.4723 - root_mean_squared_error: 11.1034 - val_loss: 133.9545 - val_root_mean_squared_error: 11.5699\n",
            "Epoch 181/250\n",
            "15957/15957 [==============================] - 0s 29us/step - loss: 126.2004 - root_mean_squared_error: 11.2246 - val_loss: 120.2575 - val_root_mean_squared_error: 10.9619\n",
            "Epoch 182/250\n",
            "15957/15957 [==============================] - 0s 28us/step - loss: 129.4366 - root_mean_squared_error: 11.3608 - val_loss: 116.5304 - val_root_mean_squared_error: 10.7915\n",
            "Epoch 183/250\n",
            "15957/15957 [==============================] - 0s 28us/step - loss: 127.3190 - root_mean_squared_error: 11.2642 - val_loss: 111.6329 - val_root_mean_squared_error: 10.5618\n",
            "Epoch 184/250\n",
            "15957/15957 [==============================] - 0s 29us/step - loss: 126.8847 - root_mean_squared_error: 11.2491 - val_loss: 122.6814 - val_root_mean_squared_error: 11.0717\n",
            "Epoch 185/250\n",
            "15957/15957 [==============================] - 0s 27us/step - loss: 122.9609 - root_mean_squared_error: 11.0820 - val_loss: 119.4126 - val_root_mean_squared_error: 10.9244\n",
            "Epoch 186/250\n",
            "15957/15957 [==============================] - 0s 28us/step - loss: 121.7987 - root_mean_squared_error: 11.0245 - val_loss: 114.6271 - val_root_mean_squared_error: 10.7008\n",
            "Epoch 187/250\n",
            "15957/15957 [==============================] - 0s 28us/step - loss: 123.3554 - root_mean_squared_error: 11.1003 - val_loss: 137.6555 - val_root_mean_squared_error: 11.7254\n",
            "Epoch 188/250\n",
            "15957/15957 [==============================] - 0s 29us/step - loss: 133.5202 - root_mean_squared_error: 11.5380 - val_loss: 116.2462 - val_root_mean_squared_error: 10.7775\n",
            "Epoch 189/250\n",
            "15957/15957 [==============================] - 0s 28us/step - loss: 126.3580 - root_mean_squared_error: 11.2300 - val_loss: 118.5838 - val_root_mean_squared_error: 10.8843\n",
            "Epoch 190/250\n",
            "15957/15957 [==============================] - 0s 28us/step - loss: 125.5675 - root_mean_squared_error: 11.1921 - val_loss: 122.1884 - val_root_mean_squared_error: 11.0478\n",
            "Epoch 191/250\n",
            "15957/15957 [==============================] - 0s 28us/step - loss: 124.8755 - root_mean_squared_error: 11.1672 - val_loss: 112.4011 - val_root_mean_squared_error: 10.5976\n",
            "Epoch 192/250\n",
            "15957/15957 [==============================] - 0s 27us/step - loss: 126.9809 - root_mean_squared_error: 11.2614 - val_loss: 130.9053 - val_root_mean_squared_error: 11.4350\n",
            "Epoch 193/250\n",
            "15957/15957 [==============================] - 0s 29us/step - loss: 130.8794 - root_mean_squared_error: 11.4268 - val_loss: 130.6625 - val_root_mean_squared_error: 11.4266\n",
            "Epoch 194/250\n",
            "15957/15957 [==============================] - 0s 28us/step - loss: 124.6857 - root_mean_squared_error: 11.1513 - val_loss: 110.8910 - val_root_mean_squared_error: 10.5269\n",
            "Epoch 195/250\n",
            "15957/15957 [==============================] - 0s 28us/step - loss: 122.2162 - root_mean_squared_error: 11.0463 - val_loss: 110.3482 - val_root_mean_squared_error: 10.5006\n",
            "Epoch 196/250\n",
            "15957/15957 [==============================] - 0s 28us/step - loss: 125.5208 - root_mean_squared_error: 11.1908 - val_loss: 110.1160 - val_root_mean_squared_error: 10.4891\n",
            "Epoch 197/250\n",
            "15957/15957 [==============================] - 0s 29us/step - loss: 120.1288 - root_mean_squared_error: 10.9550 - val_loss: 110.8883 - val_root_mean_squared_error: 10.5260\n",
            "Epoch 198/250\n",
            "15957/15957 [==============================] - 0s 28us/step - loss: 122.6163 - root_mean_squared_error: 11.0616 - val_loss: 126.8934 - val_root_mean_squared_error: 11.2605\n",
            "Epoch 199/250\n",
            "15957/15957 [==============================] - 0s 28us/step - loss: 126.4062 - root_mean_squared_error: 11.2287 - val_loss: 110.1991 - val_root_mean_squared_error: 10.4950\n",
            "Epoch 200/250\n",
            "15957/15957 [==============================] - 0s 28us/step - loss: 121.6094 - root_mean_squared_error: 11.0190 - val_loss: 113.3159 - val_root_mean_squared_error: 10.6408\n",
            "Epoch 201/250\n",
            "15957/15957 [==============================] - 0s 29us/step - loss: 123.0528 - root_mean_squared_error: 11.0786 - val_loss: 109.2688 - val_root_mean_squared_error: 10.4486\n",
            "Epoch 202/250\n",
            "15957/15957 [==============================] - 0s 29us/step - loss: 117.0266 - root_mean_squared_error: 10.8121 - val_loss: 110.8172 - val_root_mean_squared_error: 10.5234\n",
            "Epoch 203/250\n",
            "15957/15957 [==============================] - 0s 29us/step - loss: 120.3111 - root_mean_squared_error: 10.9539 - val_loss: 109.7192 - val_root_mean_squared_error: 10.4715\n",
            "Epoch 204/250\n",
            "15957/15957 [==============================] - 0s 28us/step - loss: 119.9133 - root_mean_squared_error: 10.9431 - val_loss: 115.5973 - val_root_mean_squared_error: 10.7464\n",
            "Epoch 205/250\n",
            "15957/15957 [==============================] - 0s 28us/step - loss: 125.0191 - root_mean_squared_error: 11.1711 - val_loss: 110.1440 - val_root_mean_squared_error: 10.4903\n",
            "Epoch 206/250\n",
            "15957/15957 [==============================] - 0s 28us/step - loss: 128.3897 - root_mean_squared_error: 11.3104 - val_loss: 113.0188 - val_root_mean_squared_error: 10.6273\n",
            "Epoch 207/250\n",
            "15957/15957 [==============================] - 0s 28us/step - loss: 124.1112 - root_mean_squared_error: 11.1315 - val_loss: 114.5237 - val_root_mean_squared_error: 10.6960\n",
            "Epoch 208/250\n",
            "15957/15957 [==============================] - 0s 28us/step - loss: 123.0975 - root_mean_squared_error: 11.0864 - val_loss: 109.8302 - val_root_mean_squared_error: 10.4767\n",
            "Epoch 209/250\n",
            "15957/15957 [==============================] - 0s 28us/step - loss: 128.6068 - root_mean_squared_error: 11.3241 - val_loss: 137.8277 - val_root_mean_squared_error: 11.7357\n",
            "Epoch 210/250\n",
            "15957/15957 [==============================] - 0s 29us/step - loss: 124.8829 - root_mean_squared_error: 11.1572 - val_loss: 112.1485 - val_root_mean_squared_error: 10.5859\n",
            "Epoch 211/250\n",
            "15957/15957 [==============================] - 0s 28us/step - loss: 122.0240 - root_mean_squared_error: 11.0317 - val_loss: 116.5958 - val_root_mean_squared_error: 10.7935\n",
            "Epoch 212/250\n",
            "15957/15957 [==============================] - 0s 29us/step - loss: 120.2418 - root_mean_squared_error: 10.9523 - val_loss: 124.9391 - val_root_mean_squared_error: 11.1727\n",
            "Epoch 213/250\n",
            "15957/15957 [==============================] - 0s 28us/step - loss: 135.3248 - root_mean_squared_error: 11.6089 - val_loss: 137.9017 - val_root_mean_squared_error: 11.7392\n",
            "Epoch 214/250\n",
            "15957/15957 [==============================] - 0s 28us/step - loss: 123.2865 - root_mean_squared_error: 11.0926 - val_loss: 112.5890 - val_root_mean_squared_error: 10.6065\n",
            "Epoch 215/250\n",
            "15957/15957 [==============================] - 0s 28us/step - loss: 120.8588 - root_mean_squared_error: 10.9802 - val_loss: 112.6457 - val_root_mean_squared_error: 10.6086\n",
            "Epoch 216/250\n",
            "15957/15957 [==============================] - 0s 28us/step - loss: 119.3378 - root_mean_squared_error: 10.9157 - val_loss: 116.9768 - val_root_mean_squared_error: 10.8118\n",
            "Epoch 217/250\n",
            "15957/15957 [==============================] - 0s 28us/step - loss: 120.3075 - root_mean_squared_error: 10.9572 - val_loss: 122.9098 - val_root_mean_squared_error: 11.0833\n",
            "Epoch 218/250\n",
            "15957/15957 [==============================] - 0s 27us/step - loss: 121.6391 - root_mean_squared_error: 11.0190 - val_loss: 130.5244 - val_root_mean_squared_error: 11.4191\n",
            "Epoch 219/250\n",
            "15957/15957 [==============================] - 0s 28us/step - loss: 121.7334 - root_mean_squared_error: 11.0195 - val_loss: 112.3806 - val_root_mean_squared_error: 10.5967\n",
            "Epoch 220/250\n",
            "15957/15957 [==============================] - 0s 28us/step - loss: 121.1428 - root_mean_squared_error: 10.9922 - val_loss: 136.9876 - val_root_mean_squared_error: 11.6989\n",
            "Epoch 221/250\n",
            "15957/15957 [==============================] - 0s 27us/step - loss: 129.7758 - root_mean_squared_error: 11.3756 - val_loss: 118.4188 - val_root_mean_squared_error: 10.8783\n",
            "Epoch 222/250\n",
            "15957/15957 [==============================] - 0s 27us/step - loss: 120.3266 - root_mean_squared_error: 10.9552 - val_loss: 108.1371 - val_root_mean_squared_error: 10.3951\n",
            "Epoch 223/250\n",
            "15957/15957 [==============================] - 0s 27us/step - loss: 116.9901 - root_mean_squared_error: 10.8064 - val_loss: 108.8634 - val_root_mean_squared_error: 10.4289\n",
            "Epoch 224/250\n",
            "15957/15957 [==============================] - 0s 29us/step - loss: 119.0164 - root_mean_squared_error: 10.8988 - val_loss: 126.5858 - val_root_mean_squared_error: 11.2465\n",
            "Epoch 225/250\n",
            "15957/15957 [==============================] - 0s 28us/step - loss: 126.3308 - root_mean_squared_error: 11.2180 - val_loss: 109.1702 - val_root_mean_squared_error: 10.4452\n",
            "Epoch 226/250\n",
            "15957/15957 [==============================] - 0s 28us/step - loss: 115.6458 - root_mean_squared_error: 10.7423 - val_loss: 117.5392 - val_root_mean_squared_error: 10.8376\n",
            "Epoch 227/250\n",
            "15957/15957 [==============================] - 0s 28us/step - loss: 121.7389 - root_mean_squared_error: 11.0168 - val_loss: 114.6303 - val_root_mean_squared_error: 10.7016\n",
            "Epoch 228/250\n",
            "15957/15957 [==============================] - 0s 28us/step - loss: 119.1162 - root_mean_squared_error: 10.9060 - val_loss: 107.6393 - val_root_mean_squared_error: 10.3709\n",
            "Epoch 229/250\n",
            "15957/15957 [==============================] - 0s 29us/step - loss: 117.5208 - root_mean_squared_error: 10.8272 - val_loss: 110.0760 - val_root_mean_squared_error: 10.4885\n",
            "Epoch 230/250\n",
            "15957/15957 [==============================] - 0s 28us/step - loss: 121.3577 - root_mean_squared_error: 11.0006 - val_loss: 116.1856 - val_root_mean_squared_error: 10.7753\n",
            "Epoch 231/250\n",
            "15957/15957 [==============================] - 0s 28us/step - loss: 118.8786 - root_mean_squared_error: 10.8868 - val_loss: 138.6349 - val_root_mean_squared_error: 11.7681\n",
            "Epoch 232/250\n",
            "15957/15957 [==============================] - 0s 28us/step - loss: 123.3991 - root_mean_squared_error: 11.0945 - val_loss: 111.0638 - val_root_mean_squared_error: 10.5335\n",
            "Epoch 233/250\n",
            "15957/15957 [==============================] - 0s 29us/step - loss: 117.8488 - root_mean_squared_error: 10.8499 - val_loss: 110.7378 - val_root_mean_squared_error: 10.5196\n",
            "Epoch 234/250\n",
            "15957/15957 [==============================] - 0s 29us/step - loss: 114.7989 - root_mean_squared_error: 10.7063 - val_loss: 107.6916 - val_root_mean_squared_error: 10.3728\n",
            "Epoch 235/250\n",
            "15957/15957 [==============================] - 0s 28us/step - loss: 118.2816 - root_mean_squared_error: 10.8596 - val_loss: 112.3590 - val_root_mean_squared_error: 10.5958\n",
            "Epoch 236/250\n",
            "15957/15957 [==============================] - 0s 28us/step - loss: 116.0742 - root_mean_squared_error: 10.7625 - val_loss: 108.1332 - val_root_mean_squared_error: 10.3946\n",
            "Epoch 237/250\n",
            "15957/15957 [==============================] - 0s 28us/step - loss: 115.5939 - root_mean_squared_error: 10.7423 - val_loss: 106.6248 - val_root_mean_squared_error: 10.3228\n",
            "Epoch 238/250\n",
            "15957/15957 [==============================] - 0s 28us/step - loss: 117.7066 - root_mean_squared_error: 10.8378 - val_loss: 108.4835 - val_root_mean_squared_error: 10.4118\n",
            "Epoch 239/250\n",
            "15957/15957 [==============================] - 0s 28us/step - loss: 113.7077 - root_mean_squared_error: 10.6525 - val_loss: 106.7475 - val_root_mean_squared_error: 10.3277\n",
            "Epoch 240/250\n",
            "15957/15957 [==============================] - 0s 28us/step - loss: 115.2485 - root_mean_squared_error: 10.7285 - val_loss: 111.7734 - val_root_mean_squared_error: 10.5687\n",
            "Epoch 241/250\n",
            "15957/15957 [==============================] - 0s 27us/step - loss: 120.1068 - root_mean_squared_error: 10.9467 - val_loss: 107.6171 - val_root_mean_squared_error: 10.3707\n",
            "Epoch 242/250\n",
            "15957/15957 [==============================] - 0s 28us/step - loss: 115.1676 - root_mean_squared_error: 10.7223 - val_loss: 108.3325 - val_root_mean_squared_error: 10.4047\n",
            "Epoch 243/250\n",
            "15957/15957 [==============================] - 0s 29us/step - loss: 115.0489 - root_mean_squared_error: 10.7209 - val_loss: 108.1925 - val_root_mean_squared_error: 10.3976\n",
            "Epoch 244/250\n",
            "15957/15957 [==============================] - 0s 29us/step - loss: 115.1983 - root_mean_squared_error: 10.7237 - val_loss: 113.9532 - val_root_mean_squared_error: 10.6705\n",
            "Epoch 245/250\n",
            "15957/15957 [==============================] - 0s 28us/step - loss: 115.9406 - root_mean_squared_error: 10.7547 - val_loss: 104.1292 - val_root_mean_squared_error: 10.2005\n",
            "Epoch 246/250\n",
            "15957/15957 [==============================] - 0s 28us/step - loss: 116.2074 - root_mean_squared_error: 10.7695 - val_loss: 107.1784 - val_root_mean_squared_error: 10.3490\n",
            "Epoch 247/250\n",
            "15957/15957 [==============================] - 0s 28us/step - loss: 117.2701 - root_mean_squared_error: 10.8185 - val_loss: 110.8430 - val_root_mean_squared_error: 10.5248\n",
            "Epoch 248/250\n",
            "15957/15957 [==============================] - 0s 28us/step - loss: 117.0581 - root_mean_squared_error: 10.8123 - val_loss: 110.4234 - val_root_mean_squared_error: 10.5048\n",
            "Epoch 249/250\n",
            "15957/15957 [==============================] - 0s 28us/step - loss: 115.9213 - root_mean_squared_error: 10.7516 - val_loss: 112.8999 - val_root_mean_squared_error: 10.6211\n",
            "Epoch 250/250\n",
            "15957/15957 [==============================] - 0s 29us/step - loss: 117.7595 - root_mean_squared_error: 10.8422 - val_loss: 105.3880 - val_root_mean_squared_error: 10.2623\n"
          ],
          "name": "stdout"
        }
      ]
    },
    {
      "cell_type": "code",
      "metadata": {
        "id": "4H_S6LK541Gs",
        "colab_type": "code",
        "outputId": "3171077c-775e-49b6-b00e-1cd98b4bf012",
        "colab": {
          "base_uri": "https://localhost:8080/",
          "height": 663
        }
      },
      "source": [
        "cnnturbofan.summary()"
      ],
      "execution_count": 22,
      "outputs": [
        {
          "output_type": "stream",
          "text": [
            "Model: \"cnnturbofan\"\n",
            "_________________________________________________________________\n",
            "Layer (type)                 Output Shape              Param #   \n",
            "=================================================================\n",
            "input_1 (InputLayer)         (None, 30, 14, 1)         0         \n",
            "_________________________________________________________________\n",
            "conv0 (Conv2D)               (None, 30, 14, 10)        110       \n",
            "_________________________________________________________________\n",
            "activation_1 (Activation)    (None, 30, 14, 10)        0         \n",
            "_________________________________________________________________\n",
            "conv1 (Conv2D)               (None, 30, 14, 10)        1010      \n",
            "_________________________________________________________________\n",
            "activation_2 (Activation)    (None, 30, 14, 10)        0         \n",
            "_________________________________________________________________\n",
            "conv2 (Conv2D)               (None, 30, 14, 10)        1010      \n",
            "_________________________________________________________________\n",
            "activation_3 (Activation)    (None, 30, 14, 10)        0         \n",
            "_________________________________________________________________\n",
            "conv3 (Conv2D)               (None, 30, 14, 10)        1010      \n",
            "_________________________________________________________________\n",
            "activation_4 (Activation)    (None, 30, 14, 10)        0         \n",
            "_________________________________________________________________\n",
            "conv4 (Conv2D)               (None, 30, 14, 1)         31        \n",
            "_________________________________________________________________\n",
            "activation_5 (Activation)    (None, 30, 14, 1)         0         \n",
            "_________________________________________________________________\n",
            "flatten_1 (Flatten)          (None, 420)               0         \n",
            "_________________________________________________________________\n",
            "dropout_1 (Dropout)          (None, 420)               0         \n",
            "_________________________________________________________________\n",
            "fully-connected (Dense)      (None, 100)               42100     \n",
            "_________________________________________________________________\n",
            "rul-neuron (Dense)           (None, 1)                 101       \n",
            "=================================================================\n",
            "Total params: 45,372\n",
            "Trainable params: 45,372\n",
            "Non-trainable params: 0\n",
            "_________________________________________________________________\n"
          ],
          "name": "stdout"
        }
      ]
    },
    {
      "cell_type": "code",
      "metadata": {
        "id": "fj2BQVWTHspb",
        "colab_type": "code",
        "colab": {}
      },
      "source": [
        "hola = cnnturbofan.predict(features_maps)"
      ],
      "execution_count": 0,
      "outputs": []
    },
    {
      "cell_type": "code",
      "metadata": {
        "id": "FOowaH-AMvuQ",
        "colab_type": "code",
        "outputId": "2c4ceac0-24a1-48e4-c5ec-9ddb7e41ecc9",
        "colab": {
          "base_uri": "https://localhost:8080/",
          "height": 410
        }
      },
      "source": [
        "#acc = history.history['mean_absolute_error']\n",
        "#val_acc = history.history['val_mean_absolute_error']\n",
        "loss = history.history['loss']\n",
        "val_loss = history.history['val_loss']\n",
        "\n",
        "epochs = range(len(loss))\n",
        "\n",
        "##plt.plot(epochs, acc, 'r', label='Training accuracy')\n",
        "#plt.plot(epochs, val_acc, 'b', label='Validation accuracy')\n",
        "#plt.title('Training and validation accuracy')\n",
        "#plt.legend()\n",
        "#plt.figure()\n",
        "\n",
        "plt.figure(figsize=(10,6))\n",
        "plt.grid(True) \n",
        "plt.plot(epochs, loss, 'black',lw=0.9, label='Training Loss')\n",
        "plt.plot(epochs, val_loss, 'orange',lw=0.9, label='Validation Loss')\n",
        "plt.plot(epochs, np.ones(len(epochs))*12.2, 'blue',lw=1.3,label='Threshold')\n",
        "plt.title('Training and validation loss')\n",
        "plt.legend()\n",
        "  \n",
        "\n",
        "plt.show()"
      ],
      "execution_count": 24,
      "outputs": [
        {
          "output_type": "display_data",
          "data": {
            "image/png": "[encoded data removed]",
            "text/plain": [
              "<Figure size 720x432 with 1 Axes>"
            ]
          },
          "metadata": {
            "tags": []
          }
        }
      ]
    },
    {
      "cell_type": "code",
      "metadata": {
        "id": "A5CSaPRxgIdb",
        "colab_type": "code",
        "colab": {}
      },
      "source": [
        "holi = cnnturbofan.predict(list2)"
      ],
      "execution_count": 0,
      "outputs": []
    },
    {
      "cell_type": "code",
      "metadata": {
        "id": "w6cxUshdgvAi",
        "colab_type": "code",
        "outputId": "da4bb168-e44d-439d-ac4a-f5bd4a9845e6",
        "colab": {
          "base_uri": "https://localhost:8080/",
          "height": 336
        }
      },
      "source": [
        "leng = range(100)\n",
        "\n",
        "#plt.plot(leng, acc, 'r', label='Training accuracy')\n",
        "#plt.plot(leng, val_acc, 'b', label='Validation accuracy')\n",
        "#plt.title('Training and validation accuracy')\n",
        "#plt.legend()\n",
        "#plt.figure()\n",
        "\n",
        "plt.figure(figsize=(5,5))\n",
        "plt.grid(True) \n",
        "plt.plot(leng, holi, 'bo',lw=0.9, label='predict')\n",
        "plt.plot(leng, list1, 'ro',lw=0.9, label='true')\n",
        "plt.title('True and predict')\n",
        "plt.legend()\n",
        "  \n",
        "\n",
        "plt.show()"
      ],
      "execution_count": 26,
      "outputs": [
        {
          "output_type": "display_data",
          "data": {
            "image/png": "[encoded data removed]",
            "text/plain": [
              "<Figure size 360x360 with 1 Axes>"
            ]
          },
          "metadata": {
            "tags": []
          }
        }
      ]
    },
    {
      "cell_type": "code",
      "metadata": {
        "id": "J6087uYvh0jm",
        "colab_type": "code",
        "outputId": "0359ff5f-1c16-47bb-dca3-4b038d807206",
        "colab": {
          "base_uri": "https://localhost:8080/",
          "height": 34
        }
      },
      "source": [
        "from sklearn.metrics import mean_squared_error\n",
        "from math import sqrt\n",
        "\n",
        "rmse = sqrt(mean_squared_error(holi, list1))\n",
        "print(rmse)"
      ],
      "execution_count": 27,
      "outputs": [
        {
          "output_type": "stream",
          "text": [
            "12.783120027471686\n"
          ],
          "name": "stdout"
        }
      ]
    },
    {
      "cell_type": "markdown",
      "metadata": {
        "id": "WNNTtlth8cXZ",
        "colab_type": "text"
      },
      "source": [
        "### FD002"
      ]
    },
    {
      "cell_type": "code",
      "metadata": {
        "id": "LsSueSEo8vxy",
        "colab_type": "code",
        "colab": {}
      },
      "source": [
        "def cnnturbofan(input_shape):\n",
        "   \n",
        "    X_input = Input(input_shape)\n",
        "\n",
        "    #Layer 1\n",
        "    # Zero-Padding: Para originar un output (20,14) en la siguiente capa\n",
        "    #X = ZeroPadding2D((5, 0))(X_input)\n",
        "\n",
        "    # CONV -> TANH aplicado a X\n",
        "    X = Conv2D(10, (10, 1), strides = (1, 1),padding='same', name = 'conv0')(X_input)\n",
        "    #X = BatchNormalization(axis = 3, name = 'bn0')(X)\n",
        "    X = Activation('tanh')(X)\n",
        "\n",
        "    #Layer 2\n",
        "    #X = ZeroPadding2D((4, 0))(X)\n",
        "    X = Conv2D(10, (10, 1), strides = (1, 1), padding = 'same', name = 'conv1')(X)\n",
        "    #X = BatchNormalization(axis = 3, name = 'bn1')(X)\n",
        "    X = Activation('tanh')(X)\n",
        "\n",
        "    #Layer 3\n",
        "    #X = ZeroPadding2D((5, 0))(X)\n",
        "    X = Conv2D(10, (10, 1), strides = (1, 1), padding='same', name = 'conv2')(X)\n",
        "    #X = BatchNormalization(axis = 3, name = 'bn2')(X)\n",
        "    X = Activation('tanh')(X)\n",
        "\n",
        "    #Layer 4\n",
        "    #X = ZeroPadding2D((4, 0))(X)\n",
        "    X = Conv2D(10, (10, 1), strides = (1, 1),padding='same', name = 'conv3')(X)\n",
        "    #X = BatchNormalization(axis = 3, name = 'bn3')(X)\n",
        "    X = Activation('tanh')(X)\n",
        "\n",
        "    #Layer 5\n",
        "    #X = ZeroPadding2D((1, 0))(X)\n",
        "    X = Conv2D(1, (3, 1), strides = (1, 1),padding='same', name = 'conv4')(X)\n",
        "    #X = BatchNormalization(axis = 3, name = 'bn4')(X)\n",
        "    X = Activation('tanh')(X)\n",
        "\n",
        "    # FLATTEN X (\"desenrollamos el feature map anterior\") + FULLYCONNECTED\n",
        "    X = Flatten()(X)\n",
        "    X = Dropout(0.5)(X)\n",
        "    #X = BatchNormalization(name='bn5')(X)\n",
        "    X = Dense(100, activation='tanh', name='fully-connected')(X)\n",
        "    #X = Dropout(0.5)(X)\n",
        "    #X = BatchNormalization(name='bn6')(X)\n",
        "    X = Dense(1, name = 'rul-neuron')(X)\n",
        "\n",
        "    # instancia modelo final\n",
        "    model = Model(inputs = X_input, outputs = X, name='cnnturbofan')\n",
        "    \n",
        "  \n",
        "    return model"
      ],
      "execution_count": 0,
      "outputs": []
    },
    {
      "cell_type": "code",
      "metadata": {
        "id": "kZfVJ1si8bey",
        "colab_type": "code",
        "colab": {}
      },
      "source": [
        "cnnturbofan_2 = cnnturbofan((features_maps_2.shape[1],features_maps_2.shape[2],features_maps_2.shape[3]))"
      ],
      "execution_count": 0,
      "outputs": []
    },
    {
      "cell_type": "code",
      "metadata": {
        "id": "iAwnsUJT8kPd",
        "colab_type": "code",
        "colab": {}
      },
      "source": [
        "def root_mean_squared_error(y_true, y_pred):\n",
        "        return K.sqrt(K.mean(K.square(y_pred - y_true))) \n",
        "\n",
        "cnnturbofan_2.compile(optimizer = \"Adam\", loss = \"mean_squared_error\" , metrics = [root_mean_squared_error])"
      ],
      "execution_count": 0,
      "outputs": []
    },
    {
      "cell_type": "code",
      "metadata": {
        "id": "nsYbm89S829L",
        "colab_type": "code",
        "colab": {
          "base_uri": "https://localhost:8080/",
          "height": 1000
        },
        "outputId": "eda44adc-8d2b-48c2-8881-e42c475f6d95"
      },
      "source": [
        "history_2 = cnnturbofan_2.fit(x = features_maps_train_2, y = ys_train_2 ,batch_size=512, epochs = 250 ,validation_data=(features_maps_valid_2,ys_valid_2))"
      ],
      "execution_count": 84,
      "outputs": [
        {
          "output_type": "stream",
          "text": [
            "Train on 43937 samples, validate on 4882 samples\n",
            "Epoch 1/250\n",
            "43937/43937 [==============================] - 2s 37us/step - loss: 6707.1622 - root_mean_squared_error: 81.7715 - val_loss: 5871.5438 - val_root_mean_squared_error: 76.5986\n",
            "Epoch 2/250\n",
            "43937/43937 [==============================] - 1s 22us/step - loss: 5337.1741 - root_mean_squared_error: 73.0170 - val_loss: 4857.9983 - val_root_mean_squared_error: 69.6735\n",
            "Epoch 3/250\n",
            "43937/43937 [==============================] - 1s 21us/step - loss: 4439.4731 - root_mean_squared_error: 66.5980 - val_loss: 4062.4481 - val_root_mean_squared_error: 63.7139\n",
            "Epoch 4/250\n",
            "43937/43937 [==============================] - 1s 22us/step - loss: 3734.5921 - root_mean_squared_error: 61.0844 - val_loss: 3439.3259 - val_root_mean_squared_error: 58.6255\n",
            "Epoch 5/250\n",
            "43937/43937 [==============================] - 1s 21us/step - loss: 3186.0536 - root_mean_squared_error: 56.4259 - val_loss: 2958.5192 - val_root_mean_squared_error: 54.3758\n",
            "Epoch 6/250\n",
            "43937/43937 [==============================] - 1s 22us/step - loss: 2766.4988 - root_mean_squared_error: 52.5781 - val_loss: 2594.1338 - val_root_mean_squared_error: 50.9201\n",
            "Epoch 7/250\n",
            "43937/43937 [==============================] - 1s 22us/step - loss: 2452.6055 - root_mean_squared_error: 49.5110 - val_loss: 2324.0049 - val_root_mean_squared_error: 48.1990\n",
            "Epoch 8/250\n",
            "43937/43937 [==============================] - 1s 22us/step - loss: 2223.0781 - root_mean_squared_error: 47.1410 - val_loss: 2129.8982 - val_root_mean_squared_error: 46.1445\n",
            "Epoch 9/250\n",
            "43937/43937 [==============================] - 1s 22us/step - loss: 2060.0333 - root_mean_squared_error: 45.3794 - val_loss: 1993.3772 - val_root_mean_squared_error: 44.6424\n",
            "Epoch 10/250\n",
            "43937/43937 [==============================] - 1s 21us/step - loss: 1947.2568 - root_mean_squared_error: 44.1213 - val_loss: 1900.7966 - val_root_mean_squared_error: 43.5935\n",
            "Epoch 11/250\n",
            "43937/43937 [==============================] - 1s 21us/step - loss: 1871.7657 - root_mean_squared_error: 43.2590 - val_loss: 1839.4182 - val_root_mean_squared_error: 42.8833\n",
            "Epoch 12/250\n",
            "43937/43937 [==============================] - 1s 21us/step - loss: 1822.7683 - root_mean_squared_error: 42.6889 - val_loss: 1796.2442 - val_root_mean_squared_error: 42.3758\n",
            "Epoch 13/250\n",
            "43937/43937 [==============================] - 1s 21us/step - loss: 1792.4491 - root_mean_squared_error: 42.3311 - val_loss: 1775.9889 - val_root_mean_squared_error: 42.1348\n",
            "Epoch 14/250\n",
            "43937/43937 [==============================] - 1s 21us/step - loss: 1774.0077 - root_mean_squared_error: 42.1127 - val_loss: 1761.5780 - val_root_mean_squared_error: 41.9620\n",
            "Epoch 15/250\n",
            "43937/43937 [==============================] - 1s 21us/step - loss: 1763.3868 - root_mean_squared_error: 41.9854 - val_loss: 1753.5078 - val_root_mean_squared_error: 41.8645\n",
            "Epoch 16/250\n",
            "43937/43937 [==============================] - 1s 21us/step - loss: 1757.5226 - root_mean_squared_error: 41.9154 - val_loss: 1748.9049 - val_root_mean_squared_error: 41.8084\n",
            "Epoch 17/250\n",
            "43937/43937 [==============================] - 1s 21us/step - loss: 1754.4102 - root_mean_squared_error: 41.8762 - val_loss: 1746.5237 - val_root_mean_squared_error: 41.7791\n",
            "Epoch 18/250\n",
            "43937/43937 [==============================] - 1s 21us/step - loss: 1752.8120 - root_mean_squared_error: 41.8605 - val_loss: 1745.2469 - val_root_mean_squared_error: 41.7631\n",
            "Epoch 19/250\n",
            "43937/43937 [==============================] - 1s 21us/step - loss: 1752.0179 - root_mean_squared_error: 41.8516 - val_loss: 1744.6323 - val_root_mean_squared_error: 41.7553\n",
            "Epoch 20/250\n",
            "43937/43937 [==============================] - 1s 21us/step - loss: 1751.0791 - root_mean_squared_error: 41.8385 - val_loss: 1742.5299 - val_root_mean_squared_error: 41.7297\n",
            "Epoch 21/250\n",
            "43937/43937 [==============================] - 1s 22us/step - loss: 1705.6695 - root_mean_squared_error: 41.2903 - val_loss: 1621.6761 - val_root_mean_squared_error: 40.2592\n",
            "Epoch 22/250\n",
            "43937/43937 [==============================] - 1s 22us/step - loss: 1588.8336 - root_mean_squared_error: 39.8521 - val_loss: 1484.5944 - val_root_mean_squared_error: 38.5186\n",
            "Epoch 23/250\n",
            "43937/43937 [==============================] - 1s 22us/step - loss: 1527.0693 - root_mean_squared_error: 39.0699 - val_loss: 1441.4823 - val_root_mean_squared_error: 37.9540\n",
            "Epoch 24/250\n",
            "43937/43937 [==============================] - 1s 22us/step - loss: 1469.9317 - root_mean_squared_error: 38.3311 - val_loss: 1314.9285 - val_root_mean_squared_error: 36.2515\n",
            "Epoch 25/250\n",
            "43937/43937 [==============================] - 1s 22us/step - loss: 1355.8079 - root_mean_squared_error: 36.8118 - val_loss: 1179.9003 - val_root_mean_squared_error: 34.3370\n",
            "Epoch 26/250\n",
            "43937/43937 [==============================] - 1s 22us/step - loss: 1244.0303 - root_mean_squared_error: 35.2597 - val_loss: 1020.9215 - val_root_mean_squared_error: 31.9425\n",
            "Epoch 27/250\n",
            "43937/43937 [==============================] - 1s 21us/step - loss: 1113.9715 - root_mean_squared_error: 33.3633 - val_loss: 948.7018 - val_root_mean_squared_error: 30.7863\n",
            "Epoch 28/250\n",
            "43937/43937 [==============================] - 1s 21us/step - loss: 1006.3341 - root_mean_squared_error: 31.7084 - val_loss: 805.8107 - val_root_mean_squared_error: 28.3796\n",
            "Epoch 29/250\n",
            "43937/43937 [==============================] - 1s 22us/step - loss: 946.6256 - root_mean_squared_error: 30.7449 - val_loss: 698.5432 - val_root_mean_squared_error: 26.4247\n",
            "Epoch 30/250\n",
            "43937/43937 [==============================] - 1s 21us/step - loss: 868.2945 - root_mean_squared_error: 29.4528 - val_loss: 697.8709 - val_root_mean_squared_error: 26.4084\n",
            "Epoch 31/250\n",
            "43937/43937 [==============================] - 1s 22us/step - loss: 867.1677 - root_mean_squared_error: 29.4169 - val_loss: 930.8701 - val_root_mean_squared_error: 30.4910\n",
            "Epoch 32/250\n",
            "43937/43937 [==============================] - 1s 21us/step - loss: 793.5577 - root_mean_squared_error: 28.1481 - val_loss: 673.2073 - val_root_mean_squared_error: 25.9369\n",
            "Epoch 33/250\n",
            "43937/43937 [==============================] - 1s 21us/step - loss: 744.4620 - root_mean_squared_error: 27.2693 - val_loss: 555.7873 - val_root_mean_squared_error: 23.5711\n",
            "Epoch 34/250\n",
            "43937/43937 [==============================] - 1s 21us/step - loss: 726.8238 - root_mean_squared_error: 26.9435 - val_loss: 695.6624 - val_root_mean_squared_error: 26.3671\n",
            "Epoch 35/250\n",
            "43937/43937 [==============================] - 1s 21us/step - loss: 703.9491 - root_mean_squared_error: 26.4963 - val_loss: 530.0373 - val_root_mean_squared_error: 23.0179\n",
            "Epoch 36/250\n",
            "43937/43937 [==============================] - 1s 22us/step - loss: 684.0605 - root_mean_squared_error: 26.1364 - val_loss: 523.1807 - val_root_mean_squared_error: 22.8669\n",
            "Epoch 37/250\n",
            "43937/43937 [==============================] - 1s 21us/step - loss: 659.9977 - root_mean_squared_error: 25.6719 - val_loss: 536.4027 - val_root_mean_squared_error: 23.1537\n",
            "Epoch 38/250\n",
            "43937/43937 [==============================] - 1s 21us/step - loss: 635.0490 - root_mean_squared_error: 25.1878 - val_loss: 531.1303 - val_root_mean_squared_error: 23.0379\n",
            "Epoch 39/250\n",
            "43937/43937 [==============================] - 1s 22us/step - loss: 636.8537 - root_mean_squared_error: 25.2156 - val_loss: 497.7608 - val_root_mean_squared_error: 22.3043\n",
            "Epoch 40/250\n",
            "43937/43937 [==============================] - 1s 22us/step - loss: 613.2179 - root_mean_squared_error: 24.7480 - val_loss: 567.1032 - val_root_mean_squared_error: 23.8047\n",
            "Epoch 41/250\n",
            "43937/43937 [==============================] - 1s 22us/step - loss: 621.4945 - root_mean_squared_error: 24.9134 - val_loss: 541.3382 - val_root_mean_squared_error: 23.2567\n",
            "Epoch 42/250\n",
            "43937/43937 [==============================] - 1s 21us/step - loss: 601.2840 - root_mean_squared_error: 24.5062 - val_loss: 490.3188 - val_root_mean_squared_error: 22.1349\n",
            "Epoch 43/250\n",
            "43937/43937 [==============================] - 1s 20us/step - loss: 593.9861 - root_mean_squared_error: 24.3532 - val_loss: 516.4826 - val_root_mean_squared_error: 22.7176\n",
            "Epoch 44/250\n",
            "43937/43937 [==============================] - 1s 22us/step - loss: 579.4887 - root_mean_squared_error: 24.0604 - val_loss: 493.2051 - val_root_mean_squared_error: 22.2001\n",
            "Epoch 45/250\n",
            "43937/43937 [==============================] - 1s 21us/step - loss: 598.7849 - root_mean_squared_error: 24.4492 - val_loss: 525.7684 - val_root_mean_squared_error: 22.9180\n",
            "Epoch 46/250\n",
            "43937/43937 [==============================] - 1s 21us/step - loss: 576.1916 - root_mean_squared_error: 23.9888 - val_loss: 500.2524 - val_root_mean_squared_error: 22.3571\n",
            "Epoch 47/250\n",
            "43937/43937 [==============================] - 1s 21us/step - loss: 588.3447 - root_mean_squared_error: 24.2316 - val_loss: 480.0640 - val_root_mean_squared_error: 21.9039\n",
            "Epoch 48/250\n",
            "43937/43937 [==============================] - 1s 21us/step - loss: 561.7250 - root_mean_squared_error: 23.6880 - val_loss: 468.3143 - val_root_mean_squared_error: 21.6347\n",
            "Epoch 49/250\n",
            "43937/43937 [==============================] - 1s 21us/step - loss: 559.7357 - root_mean_squared_error: 23.6425 - val_loss: 469.5146 - val_root_mean_squared_error: 21.6624\n",
            "Epoch 50/250\n",
            "43937/43937 [==============================] - 1s 21us/step - loss: 560.4670 - root_mean_squared_error: 23.6546 - val_loss: 463.5989 - val_root_mean_squared_error: 21.5253\n",
            "Epoch 51/250\n",
            "43937/43937 [==============================] - 1s 20us/step - loss: 551.2914 - root_mean_squared_error: 23.4641 - val_loss: 461.7985 - val_root_mean_squared_error: 21.4844\n",
            "Epoch 52/250\n",
            "43937/43937 [==============================] - 1s 21us/step - loss: 568.7547 - root_mean_squared_error: 23.8320 - val_loss: 458.2005 - val_root_mean_squared_error: 21.3993\n",
            "Epoch 53/250\n",
            "43937/43937 [==============================] - 1s 21us/step - loss: 545.5466 - root_mean_squared_error: 23.3465 - val_loss: 462.0583 - val_root_mean_squared_error: 21.4898\n",
            "Epoch 54/250\n",
            "43937/43937 [==============================] - 1s 20us/step - loss: 545.1120 - root_mean_squared_error: 23.3297 - val_loss: 469.0536 - val_root_mean_squared_error: 21.6507\n",
            "Epoch 55/250\n",
            "43937/43937 [==============================] - 1s 21us/step - loss: 549.3826 - root_mean_squared_error: 23.4127 - val_loss: 459.2388 - val_root_mean_squared_error: 21.4245\n",
            "Epoch 56/250\n",
            "43937/43937 [==============================] - 1s 20us/step - loss: 532.5596 - root_mean_squared_error: 23.0643 - val_loss: 509.3045 - val_root_mean_squared_error: 22.5588\n",
            "Epoch 57/250\n",
            "43937/43937 [==============================] - 1s 20us/step - loss: 533.7897 - root_mean_squared_error: 23.0922 - val_loss: 531.0518 - val_root_mean_squared_error: 23.0349\n",
            "Epoch 58/250\n",
            "43937/43937 [==============================] - 1s 22us/step - loss: 536.1662 - root_mean_squared_error: 23.1357 - val_loss: 461.8100 - val_root_mean_squared_error: 21.4838\n",
            "Epoch 59/250\n",
            "43937/43937 [==============================] - 1s 22us/step - loss: 528.6800 - root_mean_squared_error: 22.9783 - val_loss: 452.0485 - val_root_mean_squared_error: 21.2562\n",
            "Epoch 60/250\n",
            "43937/43937 [==============================] - 1s 22us/step - loss: 530.5338 - root_mean_squared_error: 23.0144 - val_loss: 463.4081 - val_root_mean_squared_error: 21.5209\n",
            "Epoch 61/250\n",
            "43937/43937 [==============================] - 1s 22us/step - loss: 535.9827 - root_mean_squared_error: 23.1307 - val_loss: 449.1720 - val_root_mean_squared_error: 21.1877\n",
            "Epoch 62/250\n",
            "43937/43937 [==============================] - 1s 21us/step - loss: 535.7022 - root_mean_squared_error: 23.1298 - val_loss: 483.0527 - val_root_mean_squared_error: 21.9707\n",
            "Epoch 63/250\n",
            "43937/43937 [==============================] - 1s 21us/step - loss: 512.7352 - root_mean_squared_error: 22.6329 - val_loss: 445.8878 - val_root_mean_squared_error: 21.1110\n",
            "Epoch 64/250\n",
            "43937/43937 [==============================] - 1s 22us/step - loss: 516.0473 - root_mean_squared_error: 22.7022 - val_loss: 441.5550 - val_root_mean_squared_error: 21.0077\n",
            "Epoch 65/250\n",
            "43937/43937 [==============================] - 1s 21us/step - loss: 536.2241 - root_mean_squared_error: 23.1350 - val_loss: 484.0124 - val_root_mean_squared_error: 21.9924\n",
            "Epoch 66/250\n",
            "43937/43937 [==============================] - 1s 21us/step - loss: 516.3075 - root_mean_squared_error: 22.7085 - val_loss: 446.5763 - val_root_mean_squared_error: 21.1277\n",
            "Epoch 67/250\n",
            "43937/43937 [==============================] - 1s 21us/step - loss: 516.4765 - root_mean_squared_error: 22.7116 - val_loss: 484.7496 - val_root_mean_squared_error: 22.0084\n",
            "Epoch 68/250\n",
            "43937/43937 [==============================] - 1s 21us/step - loss: 518.8497 - root_mean_squared_error: 22.7591 - val_loss: 473.6660 - val_root_mean_squared_error: 21.7573\n",
            "Epoch 69/250\n",
            "43937/43937 [==============================] - 1s 21us/step - loss: 510.0134 - root_mean_squared_error: 22.5677 - val_loss: 451.9562 - val_root_mean_squared_error: 21.2542\n",
            "Epoch 70/250\n",
            "43937/43937 [==============================] - 1s 21us/step - loss: 527.4402 - root_mean_squared_error: 22.9387 - val_loss: 444.5769 - val_root_mean_squared_error: 21.0793\n",
            "Epoch 71/250\n",
            "43937/43937 [==============================] - 1s 21us/step - loss: 516.4047 - root_mean_squared_error: 22.7088 - val_loss: 465.2295 - val_root_mean_squared_error: 21.5622\n",
            "Epoch 72/250\n",
            "43937/43937 [==============================] - 1s 22us/step - loss: 509.1933 - root_mean_squared_error: 22.5546 - val_loss: 444.6049 - val_root_mean_squared_error: 21.0809\n",
            "Epoch 73/250\n",
            "43937/43937 [==============================] - 1s 21us/step - loss: 509.4696 - root_mean_squared_error: 22.5579 - val_loss: 452.9550 - val_root_mean_squared_error: 21.2753\n",
            "Epoch 74/250\n",
            "43937/43937 [==============================] - 1s 21us/step - loss: 517.1747 - root_mean_squared_error: 22.7188 - val_loss: 472.4577 - val_root_mean_squared_error: 21.7294\n",
            "Epoch 75/250\n",
            "43937/43937 [==============================] - 1s 21us/step - loss: 512.0072 - root_mean_squared_error: 22.6070 - val_loss: 485.6837 - val_root_mean_squared_error: 22.0293\n",
            "Epoch 76/250\n",
            "43937/43937 [==============================] - 1s 21us/step - loss: 513.0500 - root_mean_squared_error: 22.6365 - val_loss: 444.5633 - val_root_mean_squared_error: 21.0787\n",
            "Epoch 77/250\n",
            "43937/43937 [==============================] - 1s 22us/step - loss: 508.9733 - root_mean_squared_error: 22.5444 - val_loss: 453.3515 - val_root_mean_squared_error: 21.2863\n",
            "Epoch 78/250\n",
            "43937/43937 [==============================] - 1s 20us/step - loss: 496.6879 - root_mean_squared_error: 22.2738 - val_loss: 445.0137 - val_root_mean_squared_error: 21.0895\n",
            "Epoch 79/250\n",
            "43937/43937 [==============================] - 1s 21us/step - loss: 493.4951 - root_mean_squared_error: 22.1979 - val_loss: 436.5446 - val_root_mean_squared_error: 20.8880\n",
            "Epoch 80/250\n",
            "43937/43937 [==============================] - 1s 22us/step - loss: 491.6445 - root_mean_squared_error: 22.1563 - val_loss: 435.7958 - val_root_mean_squared_error: 20.8701\n",
            "Epoch 81/250\n",
            "43937/43937 [==============================] - 1s 21us/step - loss: 497.9247 - root_mean_squared_error: 22.2976 - val_loss: 460.1874 - val_root_mean_squared_error: 21.4446\n",
            "Epoch 82/250\n",
            "43937/43937 [==============================] - 1s 21us/step - loss: 501.9333 - root_mean_squared_error: 22.3904 - val_loss: 480.7552 - val_root_mean_squared_error: 21.9187\n",
            "Epoch 83/250\n",
            "43937/43937 [==============================] - 1s 21us/step - loss: 502.3930 - root_mean_squared_error: 22.3964 - val_loss: 436.8654 - val_root_mean_squared_error: 20.8970\n",
            "Epoch 84/250\n",
            "43937/43937 [==============================] - 1s 21us/step - loss: 486.4463 - root_mean_squared_error: 22.0406 - val_loss: 447.2888 - val_root_mean_squared_error: 21.1439\n",
            "Epoch 85/250\n",
            "43937/43937 [==============================] - 1s 21us/step - loss: 483.1096 - root_mean_squared_error: 21.9663 - val_loss: 455.0487 - val_root_mean_squared_error: 21.3271\n",
            "Epoch 86/250\n",
            "43937/43937 [==============================] - 1s 21us/step - loss: 486.8571 - root_mean_squared_error: 22.0488 - val_loss: 437.8161 - val_root_mean_squared_error: 20.9195\n",
            "Epoch 87/250\n",
            "43937/43937 [==============================] - 1s 21us/step - loss: 488.3958 - root_mean_squared_error: 22.0823 - val_loss: 461.5512 - val_root_mean_squared_error: 21.4759\n",
            "Epoch 88/250\n",
            "43937/43937 [==============================] - 1s 22us/step - loss: 489.0908 - root_mean_squared_error: 22.0987 - val_loss: 430.8966 - val_root_mean_squared_error: 20.7514\n",
            "Epoch 89/250\n",
            "43937/43937 [==============================] - 1s 21us/step - loss: 489.3081 - root_mean_squared_error: 22.1014 - val_loss: 612.2832 - val_root_mean_squared_error: 24.7349\n",
            "Epoch 90/250\n",
            "43937/43937 [==============================] - 1s 21us/step - loss: 500.1635 - root_mean_squared_error: 22.3437 - val_loss: 490.4747 - val_root_mean_squared_error: 22.1385\n",
            "Epoch 91/250\n",
            "43937/43937 [==============================] - 1s 21us/step - loss: 497.0860 - root_mean_squared_error: 22.2762 - val_loss: 433.2953 - val_root_mean_squared_error: 20.8114\n",
            "Epoch 92/250\n",
            "43937/43937 [==============================] - 1s 21us/step - loss: 482.6634 - root_mean_squared_error: 21.9530 - val_loss: 441.2803 - val_root_mean_squared_error: 21.0027\n",
            "Epoch 93/250\n",
            "43937/43937 [==============================] - 1s 21us/step - loss: 488.4983 - root_mean_squared_error: 22.0785 - val_loss: 497.7060 - val_root_mean_squared_error: 22.2982\n",
            "Epoch 94/250\n",
            "43937/43937 [==============================] - 1s 20us/step - loss: 501.7045 - root_mean_squared_error: 22.3729 - val_loss: 445.7550 - val_root_mean_squared_error: 21.1086\n",
            "Epoch 95/250\n",
            "43937/43937 [==============================] - 1s 21us/step - loss: 486.5720 - root_mean_squared_error: 22.0408 - val_loss: 437.6578 - val_root_mean_squared_error: 20.9148\n",
            "Epoch 96/250\n",
            "43937/43937 [==============================] - 1s 21us/step - loss: 477.6818 - root_mean_squared_error: 21.8439 - val_loss: 451.5251 - val_root_mean_squared_error: 21.2443\n",
            "Epoch 97/250\n",
            "43937/43937 [==============================] - 1s 21us/step - loss: 487.2517 - root_mean_squared_error: 22.0567 - val_loss: 464.7823 - val_root_mean_squared_error: 21.5525\n",
            "Epoch 98/250\n",
            "43937/43937 [==============================] - 1s 21us/step - loss: 481.8979 - root_mean_squared_error: 21.9349 - val_loss: 434.4694 - val_root_mean_squared_error: 20.8388\n",
            "Epoch 99/250\n",
            "43937/43937 [==============================] - 1s 21us/step - loss: 478.3279 - root_mean_squared_error: 21.8541 - val_loss: 420.0005 - val_root_mean_squared_error: 20.4894\n",
            "Epoch 100/250\n",
            "43937/43937 [==============================] - 1s 22us/step - loss: 498.3455 - root_mean_squared_error: 22.2969 - val_loss: 471.6644 - val_root_mean_squared_error: 21.7118\n",
            "Epoch 101/250\n",
            "43937/43937 [==============================] - 1s 21us/step - loss: 476.8483 - root_mean_squared_error: 21.8204 - val_loss: 464.9729 - val_root_mean_squared_error: 21.5562\n",
            "Epoch 102/250\n",
            "43937/43937 [==============================] - 1s 21us/step - loss: 481.2825 - root_mean_squared_error: 21.9224 - val_loss: 433.9828 - val_root_mean_squared_error: 20.8271\n",
            "Epoch 103/250\n",
            "43937/43937 [==============================] - 1s 22us/step - loss: 481.1980 - root_mean_squared_error: 21.9171 - val_loss: 430.7593 - val_root_mean_squared_error: 20.7495\n",
            "Epoch 104/250\n",
            "43937/43937 [==============================] - 1s 21us/step - loss: 482.7215 - root_mean_squared_error: 21.9526 - val_loss: 424.2190 - val_root_mean_squared_error: 20.5914\n",
            "Epoch 105/250\n",
            "43937/43937 [==============================] - 1s 21us/step - loss: 475.9924 - root_mean_squared_error: 21.8010 - val_loss: 424.0804 - val_root_mean_squared_error: 20.5887\n",
            "Epoch 106/250\n",
            "43937/43937 [==============================] - 1s 22us/step - loss: 470.4566 - root_mean_squared_error: 21.6747 - val_loss: 431.4755 - val_root_mean_squared_error: 20.7673\n",
            "Epoch 107/250\n",
            "43937/43937 [==============================] - 1s 21us/step - loss: 469.9899 - root_mean_squared_error: 21.6619 - val_loss: 418.1725 - val_root_mean_squared_error: 20.4454\n",
            "Epoch 108/250\n",
            "43937/43937 [==============================] - 1s 20us/step - loss: 474.4214 - root_mean_squared_error: 21.7649 - val_loss: 431.8944 - val_root_mean_squared_error: 20.7762\n",
            "Epoch 109/250\n",
            "43937/43937 [==============================] - 1s 20us/step - loss: 476.9564 - root_mean_squared_error: 21.8267 - val_loss: 437.4946 - val_root_mean_squared_error: 20.9123\n",
            "Epoch 110/250\n",
            "43937/43937 [==============================] - 1s 20us/step - loss: 478.0316 - root_mean_squared_error: 21.8479 - val_loss: 448.3286 - val_root_mean_squared_error: 21.1683\n",
            "Epoch 111/250\n",
            "43937/43937 [==============================] - 1s 21us/step - loss: 479.1925 - root_mean_squared_error: 21.8670 - val_loss: 420.0011 - val_root_mean_squared_error: 20.4890\n",
            "Epoch 112/250\n",
            "43937/43937 [==============================] - 1s 21us/step - loss: 479.6411 - root_mean_squared_error: 21.8844 - val_loss: 428.3974 - val_root_mean_squared_error: 20.6922\n",
            "Epoch 113/250\n",
            "43937/43937 [==============================] - 1s 21us/step - loss: 466.8178 - root_mean_squared_error: 21.5879 - val_loss: 422.1652 - val_root_mean_squared_error: 20.5427\n",
            "Epoch 114/250\n",
            "43937/43937 [==============================] - 1s 21us/step - loss: 467.9641 - root_mean_squared_error: 21.6217 - val_loss: 422.6620 - val_root_mean_squared_error: 20.5541\n",
            "Epoch 115/250\n",
            "43937/43937 [==============================] - 1s 21us/step - loss: 461.3483 - root_mean_squared_error: 21.4665 - val_loss: 422.1512 - val_root_mean_squared_error: 20.5408\n",
            "Epoch 116/250\n",
            "43937/43937 [==============================] - 1s 21us/step - loss: 460.6952 - root_mean_squared_error: 21.4491 - val_loss: 449.6579 - val_root_mean_squared_error: 21.1986\n",
            "Epoch 117/250\n",
            "43937/43937 [==============================] - 1s 20us/step - loss: 464.3956 - root_mean_squared_error: 21.5382 - val_loss: 425.4630 - val_root_mean_squared_error: 20.6227\n",
            "Epoch 118/250\n",
            "43937/43937 [==============================] - 1s 21us/step - loss: 474.3444 - root_mean_squared_error: 21.7568 - val_loss: 419.5261 - val_root_mean_squared_error: 20.4781\n",
            "Epoch 119/250\n",
            "43937/43937 [==============================] - 1s 22us/step - loss: 461.2644 - root_mean_squared_error: 21.4620 - val_loss: 415.0703 - val_root_mean_squared_error: 20.3691\n",
            "Epoch 120/250\n",
            "43937/43937 [==============================] - 1s 21us/step - loss: 470.1813 - root_mean_squared_error: 21.6586 - val_loss: 420.0904 - val_root_mean_squared_error: 20.4917\n",
            "Epoch 121/250\n",
            "43937/43937 [==============================] - 1s 21us/step - loss: 461.4546 - root_mean_squared_error: 21.4643 - val_loss: 419.3575 - val_root_mean_squared_error: 20.4741\n",
            "Epoch 122/250\n",
            "43937/43937 [==============================] - 1s 21us/step - loss: 457.9673 - root_mean_squared_error: 21.3904 - val_loss: 456.9394 - val_root_mean_squared_error: 21.3708\n",
            "Epoch 123/250\n",
            "43937/43937 [==============================] - 1s 22us/step - loss: 462.7791 - root_mean_squared_error: 21.4979 - val_loss: 416.0835 - val_root_mean_squared_error: 20.3941\n",
            "Epoch 124/250\n",
            "43937/43937 [==============================] - 1s 21us/step - loss: 466.4824 - root_mean_squared_error: 21.5837 - val_loss: 413.7680 - val_root_mean_squared_error: 20.3365\n",
            "Epoch 125/250\n",
            "43937/43937 [==============================] - 1s 21us/step - loss: 463.1535 - root_mean_squared_error: 21.5009 - val_loss: 424.1326 - val_root_mean_squared_error: 20.5890\n",
            "Epoch 126/250\n",
            "43937/43937 [==============================] - 1s 21us/step - loss: 464.4153 - root_mean_squared_error: 21.5341 - val_loss: 416.1879 - val_root_mean_squared_error: 20.3965\n",
            "Epoch 127/250\n",
            "43937/43937 [==============================] - 1s 21us/step - loss: 459.3420 - root_mean_squared_error: 21.4173 - val_loss: 432.8323 - val_root_mean_squared_error: 20.7988\n",
            "Epoch 128/250\n",
            "43937/43937 [==============================] - 1s 21us/step - loss: 452.8627 - root_mean_squared_error: 21.2642 - val_loss: 412.0780 - val_root_mean_squared_error: 20.2955\n",
            "Epoch 129/250\n",
            "43937/43937 [==============================] - 1s 21us/step - loss: 457.1373 - root_mean_squared_error: 21.3613 - val_loss: 469.0090 - val_root_mean_squared_error: 21.6503\n",
            "Epoch 130/250\n",
            "43937/43937 [==============================] - 1s 20us/step - loss: 460.0144 - root_mean_squared_error: 21.4309 - val_loss: 419.2862 - val_root_mean_squared_error: 20.4727\n",
            "Epoch 131/250\n",
            "43937/43937 [==============================] - 1s 21us/step - loss: 452.6486 - root_mean_squared_error: 21.2578 - val_loss: 470.6983 - val_root_mean_squared_error: 21.6876\n",
            "Epoch 132/250\n",
            "43937/43937 [==============================] - 1s 20us/step - loss: 459.8860 - root_mean_squared_error: 21.4222 - val_loss: 436.5147 - val_root_mean_squared_error: 20.8867\n",
            "Epoch 133/250\n",
            "43937/43937 [==============================] - 1s 21us/step - loss: 452.6184 - root_mean_squared_error: 21.2501 - val_loss: 414.4716 - val_root_mean_squared_error: 20.3529\n",
            "Epoch 134/250\n",
            "43937/43937 [==============================] - 1s 21us/step - loss: 468.5017 - root_mean_squared_error: 21.6264 - val_loss: 433.6208 - val_root_mean_squared_error: 20.8169\n",
            "Epoch 135/250\n",
            "43937/43937 [==============================] - 1s 21us/step - loss: 456.9020 - root_mean_squared_error: 21.3547 - val_loss: 410.1827 - val_root_mean_squared_error: 20.2484\n",
            "Epoch 136/250\n",
            "43937/43937 [==============================] - 1s 21us/step - loss: 454.5920 - root_mean_squared_error: 21.3045 - val_loss: 414.5475 - val_root_mean_squared_error: 20.3557\n",
            "Epoch 137/250\n",
            "43937/43937 [==============================] - 1s 21us/step - loss: 453.0638 - root_mean_squared_error: 21.2629 - val_loss: 416.0698 - val_root_mean_squared_error: 20.3926\n",
            "Epoch 138/250\n",
            "43937/43937 [==============================] - 1s 21us/step - loss: 458.3723 - root_mean_squared_error: 21.3909 - val_loss: 488.2152 - val_root_mean_squared_error: 22.0895\n",
            "Epoch 139/250\n",
            "43937/43937 [==============================] - 1s 21us/step - loss: 464.1211 - root_mean_squared_error: 21.5233 - val_loss: 402.8418 - val_root_mean_squared_error: 20.0666\n",
            "Epoch 140/250\n",
            "43937/43937 [==============================] - 1s 21us/step - loss: 446.6926 - root_mean_squared_error: 21.1231 - val_loss: 405.9143 - val_root_mean_squared_error: 20.1443\n",
            "Epoch 141/250\n",
            "43937/43937 [==============================] - 1s 21us/step - loss: 448.2472 - root_mean_squared_error: 21.1570 - val_loss: 431.5262 - val_root_mean_squared_error: 20.7675\n",
            "Epoch 142/250\n",
            "43937/43937 [==============================] - 1s 21us/step - loss: 454.5270 - root_mean_squared_error: 21.3010 - val_loss: 422.3168 - val_root_mean_squared_error: 20.5458\n",
            "Epoch 143/250\n",
            "43937/43937 [==============================] - 1s 21us/step - loss: 439.5573 - root_mean_squared_error: 20.9542 - val_loss: 416.6456 - val_root_mean_squared_error: 20.4066\n",
            "Epoch 144/250\n",
            "43937/43937 [==============================] - 1s 21us/step - loss: 452.4916 - root_mean_squared_error: 21.2564 - val_loss: 422.6136 - val_root_mean_squared_error: 20.5515\n",
            "Epoch 145/250\n",
            "43937/43937 [==============================] - 1s 21us/step - loss: 447.6963 - root_mean_squared_error: 21.1456 - val_loss: 415.8425 - val_root_mean_squared_error: 20.3862\n",
            "Epoch 146/250\n",
            "43937/43937 [==============================] - 1s 21us/step - loss: 449.8518 - root_mean_squared_error: 21.1942 - val_loss: 432.7801 - val_root_mean_squared_error: 20.8004\n",
            "Epoch 147/250\n",
            "43937/43937 [==============================] - 1s 21us/step - loss: 441.2017 - root_mean_squared_error: 20.9907 - val_loss: 400.2426 - val_root_mean_squared_error: 20.0025\n",
            "Epoch 148/250\n",
            "43937/43937 [==============================] - 1s 21us/step - loss: 457.5556 - root_mean_squared_error: 21.3578 - val_loss: 406.3356 - val_root_mean_squared_error: 20.1547\n",
            "Epoch 149/250\n",
            "43937/43937 [==============================] - 1s 21us/step - loss: 448.2191 - root_mean_squared_error: 21.1519 - val_loss: 410.3026 - val_root_mean_squared_error: 20.2509\n",
            "Epoch 150/250\n",
            "43937/43937 [==============================] - 1s 21us/step - loss: 444.4044 - root_mean_squared_error: 21.0618 - val_loss: 404.9233 - val_root_mean_squared_error: 20.1185\n",
            "Epoch 151/250\n",
            "43937/43937 [==============================] - 1s 20us/step - loss: 442.7067 - root_mean_squared_error: 21.0272 - val_loss: 411.6890 - val_root_mean_squared_error: 20.2851\n",
            "Epoch 152/250\n",
            "43937/43937 [==============================] - 1s 20us/step - loss: 438.2073 - root_mean_squared_error: 20.9169 - val_loss: 401.3111 - val_root_mean_squared_error: 20.0293\n",
            "Epoch 153/250\n",
            "43937/43937 [==============================] - 1s 21us/step - loss: 448.7712 - root_mean_squared_error: 21.1678 - val_loss: 403.0750 - val_root_mean_squared_error: 20.0720\n",
            "Epoch 154/250\n",
            "43937/43937 [==============================] - 1s 21us/step - loss: 456.1794 - root_mean_squared_error: 21.3275 - val_loss: 397.7764 - val_root_mean_squared_error: 19.9414\n",
            "Epoch 155/250\n",
            "43937/43937 [==============================] - 1s 21us/step - loss: 446.9993 - root_mean_squared_error: 21.1255 - val_loss: 397.0756 - val_root_mean_squared_error: 19.9223\n",
            "Epoch 156/250\n",
            "43937/43937 [==============================] - 1s 21us/step - loss: 439.6562 - root_mean_squared_error: 20.9546 - val_loss: 417.3595 - val_root_mean_squared_error: 20.4245\n",
            "Epoch 157/250\n",
            "43937/43937 [==============================] - 1s 21us/step - loss: 446.6420 - root_mean_squared_error: 21.1117 - val_loss: 399.1609 - val_root_mean_squared_error: 19.9761\n",
            "Epoch 158/250\n",
            "43937/43937 [==============================] - 1s 22us/step - loss: 437.6497 - root_mean_squared_error: 20.9050 - val_loss: 397.2722 - val_root_mean_squared_error: 19.9285\n",
            "Epoch 159/250\n",
            "43937/43937 [==============================] - 1s 22us/step - loss: 439.1433 - root_mean_squared_error: 20.9374 - val_loss: 404.2843 - val_root_mean_squared_error: 20.1037\n",
            "Epoch 160/250\n",
            "43937/43937 [==============================] - 1s 21us/step - loss: 435.6091 - root_mean_squared_error: 20.8589 - val_loss: 403.6150 - val_root_mean_squared_error: 20.0866\n",
            "Epoch 161/250\n",
            "43937/43937 [==============================] - 1s 21us/step - loss: 431.5532 - root_mean_squared_error: 20.7567 - val_loss: 418.1701 - val_root_mean_squared_error: 20.4446\n",
            "Epoch 162/250\n",
            "43937/43937 [==============================] - 1s 21us/step - loss: 436.3372 - root_mean_squared_error: 20.8727 - val_loss: 405.3271 - val_root_mean_squared_error: 20.1280\n",
            "Epoch 163/250\n",
            "43937/43937 [==============================] - 1s 21us/step - loss: 439.9902 - root_mean_squared_error: 20.9547 - val_loss: 402.2097 - val_root_mean_squared_error: 20.0512\n",
            "Epoch 164/250\n",
            "43937/43937 [==============================] - 1s 21us/step - loss: 444.2975 - root_mean_squared_error: 21.0621 - val_loss: 427.2547 - val_root_mean_squared_error: 20.6637\n",
            "Epoch 165/250\n",
            "43937/43937 [==============================] - 1s 22us/step - loss: 436.1518 - root_mean_squared_error: 20.8679 - val_loss: 393.1378 - val_root_mean_squared_error: 19.8235\n",
            "Epoch 166/250\n",
            "43937/43937 [==============================] - 1s 21us/step - loss: 437.6244 - root_mean_squared_error: 20.8959 - val_loss: 391.6551 - val_root_mean_squared_error: 19.7866\n",
            "Epoch 167/250\n",
            "43937/43937 [==============================] - 1s 21us/step - loss: 432.7844 - root_mean_squared_error: 20.7927 - val_loss: 399.1025 - val_root_mean_squared_error: 19.9739\n",
            "Epoch 168/250\n",
            "43937/43937 [==============================] - 1s 21us/step - loss: 435.3841 - root_mean_squared_error: 20.8504 - val_loss: 443.0407 - val_root_mean_squared_error: 21.0432\n",
            "Epoch 169/250\n",
            "43937/43937 [==============================] - 1s 20us/step - loss: 442.5833 - root_mean_squared_error: 21.0183 - val_loss: 391.5784 - val_root_mean_squared_error: 19.7850\n",
            "Epoch 170/250\n",
            "43937/43937 [==============================] - 1s 21us/step - loss: 425.4238 - root_mean_squared_error: 20.6094 - val_loss: 416.9464 - val_root_mean_squared_error: 20.4140\n",
            "Epoch 171/250\n",
            "43937/43937 [==============================] - 1s 21us/step - loss: 431.9291 - root_mean_squared_error: 20.7667 - val_loss: 394.7376 - val_root_mean_squared_error: 19.8646\n",
            "Epoch 172/250\n",
            "43937/43937 [==============================] - 1s 21us/step - loss: 430.2087 - root_mean_squared_error: 20.7235 - val_loss: 420.6834 - val_root_mean_squared_error: 20.5053\n",
            "Epoch 173/250\n",
            "43937/43937 [==============================] - 1s 21us/step - loss: 422.6773 - root_mean_squared_error: 20.5438 - val_loss: 406.3672 - val_root_mean_squared_error: 20.1546\n",
            "Epoch 174/250\n",
            "43937/43937 [==============================] - 1s 21us/step - loss: 426.9427 - root_mean_squared_error: 20.6483 - val_loss: 406.1406 - val_root_mean_squared_error: 20.1486\n",
            "Epoch 175/250\n",
            "43937/43937 [==============================] - 1s 20us/step - loss: 428.2396 - root_mean_squared_error: 20.6811 - val_loss: 431.0038 - val_root_mean_squared_error: 20.7544\n",
            "Epoch 176/250\n",
            "43937/43937 [==============================] - 1s 21us/step - loss: 431.5249 - root_mean_squared_error: 20.7585 - val_loss: 399.8666 - val_root_mean_squared_error: 19.9928\n",
            "Epoch 177/250\n",
            "43937/43937 [==============================] - 1s 22us/step - loss: 429.2088 - root_mean_squared_error: 20.7044 - val_loss: 390.1962 - val_root_mean_squared_error: 19.7497\n",
            "Epoch 178/250\n",
            "43937/43937 [==============================] - 1s 22us/step - loss: 424.6361 - root_mean_squared_error: 20.5929 - val_loss: 385.9713 - val_root_mean_squared_error: 19.6424\n",
            "Epoch 179/250\n",
            "43937/43937 [==============================] - 1s 22us/step - loss: 425.5401 - root_mean_squared_error: 20.6111 - val_loss: 383.7422 - val_root_mean_squared_error: 19.5863\n",
            "Epoch 180/250\n",
            "43937/43937 [==============================] - 1s 20us/step - loss: 416.5121 - root_mean_squared_error: 20.3926 - val_loss: 390.8353 - val_root_mean_squared_error: 19.7671\n",
            "Epoch 181/250\n",
            "43937/43937 [==============================] - 1s 21us/step - loss: 433.9869 - root_mean_squared_error: 20.8116 - val_loss: 432.9415 - val_root_mean_squared_error: 20.8017\n",
            "Epoch 182/250\n",
            "43937/43937 [==============================] - 1s 21us/step - loss: 433.7946 - root_mean_squared_error: 20.8095 - val_loss: 402.9828 - val_root_mean_squared_error: 20.0707\n",
            "Epoch 183/250\n",
            "43937/43937 [==============================] - 1s 22us/step - loss: 431.6583 - root_mean_squared_error: 20.7601 - val_loss: 394.2731 - val_root_mean_squared_error: 19.8520\n",
            "Epoch 184/250\n",
            "43937/43937 [==============================] - 1s 21us/step - loss: 420.6113 - root_mean_squared_error: 20.4939 - val_loss: 383.3168 - val_root_mean_squared_error: 19.5746\n",
            "Epoch 185/250\n",
            "43937/43937 [==============================] - 1s 21us/step - loss: 432.2090 - root_mean_squared_error: 20.7666 - val_loss: 399.7615 - val_root_mean_squared_error: 19.9910\n",
            "Epoch 186/250\n",
            "43937/43937 [==============================] - 1s 21us/step - loss: 442.3250 - root_mean_squared_error: 21.0108 - val_loss: 404.4111 - val_root_mean_squared_error: 20.1060\n",
            "Epoch 187/250\n",
            "43937/43937 [==============================] - 1s 21us/step - loss: 422.2172 - root_mean_squared_error: 20.5334 - val_loss: 389.0856 - val_root_mean_squared_error: 19.7225\n",
            "Epoch 188/250\n",
            "43937/43937 [==============================] - 1s 21us/step - loss: 425.8614 - root_mean_squared_error: 20.6218 - val_loss: 427.4448 - val_root_mean_squared_error: 20.6694\n",
            "Epoch 189/250\n",
            "43937/43937 [==============================] - 1s 21us/step - loss: 421.1948 - root_mean_squared_error: 20.5061 - val_loss: 391.7200 - val_root_mean_squared_error: 19.7868\n",
            "Epoch 190/250\n",
            "43937/43937 [==============================] - 1s 22us/step - loss: 420.2101 - root_mean_squared_error: 20.4820 - val_loss: 381.0867 - val_root_mean_squared_error: 19.5177\n",
            "Epoch 191/250\n",
            "43937/43937 [==============================] - 1s 22us/step - loss: 416.7367 - root_mean_squared_error: 20.4015 - val_loss: 389.2611 - val_root_mean_squared_error: 19.7264\n",
            "Epoch 192/250\n",
            "43937/43937 [==============================] - 1s 21us/step - loss: 413.9204 - root_mean_squared_error: 20.3258 - val_loss: 390.1738 - val_root_mean_squared_error: 19.7459\n",
            "Epoch 193/250\n",
            "43937/43937 [==============================] - 1s 23us/step - loss: 425.0721 - root_mean_squared_error: 20.5984 - val_loss: 438.7969 - val_root_mean_squared_error: 20.9408\n",
            "Epoch 194/250\n",
            "43937/43937 [==============================] - 1s 21us/step - loss: 429.7397 - root_mean_squared_error: 20.7026 - val_loss: 384.6581 - val_root_mean_squared_error: 19.6077\n",
            "Epoch 195/250\n",
            "43937/43937 [==============================] - 1s 21us/step - loss: 415.7757 - root_mean_squared_error: 20.3755 - val_loss: 388.5016 - val_root_mean_squared_error: 19.7067\n",
            "Epoch 196/250\n",
            "43937/43937 [==============================] - 1s 21us/step - loss: 416.0425 - root_mean_squared_error: 20.3816 - val_loss: 379.5434 - val_root_mean_squared_error: 19.4783\n",
            "Epoch 197/250\n",
            "43937/43937 [==============================] - 1s 22us/step - loss: 404.3256 - root_mean_squared_error: 20.0955 - val_loss: 382.6346 - val_root_mean_squared_error: 19.5573\n",
            "Epoch 198/250\n",
            "43937/43937 [==============================] - 1s 22us/step - loss: 413.7716 - root_mean_squared_error: 20.3252 - val_loss: 380.4992 - val_root_mean_squared_error: 19.5027\n",
            "Epoch 199/250\n",
            "43937/43937 [==============================] - 1s 21us/step - loss: 425.1477 - root_mean_squared_error: 20.5924 - val_loss: 438.6612 - val_root_mean_squared_error: 20.9347\n",
            "Epoch 200/250\n",
            "43937/43937 [==============================] - 1s 22us/step - loss: 420.2814 - root_mean_squared_error: 20.4787 - val_loss: 374.8844 - val_root_mean_squared_error: 19.3580\n",
            "Epoch 201/250\n",
            "43937/43937 [==============================] - 1s 21us/step - loss: 412.0407 - root_mean_squared_error: 20.2757 - val_loss: 404.6356 - val_root_mean_squared_error: 20.1124\n",
            "Epoch 202/250\n",
            "43937/43937 [==============================] - 1s 21us/step - loss: 429.7196 - root_mean_squared_error: 20.7050 - val_loss: 384.4031 - val_root_mean_squared_error: 19.6008\n",
            "Epoch 203/250\n",
            "43937/43937 [==============================] - 1s 21us/step - loss: 413.6306 - root_mean_squared_error: 20.3214 - val_loss: 371.9891 - val_root_mean_squared_error: 19.2831\n",
            "Epoch 204/250\n",
            "43937/43937 [==============================] - 1s 21us/step - loss: 410.4318 - root_mean_squared_error: 20.2430 - val_loss: 457.5600 - val_root_mean_squared_error: 21.3848\n",
            "Epoch 205/250\n",
            "43937/43937 [==============================] - 1s 21us/step - loss: 419.9980 - root_mean_squared_error: 20.4713 - val_loss: 427.2974 - val_root_mean_squared_error: 20.6661\n",
            "Epoch 206/250\n",
            "43937/43937 [==============================] - 1s 21us/step - loss: 415.7987 - root_mean_squared_error: 20.3758 - val_loss: 375.4913 - val_root_mean_squared_error: 19.3728\n",
            "Epoch 207/250\n",
            "43937/43937 [==============================] - 1s 21us/step - loss: 410.8256 - root_mean_squared_error: 20.2568 - val_loss: 375.9329 - val_root_mean_squared_error: 19.3860\n",
            "Epoch 208/250\n",
            "43937/43937 [==============================] - 1s 20us/step - loss: 409.6584 - root_mean_squared_error: 20.2222 - val_loss: 372.9837 - val_root_mean_squared_error: 19.3095\n",
            "Epoch 209/250\n",
            "43937/43937 [==============================] - 1s 21us/step - loss: 416.8237 - root_mean_squared_error: 20.3992 - val_loss: 374.0536 - val_root_mean_squared_error: 19.3366\n",
            "Epoch 210/250\n",
            "43937/43937 [==============================] - 1s 20us/step - loss: 400.1275 - root_mean_squared_error: 19.9918 - val_loss: 374.0902 - val_root_mean_squared_error: 19.3387\n",
            "Epoch 211/250\n",
            "43937/43937 [==============================] - 1s 20us/step - loss: 401.4940 - root_mean_squared_error: 20.0273 - val_loss: 376.8350 - val_root_mean_squared_error: 19.4085\n",
            "Epoch 212/250\n",
            "43937/43937 [==============================] - 1s 21us/step - loss: 409.1783 - root_mean_squared_error: 20.2086 - val_loss: 382.4012 - val_root_mean_squared_error: 19.5513\n",
            "Epoch 213/250\n",
            "43937/43937 [==============================] - 1s 20us/step - loss: 407.8430 - root_mean_squared_error: 20.1772 - val_loss: 372.9860 - val_root_mean_squared_error: 19.3097\n",
            "Epoch 214/250\n",
            "43937/43937 [==============================] - 1s 20us/step - loss: 418.3334 - root_mean_squared_error: 20.4261 - val_loss: 386.8714 - val_root_mean_squared_error: 19.6643\n",
            "Epoch 215/250\n",
            "43937/43937 [==============================] - 1s 21us/step - loss: 402.2912 - root_mean_squared_error: 20.0414 - val_loss: 372.7929 - val_root_mean_squared_error: 19.3057\n",
            "Epoch 216/250\n",
            "43937/43937 [==============================] - 1s 20us/step - loss: 397.2529 - root_mean_squared_error: 19.9205 - val_loss: 374.5357 - val_root_mean_squared_error: 19.3501\n",
            "Epoch 217/250\n",
            "43937/43937 [==============================] - 1s 21us/step - loss: 403.5153 - root_mean_squared_error: 20.0670 - val_loss: 367.1874 - val_root_mean_squared_error: 19.1588\n",
            "Epoch 218/250\n",
            "43937/43937 [==============================] - 1s 22us/step - loss: 399.1760 - root_mean_squared_error: 19.9664 - val_loss: 379.5309 - val_root_mean_squared_error: 19.4789\n",
            "Epoch 219/250\n",
            "43937/43937 [==============================] - 1s 21us/step - loss: 396.4964 - root_mean_squared_error: 19.8967 - val_loss: 387.1536 - val_root_mean_squared_error: 19.6737\n",
            "Epoch 220/250\n",
            "43937/43937 [==============================] - 1s 21us/step - loss: 408.8928 - root_mean_squared_error: 20.2048 - val_loss: 373.4095 - val_root_mean_squared_error: 19.3212\n",
            "Epoch 221/250\n",
            "43937/43937 [==============================] - 1s 21us/step - loss: 403.5191 - root_mean_squared_error: 20.0739 - val_loss: 403.2512 - val_root_mean_squared_error: 20.0777\n",
            "Epoch 222/250\n",
            "43937/43937 [==============================] - 1s 21us/step - loss: 408.7690 - root_mean_squared_error: 20.1989 - val_loss: 388.2042 - val_root_mean_squared_error: 19.6981\n",
            "Epoch 223/250\n",
            "43937/43937 [==============================] - 1s 21us/step - loss: 410.5360 - root_mean_squared_error: 20.2433 - val_loss: 392.2950 - val_root_mean_squared_error: 19.8034\n",
            "Epoch 224/250\n",
            "43937/43937 [==============================] - 1s 21us/step - loss: 390.8851 - root_mean_squared_error: 19.7614 - val_loss: 384.9855 - val_root_mean_squared_error: 19.6177\n",
            "Epoch 225/250\n",
            "43937/43937 [==============================] - 1s 21us/step - loss: 400.9858 - root_mean_squared_error: 20.0064 - val_loss: 370.3283 - val_root_mean_squared_error: 19.2403\n",
            "Epoch 226/250\n",
            "43937/43937 [==============================] - 1s 21us/step - loss: 410.1446 - root_mean_squared_error: 20.2293 - val_loss: 373.2287 - val_root_mean_squared_error: 19.3163\n",
            "Epoch 227/250\n",
            "43937/43937 [==============================] - 1s 21us/step - loss: 397.3141 - root_mean_squared_error: 19.9175 - val_loss: 375.5408 - val_root_mean_squared_error: 19.3733\n",
            "Epoch 228/250\n",
            "43937/43937 [==============================] - 1s 21us/step - loss: 397.2573 - root_mean_squared_error: 19.9136 - val_loss: 382.8282 - val_root_mean_squared_error: 19.5626\n",
            "Epoch 229/250\n",
            "43937/43937 [==============================] - 1s 21us/step - loss: 398.1513 - root_mean_squared_error: 19.9323 - val_loss: 363.3217 - val_root_mean_squared_error: 19.0581\n",
            "Epoch 230/250\n",
            "43937/43937 [==============================] - 1s 22us/step - loss: 391.5857 - root_mean_squared_error: 19.7757 - val_loss: 365.7056 - val_root_mean_squared_error: 19.1192\n",
            "Epoch 231/250\n",
            "43937/43937 [==============================] - 1s 21us/step - loss: 398.5206 - root_mean_squared_error: 19.9450 - val_loss: 365.1935 - val_root_mean_squared_error: 19.1071\n",
            "Epoch 232/250\n",
            "43937/43937 [==============================] - 1s 20us/step - loss: 393.1199 - root_mean_squared_error: 19.8122 - val_loss: 372.5948 - val_root_mean_squared_error: 19.2987\n",
            "Epoch 233/250\n",
            "43937/43937 [==============================] - 1s 20us/step - loss: 391.4505 - root_mean_squared_error: 19.7717 - val_loss: 388.7459 - val_root_mean_squared_error: 19.7123\n",
            "Epoch 234/250\n",
            "43937/43937 [==============================] - 1s 21us/step - loss: 402.0967 - root_mean_squared_error: 20.0316 - val_loss: 364.3883 - val_root_mean_squared_error: 19.0864\n",
            "Epoch 235/250\n",
            "43937/43937 [==============================] - 1s 22us/step - loss: 391.5177 - root_mean_squared_error: 19.7716 - val_loss: 362.1199 - val_root_mean_squared_error: 19.0261\n",
            "Epoch 236/250\n",
            "43937/43937 [==============================] - 1s 22us/step - loss: 393.5369 - root_mean_squared_error: 19.8223 - val_loss: 368.8678 - val_root_mean_squared_error: 19.2032\n",
            "Epoch 237/250\n",
            "43937/43937 [==============================] - 1s 21us/step - loss: 387.3973 - root_mean_squared_error: 19.6723 - val_loss: 386.6187 - val_root_mean_squared_error: 19.6584\n",
            "Epoch 238/250\n",
            "43937/43937 [==============================] - 1s 22us/step - loss: 403.3007 - root_mean_squared_error: 20.0632 - val_loss: 382.9978 - val_root_mean_squared_error: 19.5667\n",
            "Epoch 239/250\n",
            "43937/43937 [==============================] - 1s 21us/step - loss: 389.5966 - root_mean_squared_error: 19.7266 - val_loss: 364.8222 - val_root_mean_squared_error: 19.0976\n",
            "Epoch 240/250\n",
            "43937/43937 [==============================] - 1s 21us/step - loss: 407.9228 - root_mean_squared_error: 20.1711 - val_loss: 401.8082 - val_root_mean_squared_error: 20.0389\n",
            "Epoch 241/250\n",
            "43937/43937 [==============================] - 1s 21us/step - loss: 389.3816 - root_mean_squared_error: 19.7182 - val_loss: 358.0416 - val_root_mean_squared_error: 18.9197\n",
            "Epoch 242/250\n",
            "43937/43937 [==============================] - 1s 21us/step - loss: 386.7699 - root_mean_squared_error: 19.6538 - val_loss: 359.1255 - val_root_mean_squared_error: 18.9468\n",
            "Epoch 243/250\n",
            "43937/43937 [==============================] - 1s 21us/step - loss: 389.5917 - root_mean_squared_error: 19.7200 - val_loss: 358.1316 - val_root_mean_squared_error: 18.9215\n",
            "Epoch 244/250\n",
            "43937/43937 [==============================] - 1s 21us/step - loss: 397.0407 - root_mean_squared_error: 19.9099 - val_loss: 428.4478 - val_root_mean_squared_error: 20.6931\n",
            "Epoch 245/250\n",
            "43937/43937 [==============================] - 1s 21us/step - loss: 402.4391 - root_mean_squared_error: 20.0375 - val_loss: 369.4151 - val_root_mean_squared_error: 19.2184\n",
            "Epoch 246/250\n",
            "43937/43937 [==============================] - 1s 21us/step - loss: 384.1968 - root_mean_squared_error: 19.5853 - val_loss: 366.3396 - val_root_mean_squared_error: 19.1382\n",
            "Epoch 247/250\n",
            "43937/43937 [==============================] - 1s 22us/step - loss: 383.6108 - root_mean_squared_error: 19.5728 - val_loss: 368.5576 - val_root_mean_squared_error: 19.1958\n",
            "Epoch 248/250\n",
            "43937/43937 [==============================] - 1s 22us/step - loss: 402.5324 - root_mean_squared_error: 20.0368 - val_loss: 363.0389 - val_root_mean_squared_error: 19.0509\n",
            "Epoch 249/250\n",
            "43937/43937 [==============================] - 1s 22us/step - loss: 381.5775 - root_mean_squared_error: 19.5185 - val_loss: 356.0219 - val_root_mean_squared_error: 18.8656\n",
            "Epoch 250/250\n",
            "43937/43937 [==============================] - 1s 21us/step - loss: 390.0804 - root_mean_squared_error: 19.7328 - val_loss: 369.9854 - val_root_mean_squared_error: 19.2324\n"
          ],
          "name": "stdout"
        }
      ]
    },
    {
      "cell_type": "code",
      "metadata": {
        "id": "XFtwu_AJ9G7m",
        "colab_type": "code",
        "colab": {
          "base_uri": "https://localhost:8080/",
          "height": 663
        },
        "outputId": "ec3d6bb1-e1c9-469d-ad75-43a5d5c31e1c"
      },
      "source": [
        "cnnturbofan_2.summary()"
      ],
      "execution_count": 85,
      "outputs": [
        {
          "output_type": "stream",
          "text": [
            "Model: \"cnnturbofan\"\n",
            "_________________________________________________________________\n",
            "Layer (type)                 Output Shape              Param #   \n",
            "=================================================================\n",
            "input_3 (InputLayer)         (None, 20, 14, 1)         0         \n",
            "_________________________________________________________________\n",
            "conv0 (Conv2D)               (None, 20, 14, 10)        110       \n",
            "_________________________________________________________________\n",
            "activation_11 (Activation)   (None, 20, 14, 10)        0         \n",
            "_________________________________________________________________\n",
            "conv1 (Conv2D)               (None, 20, 14, 10)        1010      \n",
            "_________________________________________________________________\n",
            "activation_12 (Activation)   (None, 20, 14, 10)        0         \n",
            "_________________________________________________________________\n",
            "conv2 (Conv2D)               (None, 20, 14, 10)        1010      \n",
            "_________________________________________________________________\n",
            "activation_13 (Activation)   (None, 20, 14, 10)        0         \n",
            "_________________________________________________________________\n",
            "conv3 (Conv2D)               (None, 20, 14, 10)        1010      \n",
            "_________________________________________________________________\n",
            "activation_14 (Activation)   (None, 20, 14, 10)        0         \n",
            "_________________________________________________________________\n",
            "conv4 (Conv2D)               (None, 20, 14, 1)         31        \n",
            "_________________________________________________________________\n",
            "activation_15 (Activation)   (None, 20, 14, 1)         0         \n",
            "_________________________________________________________________\n",
            "flatten_3 (Flatten)          (None, 280)               0         \n",
            "_________________________________________________________________\n",
            "dropout_3 (Dropout)          (None, 280)               0         \n",
            "_________________________________________________________________\n",
            "fully-connected (Dense)      (None, 100)               28100     \n",
            "_________________________________________________________________\n",
            "rul-neuron (Dense)           (None, 1)                 101       \n",
            "=================================================================\n",
            "Total params: 31,372\n",
            "Trainable params: 31,372\n",
            "Non-trainable params: 0\n",
            "_________________________________________________________________\n"
          ],
          "name": "stdout"
        }
      ]
    },
    {
      "cell_type": "code",
      "metadata": {
        "id": "VK_Egmj89dZ0",
        "colab_type": "code",
        "colab": {
          "base_uri": "https://localhost:8080/",
          "height": 410
        },
        "outputId": "d6ac62a2-d18a-4713-8e93-8e9afe6215bc"
      },
      "source": [
        "#acc = history.history['mean_absolute_error']\n",
        "#val_acc = history.history['val_mean_absolute_error']\n",
        "loss = history_2.history['loss']\n",
        "val_loss = history_2.history['val_loss']\n",
        "\n",
        "epochs = range(len(loss))\n",
        "\n",
        "##plt.plot(epochs, acc, 'r', label='Training accuracy')\n",
        "#plt.plot(epochs, val_acc, 'b', label='Validation accuracy')\n",
        "#plt.title('Training and validation accuracy')\n",
        "#plt.legend()\n",
        "#plt.figure()\n",
        "\n",
        "plt.figure(figsize=(10,6))\n",
        "plt.grid(True) \n",
        "plt.plot(epochs, loss, 'black',lw=0.9, label='Training Loss')\n",
        "plt.plot(epochs, val_loss, 'orange',lw=0.9, label='Validation Loss')\n",
        "plt.plot(epochs, np.ones(len(epochs))*12.2, 'blue',lw=1.3,label='Threshold')\n",
        "plt.title('Training and validation loss')\n",
        "plt.legend()\n",
        "  \n",
        "\n",
        "plt.show()"
      ],
      "execution_count": 86,
      "outputs": [
        {
          "output_type": "display_data",
          "data": {
            "image/png": "[encoded data removed]",
            "text/plain": [
              "<Figure size 720x432 with 1 Axes>"
            ]
          },
          "metadata": {
            "tags": []
          }
        }
      ]
    },
    {
      "cell_type": "code",
      "metadata": {
        "id": "jBEx_e7b9qif",
        "colab_type": "code",
        "colab": {}
      },
      "source": [
        "holi_2 = cnnturbofan_2.predict(list2_2)"
      ],
      "execution_count": 0,
      "outputs": []
    },
    {
      "cell_type": "code",
      "metadata": {
        "id": "c14LKEAG-Ueu",
        "colab_type": "code",
        "colab": {
          "base_uri": "https://localhost:8080/",
          "height": 51
        },
        "outputId": "082c0632-863d-4203-d76c-2fde2b79a4f1"
      },
      "source": [
        "print(len(holi_2))\n",
        "print(len(list1_2))"
      ],
      "execution_count": 102,
      "outputs": [
        {
          "output_type": "stream",
          "text": [
            "259\n",
            "259\n"
          ],
          "name": "stdout"
        }
      ]
    },
    {
      "cell_type": "code",
      "metadata": {
        "id": "oJszmXFD-Z1K",
        "colab_type": "code",
        "colab": {
          "base_uri": "https://localhost:8080/",
          "height": 336
        },
        "outputId": "8fe909c2-023a-4af5-ac04-b5f5761952a4"
      },
      "source": [
        "leng = range(259)\n",
        "\n",
        "#plt.plot(leng, acc, 'r', label='Training accuracy')\n",
        "#plt.plot(leng, val_acc, 'b', label='Validation accuracy')\n",
        "#plt.title('Training and validation accuracy')\n",
        "#plt.legend()\n",
        "#plt.figure()\n",
        "\n",
        "plt.figure(figsize=(5,5))\n",
        "plt.grid(True) \n",
        "plt.plot(leng, holi_2, 'bo',lw=0.9, label='predict')\n",
        "plt.plot(leng, list1_2, 'ro',lw=0.9, label='true')\n",
        "plt.title('True and predict')\n",
        "plt.legend()\n",
        "  \n",
        "\n",
        "plt.show()"
      ],
      "execution_count": 103,
      "outputs": [
        {
          "output_type": "display_data",
          "data": {
            "image/png": "[encoded data removed]",
            "text/plain": [
              "<Figure size 360x360 with 1 Axes>"
            ]
          },
          "metadata": {
            "tags": []
          }
        }
      ]
    },
    {
      "cell_type": "code",
      "metadata": {
        "id": "xWLgNne6CK97",
        "colab_type": "code",
        "colab": {
          "base_uri": "https://localhost:8080/",
          "height": 34
        },
        "outputId": "9447e57e-a6e6-484e-b22f-83a6eaed79dc"
      },
      "source": [
        "rmse_2 = sqrt(mean_squared_error(holi_2, list1_2))\n",
        "print(rmse_2)"
      ],
      "execution_count": 104,
      "outputs": [
        {
          "output_type": "stream",
          "text": [
            "21.71992150526042\n"
          ],
          "name": "stdout"
        }
      ]
    },
    {
      "cell_type": "code",
      "metadata": {
        "id": "WTOxTjNUCTt4",
        "colab_type": "code",
        "colab": {}
      },
      "source": [
        ""
      ],
      "execution_count": 0,
      "outputs": []
    }
  ]
}